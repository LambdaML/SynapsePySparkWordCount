{
  "nbformat": 4,
  "nbformat_minor": 2,
  "cells": [
    {
      "cell_type": "markdown",
      "metadata": {},
      "source": [
        "# Twitter Sentiment Classification using Vowpal Wabbit in MMLSpark\n",
        "\n",
        "In this example, we show how to build a sentiment classification model using Vowpal Wabbit (VW) in MMLSpark. The data set we use to train and evaluate the model is [Sentiment140](http://help.sentiment140.com/for-students/?source=post_page---------------------------) twitter data. First, we import a few packages that we need."
      ]
    },
    {
      "cell_type": "code",
      "execution_count": 1,
      "outputs": [
        {
          "output_type": "display_data",
          "data": {
            "application/vnd.livy.statement-meta+json": {
              "spark_pool": "SamplePool",
              "session_id": 30,
              "statement_id": 1,
              "state": "finished",
              "livy_statement_state": "available",
              "queued_time": "2021-03-15T05:27:21.5598643Z",
              "execution_start_time": "2021-03-15T05:28:24.9911147Z",
              "execution_finish_time": "2021-03-15T05:28:27.0540406Z"
            },
            "text/plain": "StatementMeta(SamplePool, 30, 1, Finished, Available)"
          },
          "metadata": {}
        },
        {
          "output_type": "execute_result",
          "data": {
            "text/plain": ""
          },
          "execution_count": 1,
          "metadata": {}
        }
      ],
      "metadata": {},
      "source": [
        "import os\n",
        "import re\n",
        "import urllib.request\n",
        "import numpy as np\n",
        "import pandas as pd\n",
        "from zipfile import ZipFile\n",
        "from bs4 import BeautifulSoup\n",
        "from pyspark.sql.functions import udf, rand, when, col\n",
        "from pyspark.sql.types import StructType, StructField, DoubleType, StringType\n",
        "from pyspark.ml import Pipeline\n",
        "from pyspark.ml.feature import CountVectorizer, RegexTokenizer\n",
        "from mmlspark.vw import VowpalWabbitClassifier\n",
        "from mmlspark.train import ComputeModelStatistics\n",
        "from pyspark.mllib.evaluation import BinaryClassificationMetrics\n",
        "import matplotlib.pyplot as plt"
      ]
    },
    {
      "cell_type": "code",
      "execution_count": 2,
      "outputs": [
        {
          "output_type": "display_data",
          "data": {
            "application/vnd.livy.statement-meta+json": {
              "spark_pool": "SamplePool",
              "session_id": 30,
              "statement_id": 2,
              "state": "submitted",
              "livy_statement_state": "available",
              "queued_time": "2021-03-15T05:27:21.5615873Z",
              "execution_start_time": "2021-03-15T05:28:27.154426Z",
              "execution_finish_time": null
            },
            "text/plain": "StatementMeta(SamplePool, 30, 2, Submitted, Available)"
          },
          "metadata": {}
        },
        {
          "output_type": "execute_result",
          "data": {
            "text/plain": ""
          },
          "execution_count": 2,
          "metadata": {}
        }
      ],
      "metadata": {},
      "source": [
        "# URL to download the sentiment140 dataset and data file names\n",
        "DATA_URL = \"http://cs.stanford.edu/people/alecmgo/trainingandtestdata.zip\"\n",
        "TRAIN_FILENAME = \"training.1600000.processed.noemoticon.csv\"\n",
        "TEST_FILENAME = \"testdata.manual.2009.06.14.csv\"\n",
        "# Folder for storing the downloaded data\n",
        "DATA_FOLDER = \"data\"\n",
        "# Data column names\n",
        "COL_NAMES = [\"label\", \"id\", \"date\", \"query_string\", \"user\", \"text\"]\n",
        "# Text encoding type of the data\n",
        "ENCODING = \"iso-8859-1\""
      ]
    },
    {
      "cell_type": "markdown",
      "metadata": {},
      "source": [
        "## Data Preparation\n",
        "\n",
        "We use [Sentiment140](http://help.sentiment140.com/for-students/?source=post_page---------------------------) twitter data which originated from a Standford research project to train and evaluate VW classification model on Spark. The same dataset has been used in a previous [Azure Machine Learning sample](https://github.com/Azure-Samples/MachineLearningSamples-TwitterSentimentPrediction) on twitter sentiment prediction. Before using the data to build the classification model, we first download and clean up the data."
      ]
    },
    {
      "cell_type": "code",
      "execution_count": 3,
      "outputs": [
        {
          "output_type": "display_data",
          "data": {
            "application/vnd.livy.statement-meta+json": {
              "spark_pool": "SamplePool",
              "session_id": 30,
              "statement_id": 3,
              "state": "finished",
              "livy_statement_state": "available",
              "queued_time": "2021-03-15T05:27:21.5637611Z",
              "execution_start_time": "2021-03-15T05:28:27.2501648Z",
              "execution_finish_time": "2021-03-15T05:28:33.4511937Z"
            },
            "text/plain": "StatementMeta(SamplePool, 30, 3, Finished, Available)"
          },
          "metadata": {}
        },
        {
          "output_type": "execute_result",
          "data": {
            "text/plain": "Downloading data...\nExtracting data...\nFinished data downloading and extraction."
          },
          "execution_count": 3,
          "metadata": {}
        }
      ],
      "metadata": {},
      "source": [
        "def download_data(url, data_folder=DATA_FOLDER, filename=\"downloaded_data.zip\"):\n",
        "    \"\"\"Download and extract data from url\"\"\"\n",
        "    \n",
        "    data_dir = \"./\" + DATA_FOLDER\n",
        "    if not os.path.exists(data_dir): os.makedirs(data_dir)\n",
        "    downloaded_filepath = os.path.join(data_dir, filename)\n",
        "    print(\"Downloading data...\")\n",
        "    urllib.request.urlretrieve(url, downloaded_filepath)\n",
        "    print(\"Extracting data...\")\n",
        "    zipfile = ZipFile(downloaded_filepath)\n",
        "    zipfile.extractall(data_dir)\n",
        "    zipfile.close()\n",
        "    print(\"Finished data downloading and extraction.\")\n",
        "    \n",
        "download_data(DATA_URL)"
      ]
    },
    {
      "cell_type": "markdown",
      "metadata": {},
      "source": [
        "Let's read the training data into a Spark DataFrame."
      ]
    },
    {
      "cell_type": "code",
      "execution_count": 4,
      "outputs": [
        {
          "output_type": "display_data",
          "data": {
            "application/vnd.livy.statement-meta+json": {
              "spark_pool": "SamplePool",
              "session_id": 30,
              "statement_id": 4,
              "state": "finished",
              "livy_statement_state": "available",
              "queued_time": "2021-03-15T05:27:21.565652Z",
              "execution_start_time": "2021-03-15T05:28:33.5602987Z",
              "execution_finish_time": "2021-03-15T05:29:58.1492103Z"
            },
            "text/plain": "StatementMeta(SamplePool, 30, 4, Finished, Available)"
          },
          "metadata": {}
        },
        {
          "output_type": "execute_result",
          "data": {
            "text/plain": "/opt/spark/python/lib/pyspark.zip/pyspark/sql/session.py:714: UserWarning: createDataFrame attempted Arrow optimization because 'spark.sql.execution.arrow.enabled' is set to true; however, failed by the reason below:\n  'JavaPackage' object is not callable\nAttempting non-optimization as 'spark.sql.execution.arrow.fallback.enabled' is set to true."
          },
          "execution_count": 4,
          "metadata": {}
        }
      ],
      "metadata": {},
      "source": [
        "df_train = pd.read_csv(os.path.join(\".\", DATA_FOLDER, TRAIN_FILENAME), \n",
        "                       header=None, names=COL_NAMES, encoding=ENCODING)\n",
        "df_train = spark.createDataFrame(df_train, verifySchema=False)"
      ]
    },
    {
      "cell_type": "markdown",
      "metadata": {},
      "source": [
        "We can take a look at the training data and check how many samples it has. We should see that there are 1.6 million samples in the training data. There are 6 fields in the training data:\n",
        "* label: the sentiment of the tweet (0.0 = negative, 2.0 = neutral, 4.0 = positive)\n",
        "* id: the id of the tweet\n",
        "* date: the date of the tweet\n",
        "* query_string: The query used to extract the data. If there is no query, then this value is NO_QUERY.\n",
        "* user: the user that tweeted\n",
        "* text: the text of the tweet"
      ]
    },
    {
      "cell_type": "code",
      "execution_count": 5,
      "outputs": [
        {
          "output_type": "display_data",
          "data": {
            "application/vnd.livy.statement-meta+json": {
              "spark_pool": "SamplePool",
              "session_id": 30,
              "statement_id": 5,
              "state": "finished",
              "livy_statement_state": "available",
              "queued_time": "2021-03-15T05:27:21.5671779Z",
              "execution_start_time": "2021-03-15T05:29:58.2492919Z",
              "execution_finish_time": "2021-03-15T05:30:04.4723254Z"
            },
            "text/plain": "StatementMeta(SamplePool, 30, 5, Finished, Available)"
          },
          "metadata": {}
        },
        {
          "output_type": "execute_result",
          "data": {
            "text/plain": "   label  ...                                               text\n0      0  ...  I want to take a walk  I hope someone wants to...\n1      0  ...  ow. check out elimination episode of American ...\n2      0  ...  ..... guess I'll have to be a productive membe...\n3      0  ...  v disappointed i can't go to see Ane Brun and ...\n4      0  ...  @Rebeckela id confront you... but i dont have ...\n5      0  ...                   messin around with visual basic \n6      0  ...  @SEPIS haha yeea  i should to go to sleep i ha...\n7      0  ...  @iGrandmaTV Sorry I missed the show last night...\n8      0  ...  Soooo miserable. :'( worst day yet. Cant wait ...\n9      0  ...  what happen to my phone? can connet to the int...\n\n[10 rows x 6 columns]"
          },
          "execution_count": 5,
          "metadata": {}
        }
      ],
      "metadata": {},
      "source": [
        "df_train.limit(10).toPandas()"
      ]
    },
    {
      "cell_type": "code",
      "execution_count": 6,
      "outputs": [
        {
          "output_type": "display_data",
          "data": {
            "application/vnd.livy.statement-meta+json": {
              "spark_pool": "SamplePool",
              "session_id": 30,
              "statement_id": 6,
              "state": "finished",
              "livy_statement_state": "available",
              "queued_time": "2021-03-15T05:27:21.5692601Z",
              "execution_start_time": "2021-03-15T05:30:04.6367437Z",
              "execution_finish_time": "2021-03-15T05:30:08.7712236Z"
            },
            "text/plain": "StatementMeta(SamplePool, 30, 6, Finished, Available)"
          },
          "metadata": {}
        },
        {
          "output_type": "execute_result",
          "data": {
            "text/plain": "Number of training samples:  1600000"
          },
          "execution_count": 6,
          "metadata": {}
        }
      ],
      "metadata": {},
      "source": [
        "print(\"Number of training samples: \", df_train.count())"
      ]
    },
    {
      "cell_type": "markdown",
      "metadata": {},
      "source": [
        "Before training the model, we randomly permute the data to mix negative and positive samples. This is helpful for properly training online learning algorithms like VW. To speed up model training, we use a subset of the data to train the model. If training with the full training set, typically you will see better performance of the model on the test set. "
      ]
    },
    {
      "cell_type": "code",
      "execution_count": 7,
      "outputs": [
        {
          "output_type": "display_data",
          "data": {
            "application/vnd.livy.statement-meta+json": {
              "spark_pool": "SamplePool",
              "session_id": 30,
              "statement_id": 7,
              "state": "finished",
              "livy_statement_state": "available",
              "queued_time": "2021-03-15T05:27:21.5714359Z",
              "execution_start_time": "2021-03-15T05:30:08.8664972Z",
              "execution_finish_time": "2021-03-15T05:30:10.922761Z"
            },
            "text/plain": "StatementMeta(SamplePool, 30, 7, Finished, Available)"
          },
          "metadata": {}
        },
        {
          "output_type": "execute_result",
          "data": {
            "text/plain": ""
          },
          "execution_count": 7,
          "metadata": {}
        }
      ],
      "metadata": {},
      "source": [
        "df_train = df_train.orderBy(rand()) \\\n",
        "                   .limit(100000) \\\n",
        "                   .withColumn(\"label\", when(col(\"label\") > 0, 1.0).otherwise(0.0)) \\\n",
        "                   .select([\"label\", \"text\"])"
      ]
    },
    {
      "cell_type": "markdown",
      "metadata": {},
      "source": [
        "## VW MMLSpark Training\n",
        "\n",
        "Now we are ready to define a pipeline which consists of feture engineering steps and the VW model."
      ]
    },
    {
      "cell_type": "code",
      "execution_count": 8,
      "outputs": [
        {
          "output_type": "display_data",
          "data": {
            "application/vnd.livy.statement-meta+json": {
              "spark_pool": "SamplePool",
              "session_id": 30,
              "statement_id": 8,
              "state": "finished",
              "livy_statement_state": "available",
              "queued_time": "2021-03-15T05:27:21.5736385Z",
              "execution_start_time": "2021-03-15T05:30:11.0212157Z",
              "execution_finish_time": "2021-03-15T05:30:13.0768913Z"
            },
            "text/plain": "StatementMeta(SamplePool, 30, 8, Finished, Available)"
          },
          "metadata": {}
        },
        {
          "output_type": "execute_result",
          "data": {
            "text/plain": ""
          },
          "execution_count": 8,
          "metadata": {}
        }
      ],
      "metadata": {},
      "source": [
        "# Specify featurizers\n",
        "tokenizer = RegexTokenizer(inputCol=\"text\",\n",
        "                           outputCol=\"words\")\n",
        "\n",
        "count_vectorizer = CountVectorizer(inputCol=\"words\",\n",
        "                                   outputCol=\"features\")\n",
        "\n",
        "# Define VW classification model\n",
        "args = \"--loss_function=logistic --quiet --holdout_off\"\n",
        "vw_model = VowpalWabbitClassifier(featuresCol=\"features\", \n",
        "                                  labelCol=\"label\", \n",
        "                                  args=args, \n",
        "                                  numPasses=10)\n",
        "\n",
        "# Create a pipeline\n",
        "vw_pipeline = Pipeline(stages=[tokenizer, count_vectorizer, vw_model])"
      ]
    },
    {
      "cell_type": "markdown",
      "metadata": {},
      "source": [
        "With the prepared training data, we can fit the model pipeline as follows."
      ]
    },
    {
      "cell_type": "code",
      "execution_count": 9,
      "outputs": [
        {
          "output_type": "display_data",
          "data": {
            "application/vnd.livy.statement-meta+json": {
              "spark_pool": "SamplePool",
              "session_id": 30,
              "statement_id": 9,
              "state": "finished",
              "livy_statement_state": "available",
              "queued_time": "2021-03-15T05:27:21.5756677Z",
              "execution_start_time": "2021-03-15T05:30:13.1696447Z",
              "execution_finish_time": "2021-03-15T05:30:35.8169319Z"
            },
            "text/plain": "StatementMeta(SamplePool, 30, 9, Finished, Available)"
          },
          "metadata": {}
        },
        {
          "output_type": "execute_result",
          "data": {
            "text/plain": ""
          },
          "execution_count": 9,
          "metadata": {}
        }
      ],
      "metadata": {},
      "source": [
        "vw_trained = vw_pipeline.fit(df_train)"
      ]
    },
    {
      "cell_type": "markdown",
      "metadata": {},
      "source": [
        "## Model Performance Evaluation\n",
        "\n",
        "After training the model, we evaluate the performance of the model using the test set which is manually labeled."
      ]
    },
    {
      "cell_type": "code",
      "execution_count": 10,
      "outputs": [
        {
          "output_type": "display_data",
          "data": {
            "application/vnd.livy.statement-meta+json": {
              "spark_pool": "SamplePool",
              "session_id": 30,
              "statement_id": 10,
              "state": "finished",
              "livy_statement_state": "available",
              "queued_time": "2021-03-15T05:27:21.5776097Z",
              "execution_start_time": "2021-03-15T05:30:35.9167545Z",
              "execution_finish_time": "2021-03-15T05:30:37.9835402Z"
            },
            "text/plain": "StatementMeta(SamplePool, 30, 10, Finished, Available)"
          },
          "metadata": {}
        },
        {
          "output_type": "execute_result",
          "data": {
            "text/plain": ""
          },
          "execution_count": 10,
          "metadata": {}
        }
      ],
      "metadata": {},
      "source": [
        "df_test = pd.read_csv(os.path.join(\".\", DATA_FOLDER, TEST_FILENAME), \n",
        "                       header=None, names=COL_NAMES, encoding=ENCODING)\n",
        "df_test = spark.createDataFrame(df_test, verifySchema=False)"
      ]
    },
    {
      "cell_type": "markdown",
      "metadata": {},
      "source": [
        "We only use positive and negative tweets in the test set to evaluate the model, since our model is a binary classification model trained with only positive and negative tweets."
      ]
    },
    {
      "cell_type": "code",
      "execution_count": 11,
      "outputs": [
        {
          "output_type": "display_data",
          "data": {
            "application/vnd.livy.statement-meta+json": {
              "spark_pool": "SamplePool",
              "session_id": 30,
              "statement_id": 11,
              "state": "finished",
              "livy_statement_state": "available",
              "queued_time": "2021-03-15T05:27:21.5796172Z",
              "execution_start_time": "2021-03-15T05:30:38.0818785Z",
              "execution_finish_time": "2021-03-15T05:30:40.2144955Z"
            },
            "text/plain": "StatementMeta(SamplePool, 30, 11, Finished, Available)"
          },
          "metadata": {}
        },
        {
          "output_type": "execute_result",
          "data": {
            "text/plain": "Number of test samples before filtering:  498\nNumber of test samples after filtering:  359"
          },
          "execution_count": 11,
          "metadata": {}
        }
      ],
      "metadata": {},
      "source": [
        "print(\"Number of test samples before filtering: \", df_test.count())\n",
        "df_test = df_test.filter(col(\"label\") != 2.0) \\\n",
        "                 .withColumn(\"label\", when(col(\"label\") > 0, 1.0).otherwise(0.0)) \\\n",
        "                 .select([\"label\", \"text\"])\n",
        "print(\"Number of test samples after filtering: \", df_test.count())"
      ]
    },
    {
      "cell_type": "code",
      "execution_count": 12,
      "outputs": [
        {
          "output_type": "display_data",
          "data": {
            "application/vnd.livy.statement-meta+json": {
              "spark_pool": "SamplePool",
              "session_id": 30,
              "statement_id": 12,
              "state": "finished",
              "livy_statement_state": "available",
              "queued_time": "2021-03-15T05:27:21.5815037Z",
              "execution_start_time": "2021-03-15T05:30:40.3131737Z",
              "execution_finish_time": "2021-03-15T05:30:42.3743803Z"
            },
            "text/plain": "StatementMeta(SamplePool, 30, 12, Finished, Available)"
          },
          "metadata": {}
        },
        {
          "output_type": "execute_result",
          "data": {
            "text/plain": "   label  ... prediction\n0    1.0  ...        0.0\n1    1.0  ...        1.0\n2    1.0  ...        1.0\n3    1.0  ...        1.0\n4    1.0  ...        1.0\n5    1.0  ...        1.0\n6    0.0  ...        0.0\n7    1.0  ...        1.0\n8    1.0  ...        1.0\n9    1.0  ...        1.0\n\n[10 rows x 7 columns]\n/opt/spark/python/lib/pyspark.zip/pyspark/sql/dataframe.py:2110: UserWarning: toPandas attempted Arrow optimization because 'spark.sql.execution.arrow.enabled' is set to true; however, failed by the reason below:\n  Unsupported type in conversion to Arrow: VectorUDT\nAttempting non-optimization as 'spark.sql.execution.arrow.fallback.enabled' is set to true.\n  warnings.warn(msg)"
          },
          "execution_count": 12,
          "metadata": {}
        }
      ],
      "metadata": {},
      "source": [
        "# Make predictions\n",
        "predictions = vw_trained.transform(df_test)\n",
        "predictions.limit(10).toPandas()"
      ]
    },
    {
      "cell_type": "code",
      "execution_count": 13,
      "outputs": [
        {
          "output_type": "display_data",
          "data": {
            "application/vnd.livy.statement-meta+json": {
              "spark_pool": "SamplePool",
              "session_id": 30,
              "statement_id": 13,
              "state": "finished",
              "livy_statement_state": "available",
              "queued_time": "2021-03-15T05:27:21.583252Z",
              "execution_start_time": "2021-03-15T05:30:42.4728708Z",
              "execution_finish_time": "2021-03-15T05:30:46.6196513Z"
            },
            "text/plain": "StatementMeta(SamplePool, 30, 13, Finished, Available)"
          },
          "metadata": {}
        },
        {
          "output_type": "execute_result",
          "data": {
            "text/plain": "  evaluation_type  ...       AUC\n0  Classification  ...  0.781834\n\n[1 rows x 6 columns]\n/opt/spark/python/lib/pyspark.zip/pyspark/sql/dataframe.py:2110: UserWarning: toPandas attempted Arrow optimization because 'spark.sql.execution.arrow.enabled' is set to true; however, failed by the reason below:\n  Unsupported type in conversion to Arrow: MatrixUDT\nAttempting non-optimization as 'spark.sql.execution.arrow.fallback.enabled' is set to true.\n  warnings.warn(msg)"
          },
          "execution_count": 13,
          "metadata": {}
        }
      ],
      "metadata": {},
      "source": [
        "# Compute model performance metrics\n",
        "metrics = ComputeModelStatistics(evaluationMetric=\"classification\", \n",
        "                                 labelCol=\"label\", \n",
        "                                 scoredLabelsCol=\"prediction\").transform(predictions)\n",
        "metrics.toPandas()"
      ]
    },
    {
      "cell_type": "code",
      "execution_count": 14,
      "outputs": [
        {
          "output_type": "display_data",
          "data": {
            "application/vnd.livy.statement-meta+json": {
              "spark_pool": "SamplePool",
              "session_id": 30,
              "statement_id": 14,
              "state": "finished",
              "livy_statement_state": "available",
              "queued_time": "2021-03-15T05:27:21.5852975Z",
              "execution_start_time": "2021-03-15T05:30:46.7160584Z",
              "execution_finish_time": "2021-03-15T05:30:48.7924869Z"
            },
            "text/plain": "StatementMeta(SamplePool, 30, 14, Finished, Available)"
          },
          "metadata": {}
        },
        {
          "output_type": "display_data",
          "data": {
            "image/png": "[encoded data removed]"
          },
          "metadata": {}
        },
        {
          "output_type": "execute_result",
          "data": {},
          "execution_count": 14,
          "metadata": {}
        }
      ],
      "metadata": {},
      "source": [
        "# Utility class for plotting ROC curve (https://stackoverflow.com/questions/52847408/pyspark-extract-roc-curve)\n",
        "class CurveMetrics(BinaryClassificationMetrics):\n",
        "    def __init__(self, *args):\n",
        "        super(CurveMetrics, self).__init__(*args)\n",
        "\n",
        "    def get_curve(self, method):\n",
        "        rdd = getattr(self._java_model, method)().toJavaRDD()\n",
        "        points = []\n",
        "        for row in rdd.collect():\n",
        "            points += [(float(row._1()), float(row._2()))]\n",
        "        return points\n",
        "\n",
        "preds = predictions.select(\"label\", \"probability\") \\\n",
        "                   .rdd.map(lambda row: (float(row[\"probability\"][1]), float(row[\"label\"])))\n",
        "roc_points = CurveMetrics(preds).get_curve(\"roc\")\n",
        "\n",
        "# Plot ROC curve\n",
        "fig = plt.figure()\n",
        "x_val = [x[0] for x in roc_points]\n",
        "y_val = [x[1] for x in roc_points]\n",
        "plt.title(\"ROC curve on test set\")\n",
        "plt.xlabel(\"False positive rate\")\n",
        "plt.ylabel(\"True positive rate\")\n",
        "plt.plot(x_val, y_val)\n",
        "\n",
        "# display(fig)\n",
        "plt.show()"
      ]
    },
    {
      "cell_type": "markdown",
      "metadata": {},
      "source": [
        "You should see an ROC curve like the following after the above cell is executed. \n",
        "\n",
        "<img src=\"https://user-images.githubusercontent.com/20047467/69376052-9b0a3380-0c77-11ea-9266-11aa44350cbe.png\" width=\"400\" height=\"320\">"
      ]
    },
    {
      "cell_type": "code",
      "execution_count": 15,
      "outputs": [
        {
          "output_type": "display_data",
          "data": {
            "application/vnd.livy.statement-meta+json": {
              "spark_pool": "SamplePool",
              "session_id": 30,
              "statement_id": 15,
              "state": "finished",
              "livy_statement_state": "available",
              "queued_time": "2021-03-15T05:27:21.5874104Z",
              "execution_start_time": "2021-03-15T05:30:48.8977645Z",
              "execution_finish_time": "2021-03-15T05:30:50.9503112Z"
            },
            "text/plain": "StatementMeta(SamplePool, 30, 15, Finished, Available)"
          },
          "metadata": {}
        },
        {
          "output_type": "execute_result",
          "data": {
            "text/plain": ""
          },
          "execution_count": 15,
          "metadata": {}
        }
      ],
      "metadata": {
        "jupyter": {
          "source_hidden": false,
          "outputs_hidden": false
        },
        "nteract": {
          "transient": {
            "deleting": false
          }
        },
        "collapsed": true
      },
      "source": [
        "spark.stop()"
      ]
    }
  ],
  "metadata": {
    "save_output": true,
    "kernelspec": {
      "name": "synapse_pyspark",
      "display_name": "Synapse PySpark"
    },
    "language_info": {
      "name": "python"
    },
    "synapse_widget": {
      "version": "0.1",
      "state": {}
    }
  }
}