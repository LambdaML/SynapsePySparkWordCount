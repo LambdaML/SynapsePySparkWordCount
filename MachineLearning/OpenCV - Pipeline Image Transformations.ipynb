{
  "nbformat": 4,
  "nbformat_minor": 2,
  "cells": [
    {
      "cell_type": "markdown",
      "metadata": {},
      "source": [
        "## 302 - Pipeline Image Transformation with OpenCV\n",
        "\n",
        "This example shows how to manipulate the collection of images.\n",
        "First, the images are downloaded to the local directory.\n",
        "Second, they are copied to your cluster's attached HDFS."
      ]
    },
    {
      "cell_type": "markdown",
      "metadata": {},
      "source": [
        "The images are loaded from the directory (for fast prototyping, consider loading a fraction of\n",
        "images). Inside the dataframe, each image is a single field in the image column. The image has\n",
        "sub-fields (path, height, width, OpenCV type and OpenCV bytes)."
      ]
    },
    {
      "cell_type": "code",
      "execution_count": 1,
      "outputs": [
        {
          "output_type": "display_data",
          "data": {
            "application/vnd.livy.statement-meta+json": {
              "spark_pool": "SamplePool",
              "session_id": 40,
              "statement_id": 1,
              "state": "finished",
              "livy_statement_state": "available",
              "queued_time": "2021-03-15T08:36:37.9465541Z",
              "execution_start_time": "2021-03-15T08:37:15.0696836Z",
              "execution_finish_time": "2021-03-15T08:37:31.5962491Z"
            },
            "text/plain": "StatementMeta(SamplePool, 40, 1, Finished, Available)"
          },
          "metadata": {}
        },
        {
          "output_type": "execute_result",
          "data": {
            "text/plain": "root\n |-- image: struct (nullable = true)\n |    |-- origin: string (nullable = true)\n |    |-- height: integer (nullable = true)\n |    |-- width: integer (nullable = true)\n |    |-- nChannels: integer (nullable = true)\n |    |-- mode: integer (nullable = true)\n |    |-- data: binary (nullable = true)\n\n2443"
          },
          "execution_count": 1,
          "metadata": {}
        }
      ],
      "metadata": {},
      "source": [
        "import mmlspark\n",
        "import numpy as np\n",
        "from mmlspark.opencv import toNDArray\n",
        "from mmlspark.io import *\n",
        "\n",
        "imageDir = \"wasbs://publicwasb@mmlspark.blob.core.windows.net/sampleImages\"\n",
        "images = spark.read.image().load(imageDir).cache()\n",
        "images.printSchema()\n",
        "print(images.count())"
      ]
    },
    {
      "cell_type": "markdown",
      "metadata": {},
      "source": [
        "We can also alternatively stream the images with a similiar api.\n",
        "Check the [Structured Streaming Programming Guide](https://spark.apache.org/docs/latest/structured-streaming-programming-guide.html)\n",
        "for more details on streaming."
      ]
    },
    {
      "cell_type": "code",
      "execution_count": 2,
      "outputs": [
        {
          "output_type": "display_data",
          "data": {
            "application/vnd.livy.statement-meta+json": {
              "spark_pool": "SamplePool",
              "session_id": 40,
              "statement_id": 2,
              "state": "finished",
              "livy_statement_state": "available",
              "queued_time": "2021-03-15T08:36:37.9479756Z",
              "execution_start_time": "2021-03-15T08:37:31.7010311Z",
              "execution_finish_time": "2021-03-15T08:37:37.8881108Z"
            },
            "text/plain": "StatementMeta(SamplePool, 40, 2, Finished, Available)"
          },
          "metadata": {}
        },
        {
          "output_type": "execute_result",
          "data": {
            "text/plain": "Streaming query activity: True"
          },
          "execution_count": 2,
          "metadata": {}
        }
      ],
      "metadata": {},
      "source": [
        "imageStream = spark.readStream.image().load(imageDir)\n",
        "query = imageStream.select(\"image.height\").writeStream.format(\"memory\").queryName(\"heights\").start()\n",
        "print(\"Streaming query activity: {}\".format(query.isActive))"
      ]
    },
    {
      "cell_type": "markdown",
      "metadata": {},
      "source": [
        "Wait a few seconds and then try querying for the images below.\n",
        "Note that when streaming a directory of images that already exists it will\n",
        "consume all images in a single batch. If one were to move images into the\n",
        "directory, the streaming engine would pick up on them and send them as\n",
        "another batch."
      ]
    },
    {
      "cell_type": "code",
      "execution_count": 3,
      "outputs": [
        {
          "output_type": "display_data",
          "data": {
            "application/vnd.livy.statement-meta+json": {
              "spark_pool": "SamplePool",
              "session_id": 40,
              "statement_id": 3,
              "state": "finished",
              "livy_statement_state": "available",
              "queued_time": "2021-03-15T08:36:37.9491778Z",
              "execution_start_time": "2021-03-15T08:37:37.9907471Z",
              "execution_finish_time": "2021-03-15T08:37:46.2910394Z"
            },
            "text/plain": "StatementMeta(SamplePool, 40, 3, Finished, Available)"
          },
          "metadata": {}
        },
        {
          "output_type": "execute_result",
          "data": {
            "text/plain": "Streamed 0 heights"
          },
          "execution_count": 3,
          "metadata": {}
        }
      ],
      "metadata": {},
      "source": [
        "heights = spark.sql(\"select * from heights\")\n",
        "print(\"Streamed {} heights\".format(heights.count()))"
      ]
    },
    {
      "cell_type": "markdown",
      "metadata": {},
      "source": [
        "After we have streamed the images we can stop the query:"
      ]
    },
    {
      "cell_type": "code",
      "execution_count": 4,
      "outputs": [
        {
          "output_type": "display_data",
          "data": {
            "application/vnd.livy.statement-meta+json": {
              "spark_pool": "SamplePool",
              "session_id": 40,
              "statement_id": 4,
              "state": "finished",
              "livy_statement_state": "available",
              "queued_time": "2021-03-15T08:36:37.9503899Z",
              "execution_start_time": "2021-03-15T08:37:46.3985643Z",
              "execution_finish_time": "2021-03-15T08:37:48.4528585Z"
            },
            "text/plain": "StatementMeta(SamplePool, 40, 4, Finished, Available)"
          },
          "metadata": {}
        },
        {
          "output_type": "execute_result",
          "data": {
            "text/plain": ""
          },
          "execution_count": 4,
          "metadata": {}
        }
      ],
      "metadata": {},
      "source": [
        "query.stop()"
      ]
    },
    {
      "cell_type": "markdown",
      "metadata": {},
      "source": [
        "When collected from the *DataFrame*, the image data are stored in a *Row*, which is Spark's way\n",
        "to represent structures (in the current example, each dataframe row has a single Image, which\n",
        "itself is a Row).  It is possible to address image fields by name and use `toNDArray()` helper\n",
        "function to convert the image into numpy array for further manipulations."
      ]
    },
    {
      "cell_type": "code",
      "execution_count": 5,
      "outputs": [
        {
          "output_type": "display_data",
          "data": {
            "application/vnd.livy.statement-meta+json": {
              "spark_pool": "SamplePool",
              "session_id": 40,
              "statement_id": 5,
              "state": "finished",
              "livy_statement_state": "available",
              "queued_time": "2021-03-15T08:36:37.951771Z",
              "execution_start_time": "2021-03-15T08:37:48.5491798Z",
              "execution_finish_time": "2021-03-15T08:37:50.6132265Z"
            },
            "text/plain": "StatementMeta(SamplePool, 40, 5, Finished, Available)"
          },
          "metadata": {}
        },
        {
          "output_type": "execute_result",
          "data": {
            "text/plain": "image type: <class 'pyspark.sql.types.Row'>, number of fields: 6\nimage path: wasbs://publicwasb@mmlspark.blob.core.windows.net/sampleImages/00762.png\nheight: 32, width: 32, OpenCV type: 16\n2443"
          },
          "execution_count": 5,
          "metadata": {}
        }
      ],
      "metadata": {},
      "source": [
        "from PIL import Image\n",
        "\n",
        "data = images.take(3)    # take first three rows of the dataframe\n",
        "im = data[2][0]          # the image is in the first column of a given row\n",
        "\n",
        "print(\"image type: {}, number of fields: {}\".format(type(im), len(im)))\n",
        "print(\"image path: {}\".format(im.origin))\n",
        "print(\"height: {}, width: {}, OpenCV type: {}\".format(im.height, im.width, im.mode))\n",
        "\n",
        "arr = toNDArray(im)     # convert to numpy array\n",
        "Image.fromarray(arr, \"RGB\")   # display the image inside notebook\n",
        "print(images.count())"
      ]
    },
    {
      "cell_type": "markdown",
      "metadata": {},
      "source": [
        "Use `ImageTransformer` for the basic image manipulation: resizing, cropping, etc.\n",
        "Internally, operations are pipelined and backed by OpenCV implementation."
      ]
    },
    {
      "cell_type": "code",
      "execution_count": 6,
      "outputs": [
        {
          "output_type": "display_data",
          "data": {
            "application/vnd.livy.statement-meta+json": {
              "spark_pool": "SamplePool",
              "session_id": 40,
              "statement_id": 6,
              "state": "finished",
              "livy_statement_state": "available",
              "queued_time": "2021-03-15T08:36:37.9531492Z",
              "execution_start_time": "2021-03-15T08:37:50.7191537Z",
              "execution_finish_time": "2021-03-15T08:37:52.7783179Z"
            },
            "text/plain": "StatementMeta(SamplePool, 40, 6, Finished, Available)"
          },
          "metadata": {}
        },
        {
          "output_type": "execute_result",
          "data": {
            "text/plain": "<PIL.Image.Image image mode=RGB size=180x180 at 0x7F31FABF9828>"
          },
          "execution_count": 6,
          "metadata": {}
        }
      ],
      "metadata": {},
      "source": [
        "from mmlspark.opencv import ImageTransformer\n",
        "\n",
        "tr = (ImageTransformer()                  # images are resized and then cropped\n",
        "      .setOutputCol(\"transformed\")\n",
        "      .resize(height = 200, width = 200)\n",
        "      .crop(0, 0, height = 180, width = 180) )\n",
        "\n",
        "small = tr.transform(images).select(\"transformed\")\n",
        "\n",
        "im = small.take(3)[2][0]                  # take third image\n",
        "Image.fromarray(toNDArray(im), \"RGB\")   # display the image inside notebook"
      ]
    },
    {
      "cell_type": "markdown",
      "metadata": {},
      "source": [
        "For the advanced image manipulations, use Spark UDFs.\n",
        "The MMLSpark package provides conversion function between *Spark Row* and\n",
        "*ndarray* image representations."
      ]
    },
    {
      "cell_type": "code",
      "execution_count": 7,
      "outputs": [
        {
          "output_type": "display_data",
          "data": {
            "application/vnd.livy.statement-meta+json": {
              "spark_pool": "SamplePool",
              "session_id": 40,
              "statement_id": 7,
              "state": "finished",
              "livy_statement_state": "available",
              "queued_time": "2021-03-15T08:36:37.9546762Z",
              "execution_start_time": "2021-03-15T08:37:52.8740447Z",
              "execution_finish_time": "2021-03-15T08:37:54.9378335Z"
            },
            "text/plain": "StatementMeta(SamplePool, 40, 7, Finished, Available)"
          },
          "metadata": {}
        },
        {
          "output_type": "execute_result",
          "data": {
            "text/plain": "<PIL.Image.Image image mode=RGB size=180x180 at 0x7F31FABF9C50>"
          },
          "execution_count": 7,
          "metadata": {}
        }
      ],
      "metadata": {},
      "source": [
        "from pyspark.sql.functions import udf\n",
        "from mmlspark.opencv import ImageSchema, toNDArray, toImage\n",
        "\n",
        "def u(row):\n",
        "    array = toNDArray(row)    # convert Image to numpy ndarray[height, width, 3]\n",
        "    array[:,:,2] = 0\n",
        "    return toImage(array)     # numpy array back to Spark Row structure\n",
        "\n",
        "noBlueUDF = udf(u,ImageSchema)\n",
        "\n",
        "noblue = small.withColumn(\"noblue\", noBlueUDF(small[\"transformed\"])).select(\"noblue\")\n",
        "\n",
        "im = noblue.take(3)[2][0]                # take second image\n",
        "Image.fromarray(toNDArray(im), \"RGB\")   # display the image inside notebook"
      ]
    },
    {
      "cell_type": "markdown",
      "metadata": {},
      "source": [
        "Images could be unrolled into the dense 1D vectors suitable for CNTK evaluation."
      ]
    },
    {
      "cell_type": "code",
      "execution_count": 8,
      "outputs": [
        {
          "output_type": "display_data",
          "data": {
            "application/vnd.livy.statement-meta+json": {
              "spark_pool": "SamplePool",
              "session_id": 40,
              "statement_id": 8,
              "state": "finished",
              "livy_statement_state": "available",
              "queued_time": "2021-03-15T08:36:37.9567328Z",
              "execution_start_time": "2021-03-15T08:37:55.0790582Z",
              "execution_finish_time": "2021-03-15T08:37:57.1428914Z"
            },
            "text/plain": "StatementMeta(SamplePool, 40, 8, Finished, Available)"
          },
          "metadata": {}
        },
        {
          "output_type": "execute_result",
          "data": {
            "text/plain": "<class 'pyspark.ml.linalg.DenseVector'>\n97200"
          },
          "execution_count": 8,
          "metadata": {}
        }
      ],
      "metadata": {},
      "source": [
        "from mmlspark.image import UnrollImage\n",
        "\n",
        "unroller = UnrollImage().setInputCol(\"noblue\").setOutputCol(\"unrolled\")\n",
        "\n",
        "unrolled = unroller.transform(noblue).select(\"unrolled\")\n",
        "\n",
        "vector = unrolled.take(1)[0][0]\n",
        "print(type(vector))\n",
        "len(vector.toArray())"
      ]
    },
    {
      "cell_type": "code",
      "execution_count": 9,
      "outputs": [
        {
          "output_type": "display_data",
          "data": {
            "application/vnd.livy.statement-meta+json": {
              "spark_pool": "SamplePool",
              "session_id": 40,
              "statement_id": 9,
              "state": "finished",
              "livy_statement_state": "available",
              "queued_time": "2021-03-15T08:36:37.9584747Z",
              "execution_start_time": "2021-03-15T08:37:57.2405204Z",
              "execution_finish_time": "2021-03-15T08:37:59.3120569Z"
            },
            "text/plain": "StatementMeta(SamplePool, 40, 9, Finished, Available)"
          },
          "metadata": {}
        },
        {
          "output_type": "execute_result",
          "data": {
            "text/plain": ""
          },
          "execution_count": 9,
          "metadata": {}
        }
      ],
      "metadata": {},
      "source": [
        "spark.stop()"
      ]
    }
  ],
  "metadata": {
    "save_output": true,
    "kernelspec": {
      "name": "synapse_pyspark",
      "display_name": "Synapse PySpark"
    },
    "language_info": {
      "name": "python"
    },
    "synapse_widget": {
      "version": "0.1",
      "state": {}
    }
  }
}