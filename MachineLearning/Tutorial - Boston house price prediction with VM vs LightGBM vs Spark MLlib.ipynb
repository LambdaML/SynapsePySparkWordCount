{
  "cells": [
    {
      "cell_type": "markdown",
      "source": [
        "# Boston house price prediction with Vowpal Wabbit, LightGBM and Spark MLlib\n",
        "\n",
        "This notebook shows how to build simple regression models by using \n",
        "[Vowpal Wabbit (VW)](https://github.com/VowpalWabbit/vowpal_wabbit) and \n",
        "[LightGBM](https://github.com/microsoft/LightGBM) with MMLSpark.\n",
        " We also compare the results with \n",
        " [Spark MLlib Linear Regression](https://spark.apache.org/docs/latest/ml-classification-regression.html#linear-regression)."
      ],
      "metadata": {}
    },
    {
      "cell_type": "code",
      "source": [
        "import math\n",
        "from matplotlib.colors import ListedColormap, Normalize\n",
        "from matplotlib.cm import get_cmap\n",
        "import matplotlib.pyplot as plt\n",
        "from mmlspark.train import ComputeModelStatistics\n",
        "from mmlspark.vw import VowpalWabbitRegressor, VowpalWabbitFeaturizer\n",
        "from mmlspark.lightgbm import LightGBMRegressor\n",
        "import numpy as np\n",
        "import pandas as pd\n",
        "from pyspark.ml.feature import VectorAssembler\n",
        "from pyspark.ml.regression import LinearRegression\n",
        "from sklearn.datasets import load_boston"
      ],
      "outputs": [
        {
          "output_type": "display_data",
          "data": {
            "application/vnd.livy.statement-meta+json": {
              "spark_pool": "SampleSpark2",
              "session_id": 0,
              "statement_id": 1,
              "state": "finished",
              "livy_statement_state": "available",
              "queued_time": "2021-05-14T12:41:36.2260149Z",
              "execution_start_time": "2021-05-14T12:44:19.9396983Z",
              "execution_finish_time": "2021-05-14T12:44:24.0884585Z"
            },
            "text/plain": "StatementMeta(SampleSpark2, 0, 1, Finished, Available)"
          },
          "metadata": {}
        },
        {
          "output_type": "stream",
          "name": "stdout",
          "text": []
        }
      ],
      "execution_count": 1,
      "metadata": {}
    },
    {
      "cell_type": "markdown",
      "source": [
        "## Prepare Dataset\n",
        "We use [*Boston house price* dataset](https://scikit-learn.org/stable/modules/generated/sklearn.datasets.load_boston.html) \n",
        ". \n",
        "The data was collected in 1978 from Boston area and consists of 506 entries with 14 features including the value of homes. \n",
        "We use `sklearn.datasets` module to download it easily, then split the set into training and testing by 75/25."
      ],
      "metadata": {}
    },
    {
      "cell_type": "code",
      "source": [
        "boston = load_boston()\n",
        "\n",
        "feature_cols = ['f' + str(i) for i in range(boston.data.shape[1])]\n",
        "header = ['target'] + feature_cols\n",
        "df = spark.createDataFrame(\n",
        "    pd.DataFrame(data=np.column_stack((boston.target, boston.data)), columns=header)\n",
        ").repartition(1)\n",
        "print(\"Dataframe has {} rows\".format(df.count()))\n",
        "display(df.limit(10).toPandas())"
      ],
      "outputs": [
        {
          "output_type": "display_data",
          "data": {
            "application/vnd.livy.statement-meta+json": {
              "spark_pool": "SampleSpark2",
              "session_id": 0,
              "statement_id": 2,
              "state": "finished",
              "livy_statement_state": "available",
              "queued_time": "2021-05-14T12:41:36.2276532Z",
              "execution_start_time": "2021-05-14T12:44:24.2006277Z",
              "execution_finish_time": "2021-05-14T12:44:34.5712995Z"
            },
            "text/plain": "StatementMeta(SampleSpark2, 0, 2, Finished, Available)"
          },
          "metadata": {}
        },
        {
          "output_type": "display_data",
          "data": {
            "text/plain": "Dataframe has 506 rows\n"
          },
          "metadata": {}
        },
        {
          "output_type": "display_data",
          "data": {
            "application/vnd.synapse.widget-view+json": {
              "widget_id": "b68511f3-8680-4657-bb82-13ab8780ce70",
              "widget_type": "Synapse.DataFrame"
            },
            "text/plain": "SynapseWidget(Synapse.DataFrame, b68511f3-8680-4657-bb82-13ab8780ce70)"
          },
          "metadata": {}
        },
        {
          "output_type": "display_data",
          "data": {
            "text/plain": "\n/opt/spark/python/lib/pyspark.zip/pyspark/sql/session.py:714: UserWarning: createDataFrame attempted Arrow optimization because 'spark.sql.execution.arrow.enabled' is set to true; however, failed by the reason below:\n  'JavaPackage' object is not callable\nAttempting non-optimization as 'spark.sql.execution.arrow.fallback.enabled' is set to true."
          },
          "metadata": {}
        },
        {
          "output_type": "execute_result",
          "execution_count": 2,
          "data": {},
          "metadata": {}
        }
      ],
      "execution_count": 2,
      "metadata": {
        "collapsed": false
      }
    },
    {
      "cell_type": "code",
      "source": [
        "train_data, test_data = df.randomSplit([0.75, 0.25], seed=42)\n",
        "train_data.cache()\n",
        "test_data.cache()"
      ],
      "outputs": [
        {
          "output_type": "display_data",
          "data": {
            "application/vnd.livy.statement-meta+json": {
              "spark_pool": "SampleSpark2",
              "session_id": 0,
              "statement_id": 3,
              "state": "finished",
              "livy_statement_state": "available",
              "queued_time": "2021-05-14T12:41:36.2291752Z",
              "execution_start_time": "2021-05-14T12:44:34.7010244Z",
              "execution_finish_time": "2021-05-14T12:44:36.7730366Z"
            },
            "text/plain": "StatementMeta(SampleSpark2, 0, 3, Finished, Available)"
          },
          "metadata": {}
        },
        {
          "output_type": "stream",
          "name": "stdout",
          "text": [
            "DataFrame[target: double, f0: double, f1: double, f2: double, f3: double, f4: double, f5: double, f6: double, f7: double, f8: double, f9: double, f10: double, f11: double, f12: double]"
          ]
        }
      ],
      "execution_count": 3,
      "metadata": {}
    },
    {
      "cell_type": "markdown",
      "source": [
        "Following is the summary of the training set."
      ],
      "metadata": {}
    },
    {
      "cell_type": "code",
      "source": [
        "display(train_data.summary().toPandas())"
      ],
      "outputs": [
        {
          "output_type": "display_data",
          "data": {
            "application/vnd.livy.statement-meta+json": {
              "spark_pool": "SampleSpark2",
              "session_id": 0,
              "statement_id": 4,
              "state": "finished",
              "livy_statement_state": "available",
              "queued_time": "2021-05-14T12:41:36.2308884Z",
              "execution_start_time": "2021-05-14T12:44:36.8948348Z",
              "execution_finish_time": "2021-05-14T12:44:43.1251808Z"
            },
            "text/plain": "StatementMeta(SampleSpark2, 0, 4, Finished, Available)"
          },
          "metadata": {}
        },
        {
          "output_type": "display_data",
          "data": {
            "application/vnd.synapse.widget-view+json": {
              "widget_id": "1cf8ac80-99ec-48ce-8628-07f88576313c",
              "widget_type": "Synapse.DataFrame"
            },
            "text/plain": "SynapseWidget(Synapse.DataFrame, 1cf8ac80-99ec-48ce-8628-07f88576313c)"
          },
          "metadata": {}
        },
        {
          "output_type": "execute_result",
          "execution_count": 4,
          "data": {},
          "metadata": {}
        }
      ],
      "execution_count": 4,
      "metadata": {
        "collapsed": false
      }
    },
    {
      "cell_type": "markdown",
      "source": [
        "Plot feature distributions over different target values (house prices in our case)."
      ],
      "metadata": {}
    },
    {
      "cell_type": "code",
      "source": [
        "features = train_data.columns[1:]\n",
        "values = train_data.drop('target').toPandas()\n",
        "ncols = 5\n",
        "nrows = math.ceil(len(features) / ncols)\n",
        "\n",
        "yy = [r['target'] for r in train_data.select('target').collect()]\n",
        "\n",
        "f, axes = plt.subplots(nrows, ncols, sharey=True, figsize=(30,10))\n",
        "f.tight_layout()\n",
        "\n",
        "for irow in range(nrows):\n",
        "    axes[irow][0].set_ylabel('target')\n",
        "    for icol in range(ncols):\n",
        "        try:\n",
        "            feat = features[irow*ncols + icol]\n",
        "            xx = values[feat]\n",
        "\n",
        "            axes[irow][icol].scatter(xx, yy, s=10, alpha=0.25)\n",
        "            axes[irow][icol].set_xlabel(feat)\n",
        "            axes[irow][icol].get_yaxis().set_ticks([])\n",
        "        except IndexError:\n",
        "            f.delaxes(axes[irow][icol])"
      ],
      "outputs": [
        {
          "output_type": "display_data",
          "data": {
            "application/vnd.livy.statement-meta+json": {
              "spark_pool": "SampleSpark2",
              "session_id": 0,
              "statement_id": 5,
              "state": "finished",
              "livy_statement_state": "available",
              "queued_time": "2021-05-14T12:41:36.232592Z",
              "execution_start_time": "2021-05-14T12:44:43.2376235Z",
              "execution_finish_time": "2021-05-14T12:44:45.298149Z"
            },
            "text/plain": "StatementMeta(SampleSpark2, 0, 5, Finished, Available)"
          },
          "metadata": {}
        },
        {
          "output_type": "stream",
          "name": "stdout",
          "text": [
            "Text(337.72222222222223, 0.5, 'target')\n",
            "<matplotlib.collections.PathCollection object at 0x7fc45ce4a7b8>\n",
            "Text(0.5, 624.2516339869283, 'f0')\n",
            "[]\n",
            "<matplotlib.collections.PathCollection object at 0x7fc45c11ea20>\n",
            "Text(0.5, 624.2516339869283, 'f1')\n",
            "[]\n",
            "<matplotlib.collections.PathCollection object at 0x7fc45c11e3c8>\n",
            "Text(0.5, 624.2516339869283, 'f2')\n",
            "[]\n",
            "<matplotlib.collections.PathCollection object at 0x7fc45c10ecf8>\n",
            "Text(0.5, 624.2516339869283, 'f3')\n",
            "[]\n",
            "<matplotlib.collections.PathCollection object at 0x7fc45c1164a8>\n",
            "Text(0.5, 624.2516339869283, 'f4')\n",
            "[]\n",
            "Text(337.72222222222223, 0.5, 'target')\n",
            "<matplotlib.collections.PathCollection object at 0x7fc45c1168d0>\n",
            "Text(0.5, 352.4869281045751, 'f5')\n",
            "[]\n",
            "<matplotlib.collections.PathCollection object at 0x7fc45c12d6a0>\n",
            "Text(0.5, 352.4869281045751, 'f6')\n",
            "[]\n",
            "<matplotlib.collections.PathCollection object at 0x7fc45c12d9b0>\n",
            "Text(0.5, 352.4869281045751, 'f7')\n",
            "[]\n",
            "<matplotlib.collections.PathCollection object at 0x7fc45c12dcc0>\n",
            "Text(0.5, 352.4869281045751, 'f8')\n",
            "[]\n",
            "<matplotlib.collections.PathCollection object at 0x7fc45c1d9780>\n",
            "Text(0.5, 352.4869281045751, 'f9')\n",
            "[]\n",
            "Text(337.72222222222223, 0.5, 'target')\n",
            "<matplotlib.collections.PathCollection object at 0x7fc45c11e898>\n",
            "Text(0.5, 80.7222222222222, 'f10')\n",
            "[]\n",
            "<matplotlib.collections.PathCollection object at 0x7fc45c16c8d0>\n",
            "Text(0.5, 80.7222222222222, 'f11')\n",
            "[]\n",
            "<matplotlib.collections.PathCollection object at 0x7fc45c187c50>\n",
            "Text(0.5, 80.7222222222222, 'f12')\n",
            "[]"
          ]
        }
      ],
      "execution_count": 5,
      "metadata": {}
    },
    {
      "cell_type": "markdown",
      "source": [
        "## Baseline - Spark MLlib Linear Regressor\n",
        "\n",
        "First, we set a baseline performance by using Linear Regressor in Spark MLlib."
      ],
      "metadata": {}
    },
    {
      "cell_type": "code",
      "source": [
        "featurizer = VectorAssembler(\n",
        "    inputCols=feature_cols,\n",
        "    outputCol='features'\n",
        ")\n",
        "lr_train_data = featurizer.transform(train_data)['target', 'features']\n",
        "lr_test_data = featurizer.transform(test_data)['target', 'features']\n",
        "display(lr_train_data.limit(10).toPandas())"
      ],
      "outputs": [
        {
          "output_type": "display_data",
          "data": {
            "application/vnd.livy.statement-meta+json": {
              "spark_pool": "SampleSpark2",
              "session_id": 0,
              "statement_id": 6,
              "state": "finished",
              "livy_statement_state": "available",
              "queued_time": "2021-05-14T12:41:36.2349102Z",
              "execution_start_time": "2021-05-14T12:44:45.4042645Z",
              "execution_finish_time": "2021-05-14T12:44:47.4842938Z"
            },
            "text/plain": "StatementMeta(SampleSpark2, 0, 6, Finished, Available)"
          },
          "metadata": {}
        },
        {
          "output_type": "display_data",
          "data": {
            "application/vnd.synapse.widget-view+json": {
              "widget_id": "67ac460a-7e78-4921-a96a-8b67b49e9f78",
              "widget_type": "Synapse.DataFrame"
            },
            "text/plain": "SynapseWidget(Synapse.DataFrame, 67ac460a-7e78-4921-a96a-8b67b49e9f78)"
          },
          "metadata": {}
        },
        {
          "output_type": "display_data",
          "data": {
            "text/plain": "\n/opt/spark/python/lib/pyspark.zip/pyspark/sql/dataframe.py:2110: UserWarning: toPandas attempted Arrow optimization because 'spark.sql.execution.arrow.enabled' is set to true; however, failed by the reason below:\n  Unsupported type in conversion to Arrow: VectorUDT\nAttempting non-optimization as 'spark.sql.execution.arrow.fallback.enabled' is set to true.\n  warnings.warn(msg)\n/opt/spark/python/lib/pyspark.zip/pyspark/sql/session.py:714: UserWarning: createDataFrame attempted Arrow optimization because 'spark.sql.execution.arrow.enabled' is set to true; however, failed by the reason below:\n  Could not convert [38.3518,0.0,18.1,0.0,0.693,5.453,100.0,1.4896,24.0,666.0,20.2,396.9,30.59] with type DenseVector: did not recognize Python value type when inferring an Arrow data type\nAttempting non-optimization as 'spark.sql.execution.arrow.fallback.enabled' is set to true."
          },
          "metadata": {}
        },
        {
          "output_type": "execute_result",
          "execution_count": 6,
          "data": {},
          "metadata": {}
        }
      ],
      "execution_count": 6,
      "metadata": {
        "collapsed": false
      }
    },
    {
      "cell_type": "code",
      "source": [
        "# By default, `maxIter` is 100. Other params you may want to change include: `regParam`, `elasticNetParam`, etc.\n",
        "lr = LinearRegression(\n",
        "    labelCol='target',\n",
        ")\n",
        "\n",
        "lr_model = lr.fit(lr_train_data)\n",
        "lr_predictions = lr_model.transform(lr_test_data)\n",
        "\n",
        "display(lr_predictions.limit(10).toPandas())"
      ],
      "outputs": [
        {
          "output_type": "display_data",
          "data": {
            "application/vnd.livy.statement-meta+json": {
              "spark_pool": "SampleSpark2",
              "session_id": 0,
              "statement_id": 7,
              "state": "finished",
              "livy_statement_state": "available",
              "queued_time": "2021-05-14T12:41:36.2370097Z",
              "execution_start_time": "2021-05-14T12:44:47.5967686Z",
              "execution_finish_time": "2021-05-14T12:44:51.7169878Z"
            },
            "text/plain": "StatementMeta(SampleSpark2, 0, 7, Finished, Available)"
          },
          "metadata": {}
        },
        {
          "output_type": "display_data",
          "data": {
            "application/vnd.synapse.widget-view+json": {
              "widget_id": "7bd61acb-f98f-4cbb-a96f-e48843fd5dbc",
              "widget_type": "Synapse.DataFrame"
            },
            "text/plain": "SynapseWidget(Synapse.DataFrame, 7bd61acb-f98f-4cbb-a96f-e48843fd5dbc)"
          },
          "metadata": {}
        },
        {
          "output_type": "display_data",
          "data": {
            "text/plain": "\n/opt/spark/python/lib/pyspark.zip/pyspark/sql/session.py:714: UserWarning: createDataFrame attempted Arrow optimization because 'spark.sql.execution.arrow.enabled' is set to true; however, failed by the reason below:\n  Could not convert [67.9208,0.0,18.1,0.0,0.693,5.683,100.0,1.4254,24.0,666.0,20.2,384.97,22.98] with type DenseVector: did not recognize Python value type when inferring an Arrow data type\nAttempting non-optimization as 'spark.sql.execution.arrow.fallback.enabled' is set to true."
          },
          "metadata": {}
        },
        {
          "output_type": "execute_result",
          "execution_count": 7,
          "data": {},
          "metadata": {}
        }
      ],
      "execution_count": 7,
      "metadata": {
        "collapsed": false
      }
    },
    {
      "cell_type": "markdown",
      "source": [
        "We evaluate the prediction result by using `mmlspark.train.ComputeModelStatistics` which returns four metrics:\n",
        "* [MSE (Mean Squared Error)](https://en.wikipedia.org/wiki/Mean_squared_error)\n",
        "* [RMSE (Root Mean Squared Error)](https://en.wikipedia.org/wiki/Root-mean-square_deviation) = sqrt(MSE)\n",
        "* [R quared](https://en.wikipedia.org/wiki/Coefficient_of_determination)\n",
        "* [MAE (Mean Absolute Error)](https://en.wikipedia.org/wiki/Mean_absolute_error)"
      ],
      "metadata": {}
    },
    {
      "cell_type": "code",
      "source": [
        "metrics = ComputeModelStatistics(\n",
        "    evaluationMetric='regression',\n",
        "    labelCol='target',\n",
        "    scoresCol='prediction'\n",
        ").transform(lr_predictions)\n",
        "\n",
        "results = metrics.toPandas()\n",
        "results.insert(0, 'model', ['Spark MLlib - Linear Regression'])\n",
        "display(results)"
      ],
      "outputs": [
        {
          "output_type": "display_data",
          "data": {
            "application/vnd.livy.statement-meta+json": {
              "spark_pool": "SampleSpark2",
              "session_id": 0,
              "statement_id": 8,
              "state": "finished",
              "livy_statement_state": "available",
              "queued_time": "2021-05-14T12:41:36.2402186Z",
              "execution_start_time": "2021-05-14T12:44:51.8226276Z",
              "execution_finish_time": "2021-05-14T12:44:53.8842643Z"
            },
            "text/plain": "StatementMeta(SampleSpark2, 0, 8, Finished, Available)"
          },
          "metadata": {}
        },
        {
          "output_type": "display_data",
          "data": {
            "application/vnd.synapse.widget-view+json": {
              "widget_id": "4cb68db8-47ba-4599-af3c-3f250eb51c4e",
              "widget_type": "Synapse.DataFrame"
            },
            "text/plain": "SynapseWidget(Synapse.DataFrame, 4cb68db8-47ba-4599-af3c-3f250eb51c4e)"
          },
          "metadata": {}
        },
        {
          "output_type": "execute_result",
          "execution_count": 8,
          "data": {},
          "metadata": {}
        }
      ],
      "execution_count": 8,
      "metadata": {
        "collapsed": false
      }
    },
    {
      "cell_type": "markdown",
      "source": [
        "## Vowpal Wabbit"
      ],
      "metadata": {}
    },
    {
      "cell_type": "markdown",
      "source": [
        "Perform VW-style feature hashing. Many types (numbers, string, bool, map of string to (number, string)) are supported."
      ],
      "metadata": {}
    },
    {
      "cell_type": "code",
      "source": [
        "vw_featurizer = VowpalWabbitFeaturizer(\n",
        "    inputCols=feature_cols,\n",
        "    outputCol='features',\n",
        ")\n",
        "vw_train_data = vw_featurizer.transform(train_data)['target', 'features']\n",
        "vw_test_data = vw_featurizer.transform(test_data)['target', 'features']\n",
        "display(vw_train_data.limit(10).toPandas())"
      ],
      "outputs": [
        {
          "output_type": "display_data",
          "data": {
            "application/vnd.livy.statement-meta+json": {
              "spark_pool": "SampleSpark2",
              "session_id": 0,
              "statement_id": 9,
              "state": "finished",
              "livy_statement_state": "available",
              "queued_time": "2021-05-14T12:41:36.2425188Z",
              "execution_start_time": "2021-05-14T12:44:53.9911856Z",
              "execution_finish_time": "2021-05-14T12:44:56.058955Z"
            },
            "text/plain": "StatementMeta(SampleSpark2, 0, 9, Finished, Available)"
          },
          "metadata": {}
        },
        {
          "output_type": "display_data",
          "data": {
            "application/vnd.synapse.widget-view+json": {
              "widget_id": "75b18f6a-0bd5-4c63-adb0-0e2d986848ad",
              "widget_type": "Synapse.DataFrame"
            },
            "text/plain": "SynapseWidget(Synapse.DataFrame, 75b18f6a-0bd5-4c63-adb0-0e2d986848ad)"
          },
          "metadata": {}
        },
        {
          "output_type": "display_data",
          "data": {
            "text/plain": "\n/opt/spark/python/lib/pyspark.zip/pyspark/sql/session.py:714: UserWarning: createDataFrame attempted Arrow optimization because 'spark.sql.execution.arrow.enabled' is set to true; however, failed by the reason below:\n  Could not convert (1073741824,[287408178,419613213,464140333,556319843,584064458,780495775,824677867,851899283,921728202,933181289,1055634727],[20.2,100.0,18.1,1.4896,666.0,24.0,30.59,5.453,396.9,38.3518,0.693]) with type SparseVector: did not recognize Python value type when inferring an Arrow data type\nAttempting non-optimization as 'spark.sql.execution.arrow.fallback.enabled' is set to true."
          },
          "metadata": {}
        },
        {
          "output_type": "execute_result",
          "execution_count": 9,
          "data": {},
          "metadata": {}
        }
      ],
      "execution_count": 9,
      "metadata": {
        "collapsed": false
      }
    },
    {
      "cell_type": "markdown",
      "source": [
        "See [VW wiki](https://github.com/vowpalWabbit/vowpal_wabbit/wiki/Command-Line-Arguments) for command line arguments."
      ],
      "metadata": {}
    },
    {
      "cell_type": "code",
      "source": [
        "# Use the same number of iterations as Spark MLlib's Linear Regression (=100)\n",
        "args = \"--holdout_off --loss_function quantile -l 7 -q :: --power_t 0.3\"\n",
        "vwr = VowpalWabbitRegressor(\n",
        "    labelCol='target',\n",
        "    args=args,\n",
        "    numPasses=100,\n",
        ")\n",
        "\n",
        "# To reduce number of partitions (which will effect performance), use `vw_train_data.repartition(1)`\n",
        "vw_train_data_2 = vw_train_data.repartition(1).cache()\n",
        "print(vw_train_data_2.count())\n",
        "vw_model = vwr.fit(vw_train_data_2.repartition(1))\n",
        "vw_predictions = vw_model.transform(vw_test_data)\n",
        "\n",
        "display(vw_predictions.limit(10).toPandas())"
      ],
      "outputs": [
        {
          "output_type": "display_data",
          "data": {
            "application/vnd.livy.statement-meta+json": {
              "spark_pool": "SampleSpark2",
              "session_id": 0,
              "statement_id": 10,
              "state": "finished",
              "livy_statement_state": "available",
              "queued_time": "2021-05-14T12:41:36.2448665Z",
              "execution_start_time": "2021-05-14T12:44:56.1917882Z",
              "execution_finish_time": "2021-05-14T12:45:02.39359Z"
            },
            "text/plain": "StatementMeta(SampleSpark2, 0, 10, Finished, Available)"
          },
          "metadata": {}
        },
        {
          "output_type": "display_data",
          "data": {
            "text/plain": "377\n"
          },
          "metadata": {}
        },
        {
          "output_type": "display_data",
          "data": {
            "application/vnd.synapse.widget-view+json": {
              "widget_id": "f093dd5e-769b-4894-b2d0-08ef38edeb67",
              "widget_type": "Synapse.DataFrame"
            },
            "text/plain": "SynapseWidget(Synapse.DataFrame, f093dd5e-769b-4894-b2d0-08ef38edeb67)"
          },
          "metadata": {}
        },
        {
          "output_type": "display_data",
          "data": {
            "text/plain": "\n/opt/spark/python/lib/pyspark.zip/pyspark/sql/session.py:714: UserWarning: createDataFrame attempted Arrow optimization because 'spark.sql.execution.arrow.enabled' is set to true; however, failed by the reason below:\n  Could not convert (1073741824,[287408178,419613213,464140333,556319843,584064458,780495775,824677867,851899283,921728202,933181289,1055634727],[20.2,100.0,18.1,1.4254,666.0,24.0,22.98,5.683,384.97,67.9208,0.693]) with type SparseVector: did not recognize Python value type when inferring an Arrow data type\nAttempting non-optimization as 'spark.sql.execution.arrow.fallback.enabled' is set to true."
          },
          "metadata": {}
        },
        {
          "output_type": "execute_result",
          "execution_count": 10,
          "data": {},
          "metadata": {}
        }
      ],
      "execution_count": 10,
      "metadata": {
        "collapsed": false
      }
    },
    {
      "cell_type": "code",
      "source": [
        "metrics = ComputeModelStatistics(\n",
        "    evaluationMetric='regression',\n",
        "    labelCol='target',\n",
        "    scoresCol='prediction'\n",
        ").transform(vw_predictions)\n",
        "\n",
        "vw_result = metrics.toPandas()\n",
        "vw_result.insert(0, 'model', ['Vowpal Wabbit'])\n",
        "results = results.append(\n",
        "    vw_result,\n",
        "    ignore_index=True\n",
        ")\n",
        "display(results)"
      ],
      "outputs": [
        {
          "output_type": "display_data",
          "data": {
            "application/vnd.livy.statement-meta+json": {
              "spark_pool": "SampleSpark2",
              "session_id": 0,
              "statement_id": 11,
              "state": "finished",
              "livy_statement_state": "available",
              "queued_time": "2021-05-14T12:41:36.2470733Z",
              "execution_start_time": "2021-05-14T12:45:02.5280362Z",
              "execution_finish_time": "2021-05-14T12:45:04.5862035Z"
            },
            "text/plain": "StatementMeta(SampleSpark2, 0, 11, Finished, Available)"
          },
          "metadata": {}
        },
        {
          "output_type": "display_data",
          "data": {
            "application/vnd.synapse.widget-view+json": {
              "widget_id": "101b367b-fea5-40ed-a21d-9e329f7c6733",
              "widget_type": "Synapse.DataFrame"
            },
            "text/plain": "SynapseWidget(Synapse.DataFrame, 101b367b-fea5-40ed-a21d-9e329f7c6733)"
          },
          "metadata": {}
        },
        {
          "output_type": "execute_result",
          "execution_count": 11,
          "data": {},
          "metadata": {}
        }
      ],
      "execution_count": 11,
      "metadata": {
        "collapsed": false
      }
    },
    {
      "cell_type": "markdown",
      "source": [
        "## LightGBM"
      ],
      "metadata": {}
    },
    {
      "cell_type": "code",
      "source": [
        "lgr = LightGBMRegressor(\n",
        "    objective='quantile',\n",
        "    alpha=0.2,\n",
        "    learningRate=0.3,\n",
        "    numLeaves=31,\n",
        "    labelCol='target',\n",
        "    numIterations=100,\n",
        ")\n",
        "\n",
        "# Using one partition since the training dataset is very small\n",
        "repartitioned_data = lr_train_data.repartition(1).cache()\n",
        "print(repartitioned_data.count())\n",
        "lg_model = lgr.fit(repartitioned_data)\n",
        "lg_predictions = lg_model.transform(lr_test_data)\n",
        "\n",
        "display(lg_predictions.limit(10).toPandas())"
      ],
      "outputs": [
        {
          "output_type": "display_data",
          "data": {
            "application/vnd.livy.statement-meta+json": {
              "spark_pool": "SampleSpark2",
              "session_id": 0,
              "statement_id": 12,
              "state": "finished",
              "livy_statement_state": "available",
              "queued_time": "2021-05-14T12:41:36.2493659Z",
              "execution_start_time": "2021-05-14T12:45:04.691301Z",
              "execution_finish_time": "2021-05-14T12:45:06.765797Z"
            },
            "text/plain": "StatementMeta(SampleSpark2, 0, 12, Finished, Available)"
          },
          "metadata": {}
        },
        {
          "output_type": "display_data",
          "data": {
            "text/plain": "377\n"
          },
          "metadata": {}
        },
        {
          "output_type": "display_data",
          "data": {
            "application/vnd.synapse.widget-view+json": {
              "widget_id": "d5510992-334f-4923-8431-4b7cd4d2fd26",
              "widget_type": "Synapse.DataFrame"
            },
            "text/plain": "SynapseWidget(Synapse.DataFrame, d5510992-334f-4923-8431-4b7cd4d2fd26)"
          },
          "metadata": {}
        },
        {
          "output_type": "execute_result",
          "execution_count": 12,
          "data": {},
          "metadata": {}
        }
      ],
      "execution_count": 12,
      "metadata": {
        "collapsed": false
      }
    },
    {
      "cell_type": "code",
      "source": [
        "metrics = ComputeModelStatistics(\n",
        "    evaluationMetric='regression',\n",
        "    labelCol='target',\n",
        "    scoresCol='prediction'\n",
        ").transform(lg_predictions)\n",
        "\n",
        "lg_result = metrics.toPandas()\n",
        "lg_result.insert(0, 'model', ['LightGBM'])\n",
        "results = results.append(\n",
        "    lg_result,\n",
        "    ignore_index=True\n",
        ")\n",
        "display(results)"
      ],
      "outputs": [
        {
          "output_type": "display_data",
          "data": {
            "application/vnd.livy.statement-meta+json": {
              "spark_pool": "SampleSpark2",
              "session_id": 0,
              "statement_id": 13,
              "state": "finished",
              "livy_statement_state": "available",
              "queued_time": "2021-05-14T12:41:36.2516227Z",
              "execution_start_time": "2021-05-14T12:45:06.8697836Z",
              "execution_finish_time": "2021-05-14T12:45:08.926748Z"
            },
            "text/plain": "StatementMeta(SampleSpark2, 0, 13, Finished, Available)"
          },
          "metadata": {}
        },
        {
          "output_type": "display_data",
          "data": {
            "application/vnd.synapse.widget-view+json": {
              "widget_id": "f392ffbc-b63e-4173-bf67-0a565b734571",
              "widget_type": "Synapse.DataFrame"
            },
            "text/plain": "SynapseWidget(Synapse.DataFrame, f392ffbc-b63e-4173-bf67-0a565b734571)"
          },
          "metadata": {}
        },
        {
          "output_type": "execute_result",
          "execution_count": 13,
          "data": {},
          "metadata": {}
        }
      ],
      "execution_count": 13,
      "metadata": {
        "collapsed": false
      }
    },
    {
      "cell_type": "markdown",
      "source": [
        "Following figure shows the actual-vs.-prediction graphs of the results:\n",
        "\n",
        "<img width=\"1102\" alt=\"lr-vw-lg\" src=\"https://user-images.githubusercontent.com/42475935/64071975-4c3e9600-cc54-11e9-8b1f-9a1ee300f445.png\">"
      ],
      "metadata": {}
    },
    {
      "cell_type": "code",
      "source": [
        "cmap = get_cmap('YlOrRd')\n",
        "\n",
        "target = np.array(test_data.select('target').collect()).flatten()\n",
        "model_preds = [\n",
        "    (\"Spark MLlib Linear Regression\", lr_predictions),\n",
        "    (\"Vowpal Wabbit\", vw_predictions),\n",
        "    (\"LightGBM\", lg_predictions)\n",
        "]"
      ],
      "outputs": [
        {
          "output_type": "display_data",
          "data": {
            "application/vnd.livy.statement-meta+json": {
              "spark_pool": "SampleSpark2",
              "session_id": 0,
              "statement_id": 14,
              "state": "finished",
              "livy_statement_state": "available",
              "queued_time": "2021-05-14T12:41:36.2537752Z",
              "execution_start_time": "2021-05-14T12:45:09.0402027Z",
              "execution_finish_time": "2021-05-14T12:45:11.0944607Z"
            },
            "text/plain": "StatementMeta(SampleSpark2, 0, 14, Finished, Available)"
          },
          "metadata": {}
        },
        {
          "output_type": "stream",
          "name": "stdout",
          "text": []
        }
      ],
      "execution_count": 14,
      "metadata": {}
    },
    {
      "cell_type": "code",
      "source": [
        "f, axes = plt.subplots(1, len(model_preds), sharey=True, figsize=(18, 6))\r\n",
        "f.tight_layout()\r\n",
        "\r\n",
        "for i, (model_name, preds) in enumerate(model_preds):\r\n",
        "    preds = np.array(preds.select('prediction').collect()).flatten()\r\n",
        "    err = np.absolute(preds - target)\r\n",
        "\r\n",
        "    norm = Normalize()\r\n",
        "    clrs = cmap(np.asarray(norm(err)))[:, :-1]\r\n",
        "    axes[i].scatter(preds, target, s=60, c=clrs, edgecolors='#888888', alpha=0.75)\r\n",
        "    axes[i].plot((0, 60), (0, 60), linestyle='--', color='#888888')\r\n",
        "    axes[i].set_xlabel('Predicted values')\r\n",
        "    if i ==0:\r\n",
        "        axes[i].set_ylabel('Actual values')\r\n",
        "    axes[i].set_title(model_name)\r\n",
        "plt.show()"
      ],
      "outputs": [
        {
          "output_type": "display_data",
          "data": {
            "application/vnd.livy.statement-meta+json": {
              "spark_pool": "SampleSpark2",
              "session_id": 0,
              "statement_id": 15,
              "state": "finished",
              "livy_statement_state": "available",
              "queued_time": "2021-05-14T12:41:36.2564821Z",
              "execution_start_time": "2021-05-14T12:45:11.2041095Z",
              "execution_finish_time": "2021-05-14T12:45:15.4659192Z"
            },
            "text/plain": "StatementMeta(SampleSpark2, 0, 15, Finished, Available)"
          },
          "metadata": {}
        },
        {
          "output_type": "display_data",
          "data": {
            "image/png": "[encoded data removed]"
          },
          "metadata": {}
        },
        {
          "output_type": "display_data",
          "data": {
            "text/plain": "\n"
          },
          "metadata": {}
        },
        {
          "output_type": "display_data",
          "data": {
            "image/png": "[encoded data removed]"
          },
          "metadata": {}
        },
        {
          "output_type": "execute_result",
          "execution_count": 15,
          "data": {},
          "metadata": {}
        }
      ],
      "execution_count": 15,
      "metadata": {
        "jupyter": {
          "source_hidden": false,
          "outputs_hidden": false
        },
        "nteract": {
          "transient": {
            "deleting": false
          }
        },
        "collapsed": true
      }
    },
    {
      "cell_type": "markdown",
      "source": [
        "## Clean up resources\r\n",
        "To ensure the Spark instance is shut down, end any connected sessions(notebooks). The pool shuts down when the **idle time** specified in the Apache Spark pool is reached. You can also select **stop session** from the status bar at the upper right of the notebook.\r\n",
        "\r\n",
        "![stopsession](https://adsnotebookrelease.blob.core.windows.net/adsnotebookrelease/adsnotebook/image/stopsession.png)"
      ],
      "metadata": {
        "nteract": {
          "transient": {
            "deleting": false
          }
        }
      }
    },
    {
      "cell_type": "markdown",
      "source": [
        "## Next steps\r\n",
        "\r\n",
        "* [Check out Synapse sample notebooks](https://github.com/Azure-Samples/Synapse/tree/main/MachineLearning) \r\n",
        "* [MMLSpark GitHub Repo](https://github.com/Azure/mmlspark)"
      ],
      "metadata": {
        "nteract": {
          "transient": {
            "deleting": false
          }
        }
      }
    }
  ],
  "metadata": {
    "kernelspec": {
      "name": "synapse_pyspark",
      "language": "Python",
      "display_name": "Synapse PySpark"
    },
    "language_info": {
      "name": "python"
    },
    "kernel_info": {
      "name": "synapse_pyspark"
    },
    "save_output": true,
    "synapse_widget": {
      "version": "0.1",
      "state": {
        "b68511f3-8680-4657-bb82-13ab8780ce70": {
          "type": "Synapse.DataFrame",
          "sync_state": {
            "table": {
              "rows": [
                {
                  "f7": 4.09,
                  "f6": 65.2,
                  "f1": 18,
                  "f8": 1,
                  "f10": 15.3,
                  "f0": 0.00632,
                  "f5": 6.575,
                  "f3": 0,
                  "f9": 296,
                  "f4": 0.538,
                  "f11": 396.9,
                  "target": 24,
                  "f2": 2.31,
                  "f12": 4.98
                },
                {
                  "f7": 4.9671,
                  "f6": 78.9,
                  "f1": 0,
                  "f8": 2,
                  "f10": 17.8,
                  "f0": 0.02731,
                  "f5": 6.421,
                  "f3": 0,
                  "f9": 242,
                  "f4": 0.469,
                  "f11": 396.9,
                  "target": 21.6,
                  "f2": 7.07,
                  "f12": 9.14
                },
                {
                  "f7": 4.9671,
                  "f6": 61.1,
                  "f1": 0,
                  "f8": 2,
                  "f10": 17.8,
                  "f0": 0.02729,
                  "f5": 7.185,
                  "f3": 0,
                  "f9": 242,
                  "f4": 0.469,
                  "f11": 392.83,
                  "target": 34.7,
                  "f2": 7.07,
                  "f12": 4.03
                },
                {
                  "f7": 6.0622,
                  "f6": 45.8,
                  "f1": 0,
                  "f8": 3,
                  "f10": 18.7,
                  "f0": 0.03237,
                  "f5": 6.998,
                  "f3": 0,
                  "f9": 222,
                  "f4": 0.458,
                  "f11": 394.63,
                  "target": 33.4,
                  "f2": 2.18,
                  "f12": 2.94
                },
                {
                  "f7": 6.0622,
                  "f6": 54.2,
                  "f1": 0,
                  "f8": 3,
                  "f10": 18.7,
                  "f0": 0.06905,
                  "f5": 7.147,
                  "f3": 0,
                  "f9": 222,
                  "f4": 0.458,
                  "f11": 396.9,
                  "target": 36.2,
                  "f2": 2.18,
                  "f12": 5.33
                },
                {
                  "f7": 6.0622,
                  "f6": 58.7,
                  "f1": 0,
                  "f8": 3,
                  "f10": 18.7,
                  "f0": 0.02985,
                  "f5": 6.43,
                  "f3": 0,
                  "f9": 222,
                  "f4": 0.458,
                  "f11": 394.12,
                  "target": 28.7,
                  "f2": 2.18,
                  "f12": 5.21
                },
                {
                  "f7": 5.5605,
                  "f6": 66.6,
                  "f1": 12.5,
                  "f8": 5,
                  "f10": 15.2,
                  "f0": 0.08829,
                  "f5": 6.012,
                  "f3": 0,
                  "f9": 311,
                  "f4": 0.524,
                  "f11": 395.6,
                  "target": 22.9,
                  "f2": 7.87,
                  "f12": 12.43
                },
                {
                  "f7": 5.9505,
                  "f6": 96.1,
                  "f1": 12.5,
                  "f8": 5,
                  "f10": 15.2,
                  "f0": 0.14455,
                  "f5": 6.172,
                  "f3": 0,
                  "f9": 311,
                  "f4": 0.524,
                  "f11": 396.9,
                  "target": 27.1,
                  "f2": 7.87,
                  "f12": 19.15
                },
                {
                  "f7": 6.0821,
                  "f6": 100,
                  "f1": 12.5,
                  "f8": 5,
                  "f10": 15.2,
                  "f0": 0.21124,
                  "f5": 5.631,
                  "f3": 0,
                  "f9": 311,
                  "f4": 0.524,
                  "f11": 386.63,
                  "target": 16.5,
                  "f2": 7.87,
                  "f12": 29.93
                },
                {
                  "f7": 6.5921,
                  "f6": 85.9,
                  "f1": 12.5,
                  "f8": 5,
                  "f10": 15.2,
                  "f0": 0.17004,
                  "f5": 6.004,
                  "f3": 0,
                  "f9": 311,
                  "f4": 0.524,
                  "f11": 386.71,
                  "target": 18.9,
                  "f2": 7.87,
                  "f12": 17.1
                }
              ],
              "schema": {
                "target": "double",
                "f0": "double",
                "f1": "double",
                "f2": "double",
                "f3": "double",
                "f4": "double",
                "f5": "double",
                "f6": "double",
                "f7": "double",
                "f8": "double",
                "f9": "double",
                "f10": "double",
                "f11": "double",
                "f12": "double"
              }
            },
            "isSummary": false,
            "language": "scala"
          },
          "persist_state": {
            "view": {
              "type": "details",
              "tableOptions": {},
              "chartOptions": {
                "chartType": "bar",
                "aggregationType": "sum",
                "categoryFieldKeys": [
                  "f0"
                ],
                "seriesFieldKeys": [
                  "target"
                ],
                "isStacked": false
              }
            }
          }
        },
        "1cf8ac80-99ec-48ce-8628-07f88576313c": {
          "type": "Synapse.DataFrame",
          "sync_state": {
            "table": {
              "rows": [
                {
                  "f7": "377",
                  "f6": "377",
                  "f1": "377",
                  "f8": "377",
                  "f10": "377",
                  "f0": "377",
                  "f5": "377",
                  "f3": "377",
                  "f9": "377",
                  "f4": "377",
                  "f11": "377",
                  "target": "377",
                  "summary": "count",
                  "f2": "377",
                  "f12": "377"
                },
                {
                  "f7": "3.7060336870026527",
                  "f6": "70.09734748010614",
                  "f1": "10.809018567639257",
                  "f8": "9.782493368700266",
                  "f10": "18.52015915119362",
                  "f0": "3.713706445623341",
                  "f5": "6.236015915119363",
                  "f3": "0.07427055702917772",
                  "f9": "414.40318302387266",
                  "f4": "0.5621320954907156",
                  "f11": "350.23286472148504",
                  "target": "21.973740053050395",
                  "summary": "mean",
                  "f2": "11.50358090185676",
                  "f12": "13.184270557029182"
                },
                {
                  "f7": "2.0910161916976997",
                  "f6": "28.107981250290862",
                  "f1": "23.063986464629473",
                  "f8": "8.78226035585757",
                  "f10": "2.140967413102137",
                  "f0": "7.864063086907033",
                  "f5": "0.710894626480467",
                  "f3": "0.2625591341862547",
                  "f9": "170.03684453811675",
                  "f4": "0.11925569148339353",
                  "f11": "99.13944837560052",
                  "target": "8.895643511000259",
                  "summary": "stddev",
                  "f2": "6.898021082586262",
                  "f12": "7.313211453734242"
                },
                {
                  "f7": "1.1296",
                  "f6": "2.9",
                  "f1": "0.0",
                  "f8": "1.0",
                  "f10": "12.6",
                  "f0": "0.00632",
                  "f5": "3.561",
                  "f3": "0.0",
                  "f9": "188.0",
                  "f4": "0.385",
                  "f11": "0.32",
                  "target": "5.0",
                  "summary": "min",
                  "f2": "0.46",
                  "f12": "1.98"
                },
                {
                  "f7": "2.0651",
                  "f6": "47.2",
                  "f1": "0.0",
                  "f8": "4.0",
                  "f10": "17.4",
                  "f0": "0.09164",
                  "f5": "5.875",
                  "f3": "0.0",
                  "f9": "284.0",
                  "f4": "0.453",
                  "f11": "371.58",
                  "target": "16.3",
                  "summary": "25%",
                  "f2": "5.64",
                  "f12": "7.39"
                },
                {
                  "f7": "2.9634",
                  "f6": "80.8",
                  "f1": "0.0",
                  "f8": "5.0",
                  "f10": "19.1",
                  "f0": "0.29916",
                  "f5": "6.167",
                  "f3": "0.0",
                  "f9": "334.0",
                  "f4": "0.538",
                  "f11": "390.95",
                  "target": "20.7",
                  "summary": "50%",
                  "f2": "9.9",
                  "f12": "12.26"
                },
                {
                  "f7": "5.1004",
                  "f6": "94.6",
                  "f1": "12.5",
                  "f8": "24.0",
                  "f10": "20.2",
                  "f0": "3.83684",
                  "f5": "6.567",
                  "f3": "0.0",
                  "f9": "666.0",
                  "f4": "0.647",
                  "f11": "396.23",
                  "target": "24.7",
                  "summary": "75%",
                  "f2": "18.1",
                  "f12": "17.27"
                },
                {
                  "f7": "10.7103",
                  "f6": "100.0",
                  "f1": "95.0",
                  "f8": "24.0",
                  "f10": "22.0",
                  "f0": "73.5341",
                  "f5": "8.78",
                  "f3": "1.0",
                  "f9": "711.0",
                  "f4": "0.871",
                  "f11": "396.9",
                  "target": "50.0",
                  "summary": "max",
                  "f2": "27.74",
                  "f12": "37.97"
                }
              ],
              "schema": {
                "summary": "string",
                "target": "string",
                "f0": "string",
                "f1": "string",
                "f2": "string",
                "f3": "string",
                "f4": "string",
                "f5": "string",
                "f6": "string",
                "f7": "string",
                "f8": "string",
                "f9": "string",
                "f10": "string",
                "f11": "string",
                "f12": "string"
              }
            },
            "isSummary": false,
            "language": "scala"
          },
          "persist_state": {
            "view": {
              "type": "details",
              "tableOptions": {},
              "chartOptions": {
                "chartType": "bar",
                "aggregationType": "count",
                "categoryFieldKeys": [
                  "summary"
                ],
                "seriesFieldKeys": [
                  "summary"
                ],
                "isStacked": false
              }
            }
          }
        },
        "67ac460a-7e78-4921-a96a-8b67b49e9f78": {
          "type": "Synapse.DataFrame",
          "sync_state": {
            "table": {
              "rows": [
                {
                  "target": 5,
                  "features": {
                    "type": 1,
                    "values": [
                      38.3518,
                      0,
                      18.1,
                      0,
                      0.693,
                      5.453,
                      100,
                      1.4896,
                      24,
                      666,
                      20.2,
                      396.9,
                      30.59
                    ]
                  }
                },
                {
                  "target": 7,
                  "features": {
                    "type": 1,
                    "values": [
                      0.18337,
                      0,
                      27.74,
                      0,
                      0.609,
                      5.414,
                      98.3,
                      1.7554,
                      4,
                      711,
                      20.1,
                      344.05,
                      23.97
                    ]
                  }
                },
                {
                  "target": 7,
                  "features": {
                    "type": 1,
                    "values": [
                      45.7461,
                      0,
                      18.1,
                      0,
                      0.693,
                      4.519,
                      100,
                      1.6582,
                      24,
                      666,
                      20.2,
                      88.27,
                      36.98
                    ]
                  }
                },
                {
                  "target": 7.2,
                  "features": {
                    "type": 1,
                    "values": [
                      14.2362,
                      0,
                      18.1,
                      0,
                      0.693,
                      6.343,
                      100,
                      1.5741,
                      24,
                      666,
                      20.2,
                      396.9,
                      20.32
                    ]
                  }
                },
                {
                  "target": 7.2,
                  "features": {
                    "type": 1,
                    "values": [
                      16.8118,
                      0,
                      18.1,
                      0,
                      0.7,
                      5.277,
                      98.1,
                      1.4261,
                      24,
                      666,
                      20.2,
                      396.9,
                      30.81
                    ]
                  }
                },
                {
                  "target": 7.2,
                  "features": {
                    "type": 1,
                    "values": [
                      18.0846,
                      0,
                      18.1,
                      0,
                      0.679,
                      6.434,
                      100,
                      1.8347,
                      24,
                      666,
                      20.2,
                      27.25,
                      29.05
                    ]
                  }
                },
                {
                  "target": 7.4,
                  "features": {
                    "type": 1,
                    "values": [
                      22.5971,
                      0,
                      18.1,
                      0,
                      0.7,
                      5,
                      89.5,
                      1.5184,
                      24,
                      666,
                      20.2,
                      396.9,
                      31.99
                    ]
                  }
                },
                {
                  "target": 7.5,
                  "features": {
                    "type": 1,
                    "values": [
                      10.8342,
                      0,
                      18.1,
                      0,
                      0.679,
                      6.782,
                      90.8,
                      1.8195,
                      24,
                      666,
                      20.2,
                      21.57,
                      25.79
                    ]
                  }
                },
                {
                  "target": 8.1,
                  "features": {
                    "type": 1,
                    "values": [
                      0.20746,
                      0,
                      27.74,
                      0,
                      0.609,
                      5.093,
                      98,
                      1.8226,
                      4,
                      711,
                      20.1,
                      318.43,
                      29.68
                    ]
                  }
                },
                {
                  "target": 8.3,
                  "features": {
                    "type": 1,
                    "values": [
                      15.8603,
                      0,
                      18.1,
                      0,
                      0.679,
                      5.896,
                      95.4,
                      1.9096,
                      24,
                      666,
                      20.2,
                      7.68,
                      24.39
                    ]
                  }
                }
              ],
              "schema": {
                "target": "double",
                "features": "org.apache.spark.ml.linalg.VectorUDT@3bfc3ba7"
              }
            },
            "isSummary": false,
            "language": "scala"
          },
          "persist_state": {
            "view": {
              "type": "details",
              "tableOptions": {},
              "chartOptions": {
                "chartType": "bar",
                "aggregationType": "sum",
                "categoryFieldKeys": [],
                "seriesFieldKeys": [
                  "target"
                ],
                "isStacked": false
              }
            }
          }
        },
        "7bd61acb-f98f-4cbb-a96f-e48843fd5dbc": {
          "type": "Synapse.DataFrame",
          "sync_state": {
            "table": {
              "rows": [
                {
                  "target": 5,
                  "features": {
                    "type": 1,
                    "values": [
                      67.9208,
                      0,
                      18.1,
                      0,
                      0.693,
                      5.683,
                      100,
                      1.4254,
                      24,
                      666,
                      20.2,
                      384.97,
                      22.98
                    ]
                  },
                  "prediction": 10.840796919767257
                },
                {
                  "target": 5.6,
                  "features": {
                    "type": 1,
                    "values": [
                      25.0461,
                      0,
                      18.1,
                      0,
                      0.693,
                      5.987,
                      100,
                      1.5888,
                      24,
                      666,
                      20.2,
                      396.9,
                      26.77
                    ]
                  },
                  "prediction": 13.243210244993282
                },
                {
                  "target": 6.3,
                  "features": {
                    "type": 1,
                    "values": [
                      9.91655,
                      0,
                      18.1,
                      0,
                      0.693,
                      5.852,
                      77.8,
                      1.5004,
                      24,
                      666,
                      20.2,
                      338.16,
                      29.97
                    ]
                  },
                  "prediction": 12.14686562729382
                },
                {
                  "target": 8.3,
                  "features": {
                    "type": 1,
                    "values": [
                      24.8017,
                      0,
                      18.1,
                      0,
                      0.693,
                      5.349,
                      96,
                      1.7028,
                      24,
                      666,
                      20.2,
                      396.9,
                      19.77
                    ]
                  },
                  "prediction": 14.471714057928402
                },
                {
                  "target": 8.5,
                  "features": {
                    "type": 1,
                    "values": [
                      7.67202,
                      0,
                      18.1,
                      0,
                      0.693,
                      5.747,
                      98.9,
                      1.6334,
                      24,
                      666,
                      20.2,
                      393.1,
                      19.92
                    ]
                  },
                  "prediction": 17.08265883101909
                },
                {
                  "target": 10.2,
                  "features": {
                    "type": 1,
                    "values": [
                      17.8667,
                      0,
                      18.1,
                      0,
                      0.671,
                      6.223,
                      100,
                      1.3861,
                      24,
                      666,
                      20.2,
                      393.74,
                      21.78
                    ]
                  },
                  "prediction": 17.72097721514993
                },
                {
                  "target": 10.4,
                  "features": {
                    "type": 1,
                    "values": [
                      88.9762,
                      0,
                      18.1,
                      0,
                      0.671,
                      6.968,
                      91.9,
                      1.4165,
                      24,
                      666,
                      20.2,
                      396.9,
                      17.21
                    ]
                  },
                  "prediction": 16.741030711114753
                },
                {
                  "target": 11,
                  "features": {
                    "type": 1,
                    "values": [
                      7.36711,
                      0,
                      18.1,
                      0,
                      0.679,
                      6.193,
                      78.1,
                      1.9356,
                      24,
                      666,
                      20.2,
                      96.73,
                      21.52
                    ]
                  },
                  "prediction": 14.431770346035968
                },
                {
                  "target": 11.3,
                  "features": {
                    "type": 1,
                    "values": [
                      9.18702,
                      0,
                      18.1,
                      0,
                      0.7,
                      5.536,
                      100,
                      1.5804,
                      24,
                      666,
                      20.2,
                      396.9,
                      23.6
                    ]
                  },
                  "prediction": 14.478643032934919
                },
                {
                  "target": 12.7,
                  "features": {
                    "type": 1,
                    "values": [
                      13.3598,
                      0,
                      18.1,
                      0,
                      0.693,
                      5.887,
                      94.7,
                      1.7821,
                      24,
                      666,
                      20.2,
                      396.9,
                      16.35
                    ]
                  },
                  "prediction": 18.65300921286679
                }
              ],
              "schema": {
                "target": "double",
                "features": "org.apache.spark.ml.linalg.VectorUDT@3bfc3ba7",
                "prediction": "double"
              }
            },
            "isSummary": false,
            "language": "scala"
          },
          "persist_state": {
            "view": {
              "type": "details",
              "tableOptions": {},
              "chartOptions": {
                "chartType": "bar",
                "aggregationType": "sum",
                "categoryFieldKeys": [
                  "prediction"
                ],
                "seriesFieldKeys": [
                  "target"
                ],
                "isStacked": false
              }
            }
          }
        },
        "4cb68db8-47ba-4599-af3c-3f250eb51c4e": {
          "type": "Synapse.DataFrame",
          "sync_state": {
            "table": {
              "rows": [
                {
                  "model": "Spark MLlib - Linear Regression",
                  "root_mean_squared_error": 5.289264571158696,
                  "mean_absolute_error": 3.7154226196060236,
                  "mean_squared_error": 27.976319703714584,
                  "R^2": 0.7112910017173594
                }
              ],
              "schema": {
                "model": "string",
                "mean_squared_error": "double",
                "root_mean_squared_error": "double",
                "R^2": "double",
                "mean_absolute_error": "double"
              }
            },
            "isSummary": false,
            "language": "scala"
          },
          "persist_state": {
            "view": {
              "type": "details",
              "tableOptions": {},
              "chartOptions": {
                "chartType": "bar",
                "aggregationType": "sum",
                "categoryFieldKeys": [
                  "model"
                ],
                "seriesFieldKeys": [
                  "mean_squared_error"
                ],
                "isStacked": false
              }
            }
          }
        },
        "75b18f6a-0bd5-4c63-adb0-0e2d986848ad": {
          "type": "Synapse.DataFrame",
          "sync_state": {
            "table": {
              "rows": [
                {
                  "target": 5,
                  "features": {
                    "type": 0,
                    "size": 1073741824,
                    "indices": [
                      287408178,
                      419613213,
                      464140333,
                      556319843,
                      584064458,
                      780495775,
                      824677867,
                      851899283,
                      921728202,
                      933181289,
                      1055634727
                    ],
                    "values": [
                      20.2,
                      100,
                      18.1,
                      1.4896,
                      666,
                      24,
                      30.59,
                      5.453,
                      396.9,
                      38.3518,
                      0.693
                    ]
                  }
                },
                {
                  "target": 7,
                  "features": {
                    "type": 0,
                    "size": 1073741824,
                    "indices": [
                      287408178,
                      419613213,
                      464140333,
                      556319843,
                      584064458,
                      780495775,
                      824677867,
                      851899283,
                      921728202,
                      933181289,
                      1055634727
                    ],
                    "values": [
                      20.1,
                      98.3,
                      27.74,
                      1.7554,
                      711,
                      4,
                      23.97,
                      5.414,
                      344.05,
                      0.18337,
                      0.609
                    ]
                  }
                },
                {
                  "target": 7,
                  "features": {
                    "type": 0,
                    "size": 1073741824,
                    "indices": [
                      287408178,
                      419613213,
                      464140333,
                      556319843,
                      584064458,
                      780495775,
                      824677867,
                      851899283,
                      921728202,
                      933181289,
                      1055634727
                    ],
                    "values": [
                      20.2,
                      100,
                      18.1,
                      1.6582,
                      666,
                      24,
                      36.98,
                      4.519,
                      88.27,
                      45.7461,
                      0.693
                    ]
                  }
                },
                {
                  "target": 7.2,
                  "features": {
                    "type": 0,
                    "size": 1073741824,
                    "indices": [
                      287408178,
                      419613213,
                      464140333,
                      556319843,
                      584064458,
                      780495775,
                      824677867,
                      851899283,
                      921728202,
                      933181289,
                      1055634727
                    ],
                    "values": [
                      20.2,
                      100,
                      18.1,
                      1.5741,
                      666,
                      24,
                      20.32,
                      6.343,
                      396.9,
                      14.2362,
                      0.693
                    ]
                  }
                },
                {
                  "target": 7.2,
                  "features": {
                    "type": 0,
                    "size": 1073741824,
                    "indices": [
                      287408178,
                      419613213,
                      464140333,
                      556319843,
                      584064458,
                      780495775,
                      824677867,
                      851899283,
                      921728202,
                      933181289,
                      1055634727
                    ],
                    "values": [
                      20.2,
                      98.1,
                      18.1,
                      1.4261,
                      666,
                      24,
                      30.81,
                      5.277,
                      396.9,
                      16.8118,
                      0.7
                    ]
                  }
                },
                {
                  "target": 7.2,
                  "features": {
                    "type": 0,
                    "size": 1073741824,
                    "indices": [
                      287408178,
                      419613213,
                      464140333,
                      556319843,
                      584064458,
                      780495775,
                      824677867,
                      851899283,
                      921728202,
                      933181289,
                      1055634727
                    ],
                    "values": [
                      20.2,
                      100,
                      18.1,
                      1.8347,
                      666,
                      24,
                      29.05,
                      6.434,
                      27.25,
                      18.0846,
                      0.679
                    ]
                  }
                },
                {
                  "target": 7.4,
                  "features": {
                    "type": 0,
                    "size": 1073741824,
                    "indices": [
                      287408178,
                      419613213,
                      464140333,
                      556319843,
                      584064458,
                      780495775,
                      824677867,
                      851899283,
                      921728202,
                      933181289,
                      1055634727
                    ],
                    "values": [
                      20.2,
                      89.5,
                      18.1,
                      1.5184,
                      666,
                      24,
                      31.99,
                      5,
                      396.9,
                      22.5971,
                      0.7
                    ]
                  }
                },
                {
                  "target": 7.5,
                  "features": {
                    "type": 0,
                    "size": 1073741824,
                    "indices": [
                      287408178,
                      419613213,
                      464140333,
                      556319843,
                      584064458,
                      780495775,
                      824677867,
                      851899283,
                      921728202,
                      933181289,
                      1055634727
                    ],
                    "values": [
                      20.2,
                      90.8,
                      18.1,
                      1.8195,
                      666,
                      24,
                      25.79,
                      6.782,
                      21.57,
                      10.8342,
                      0.679
                    ]
                  }
                },
                {
                  "target": 8.1,
                  "features": {
                    "type": 0,
                    "size": 1073741824,
                    "indices": [
                      287408178,
                      419613213,
                      464140333,
                      556319843,
                      584064458,
                      780495775,
                      824677867,
                      851899283,
                      921728202,
                      933181289,
                      1055634727
                    ],
                    "values": [
                      20.1,
                      98,
                      27.74,
                      1.8226,
                      711,
                      4,
                      29.68,
                      5.093,
                      318.43,
                      0.20746,
                      0.609
                    ]
                  }
                },
                {
                  "target": 8.3,
                  "features": {
                    "type": 0,
                    "size": 1073741824,
                    "indices": [
                      287408178,
                      419613213,
                      464140333,
                      556319843,
                      584064458,
                      780495775,
                      824677867,
                      851899283,
                      921728202,
                      933181289,
                      1055634727
                    ],
                    "values": [
                      20.2,
                      95.4,
                      18.1,
                      1.9096,
                      666,
                      24,
                      24.39,
                      5.896,
                      7.68,
                      15.8603,
                      0.679
                    ]
                  }
                }
              ],
              "schema": {
                "target": "double",
                "features": "org.apache.spark.ml.linalg.VectorUDT@3bfc3ba7"
              }
            },
            "isSummary": false,
            "language": "scala"
          },
          "persist_state": {
            "view": {
              "type": "details",
              "tableOptions": {},
              "chartOptions": {
                "chartType": "bar",
                "aggregationType": "sum",
                "categoryFieldKeys": [],
                "seriesFieldKeys": [
                  "target"
                ],
                "isStacked": false
              }
            }
          }
        },
        "f093dd5e-769b-4894-b2d0-08ef38edeb67": {
          "type": "Synapse.DataFrame",
          "sync_state": {
            "table": {
              "rows": [
                {
                  "target": 5,
                  "features": {
                    "type": 0,
                    "size": 1073741824,
                    "indices": [
                      287408178,
                      419613213,
                      464140333,
                      556319843,
                      584064458,
                      780495775,
                      824677867,
                      851899283,
                      921728202,
                      933181289,
                      1055634727
                    ],
                    "values": [
                      20.2,
                      100,
                      18.1,
                      1.4254,
                      666,
                      24,
                      22.98,
                      5.683,
                      384.97,
                      67.9208,
                      0.693
                    ]
                  },
                  "rawPrediction": 20.90886688232422,
                  "prediction": 20.90886688232422
                },
                {
                  "target": 5.6,
                  "features": {
                    "type": 0,
                    "size": 1073741824,
                    "indices": [
                      287408178,
                      419613213,
                      464140333,
                      556319843,
                      584064458,
                      780495775,
                      824677867,
                      851899283,
                      921728202,
                      933181289,
                      1055634727
                    ],
                    "values": [
                      20.2,
                      100,
                      18.1,
                      1.5888,
                      666,
                      24,
                      26.77,
                      5.987,
                      396.9,
                      25.0461,
                      0.693
                    ]
                  },
                  "rawPrediction": 32.110198974609375,
                  "prediction": 32.110198974609375
                },
                {
                  "target": 6.3,
                  "features": {
                    "type": 0,
                    "size": 1073741824,
                    "indices": [
                      287408178,
                      419613213,
                      464140333,
                      556319843,
                      584064458,
                      780495775,
                      824677867,
                      851899283,
                      921728202,
                      933181289,
                      1055634727
                    ],
                    "values": [
                      20.2,
                      77.8,
                      18.1,
                      1.5004,
                      666,
                      24,
                      29.97,
                      5.852,
                      338.16,
                      9.91655,
                      0.693
                    ]
                  },
                  "rawPrediction": 34.4964599609375,
                  "prediction": 34.4964599609375
                },
                {
                  "target": 8.3,
                  "features": {
                    "type": 0,
                    "size": 1073741824,
                    "indices": [
                      287408178,
                      419613213,
                      464140333,
                      556319843,
                      584064458,
                      780495775,
                      824677867,
                      851899283,
                      921728202,
                      933181289,
                      1055634727
                    ],
                    "values": [
                      20.2,
                      96,
                      18.1,
                      1.7028,
                      666,
                      24,
                      19.77,
                      5.349,
                      396.9,
                      24.8017,
                      0.693
                    ]
                  },
                  "rawPrediction": 33.560638427734375,
                  "prediction": 33.560638427734375
                },
                {
                  "target": 8.5,
                  "features": {
                    "type": 0,
                    "size": 1073741824,
                    "indices": [
                      287408178,
                      419613213,
                      464140333,
                      556319843,
                      584064458,
                      780495775,
                      824677867,
                      851899283,
                      921728202,
                      933181289,
                      1055634727
                    ],
                    "values": [
                      20.2,
                      98.9,
                      18.1,
                      1.6334,
                      666,
                      24,
                      19.92,
                      5.747,
                      393.1,
                      7.67202,
                      0.693
                    ]
                  },
                  "rawPrediction": 40.183040618896484,
                  "prediction": 40.183040618896484
                },
                {
                  "target": 10.2,
                  "features": {
                    "type": 0,
                    "size": 1073741824,
                    "indices": [
                      287408178,
                      419613213,
                      464140333,
                      556319843,
                      584064458,
                      780495775,
                      824677867,
                      851899283,
                      921728202,
                      933181289,
                      1055634727
                    ],
                    "values": [
                      20.2,
                      100,
                      18.1,
                      1.3861,
                      666,
                      24,
                      21.78,
                      6.223,
                      393.74,
                      17.8667,
                      0.671
                    ]
                  },
                  "rawPrediction": 37.640419006347656,
                  "prediction": 37.640419006347656
                },
                {
                  "target": 10.4,
                  "features": {
                    "type": 0,
                    "size": 1073741824,
                    "indices": [
                      287408178,
                      419613213,
                      464140333,
                      556319843,
                      584064458,
                      780495775,
                      824677867,
                      851899283,
                      921728202,
                      933181289,
                      1055634727
                    ],
                    "values": [
                      20.2,
                      91.9,
                      18.1,
                      1.4165,
                      666,
                      24,
                      17.21,
                      6.968,
                      396.9,
                      88.9762,
                      0.671
                    ]
                  },
                  "rawPrediction": 23.387290954589844,
                  "prediction": 23.387290954589844
                },
                {
                  "target": 11,
                  "features": {
                    "type": 0,
                    "size": 1073741824,
                    "indices": [
                      287408178,
                      419613213,
                      464140333,
                      556319843,
                      584064458,
                      780495775,
                      824677867,
                      851899283,
                      921728202,
                      933181289,
                      1055634727
                    ],
                    "values": [
                      20.2,
                      78.1,
                      18.1,
                      1.9356,
                      666,
                      24,
                      21.52,
                      6.193,
                      96.73,
                      7.36711,
                      0.679
                    ]
                  },
                  "rawPrediction": 33.56855010986328,
                  "prediction": 33.56855010986328
                },
                {
                  "target": 11.3,
                  "features": {
                    "type": 0,
                    "size": 1073741824,
                    "indices": [
                      287408178,
                      419613213,
                      464140333,
                      556319843,
                      584064458,
                      780495775,
                      824677867,
                      851899283,
                      921728202,
                      933181289,
                      1055634727
                    ],
                    "values": [
                      20.2,
                      100,
                      18.1,
                      1.5804,
                      666,
                      24,
                      23.6,
                      5.536,
                      396.9,
                      9.18702,
                      0.7
                    ]
                  },
                  "rawPrediction": 37.96609115600586,
                  "prediction": 37.96609115600586
                },
                {
                  "target": 12.7,
                  "features": {
                    "type": 0,
                    "size": 1073741824,
                    "indices": [
                      287408178,
                      419613213,
                      464140333,
                      556319843,
                      584064458,
                      780495775,
                      824677867,
                      851899283,
                      921728202,
                      933181289,
                      1055634727
                    ],
                    "values": [
                      20.2,
                      94.7,
                      18.1,
                      1.7821,
                      666,
                      24,
                      16.35,
                      5.887,
                      396.9,
                      13.3598,
                      0.693
                    ]
                  },
                  "rawPrediction": 39.88002014160156,
                  "prediction": 39.88002014160156
                }
              ],
              "schema": {
                "target": "double",
                "features": "org.apache.spark.ml.linalg.VectorUDT@3bfc3ba7",
                "rawPrediction": "double",
                "prediction": "double"
              }
            },
            "isSummary": false,
            "language": "scala"
          },
          "persist_state": {
            "view": {
              "type": "details",
              "tableOptions": {},
              "chartOptions": {
                "chartType": "bar",
                "aggregationType": "sum",
                "categoryFieldKeys": [
                  "rawPrediction"
                ],
                "seriesFieldKeys": [
                  "target"
                ],
                "isStacked": false
              }
            }
          }
        },
        "101b367b-fea5-40ed-a21d-9e329f7c6733": {
          "type": "Synapse.DataFrame",
          "sync_state": {
            "table": {
              "rows": [
                {
                  "model": "Spark MLlib - Linear Regression",
                  "root_mean_squared_error": 5.289264571158696,
                  "mean_absolute_error": 3.7154226196060236,
                  "mean_squared_error": 27.976319703714584,
                  "R^2": 0.7112910017173594
                },
                {
                  "model": "Vowpal Wabbit",
                  "root_mean_squared_error": 16.174328983110463,
                  "mean_absolute_error": 14.759180039398432,
                  "mean_squared_error": 261.6089180538872,
                  "R^2": -1.6997421202301588
                }
              ],
              "schema": {
                "model": "string",
                "mean_squared_error": "double",
                "root_mean_squared_error": "double",
                "R^2": "double",
                "mean_absolute_error": "double"
              }
            },
            "isSummary": false,
            "language": "scala"
          },
          "persist_state": {
            "view": {
              "type": "details",
              "tableOptions": {},
              "chartOptions": {
                "chartType": "bar",
                "aggregationType": "sum",
                "categoryFieldKeys": [
                  "model"
                ],
                "seriesFieldKeys": [
                  "mean_squared_error"
                ],
                "isStacked": false
              }
            }
          }
        },
        "d5510992-334f-4923-8431-4b7cd4d2fd26": {
          "type": "Synapse.DataFrame",
          "sync_state": {
            "table": {
              "rows": [
                {
                  "target": 5,
                  "features": {
                    "type": 1,
                    "values": [
                      67.9208,
                      0,
                      18.1,
                      0,
                      0.693,
                      5.683,
                      100,
                      1.4254,
                      24,
                      666,
                      20.2,
                      384.97,
                      22.98
                    ]
                  },
                  "prediction": 10.125545304878454
                },
                {
                  "target": 5.6,
                  "features": {
                    "type": 1,
                    "values": [
                      25.0461,
                      0,
                      18.1,
                      0,
                      0.693,
                      5.987,
                      100,
                      1.5888,
                      24,
                      666,
                      20.2,
                      396.9,
                      26.77
                    ]
                  },
                  "prediction": 7.8555181506504566
                },
                {
                  "target": 6.3,
                  "features": {
                    "type": 1,
                    "values": [
                      9.91655,
                      0,
                      18.1,
                      0,
                      0.693,
                      5.852,
                      77.8,
                      1.5004,
                      24,
                      666,
                      20.2,
                      338.16,
                      29.97
                    ]
                  },
                  "prediction": 12.350327830954347
                },
                {
                  "target": 8.3,
                  "features": {
                    "type": 1,
                    "values": [
                      24.8017,
                      0,
                      18.1,
                      0,
                      0.693,
                      5.349,
                      96,
                      1.7028,
                      24,
                      666,
                      20.2,
                      396.9,
                      19.77
                    ]
                  },
                  "prediction": 9.408284298711045
                },
                {
                  "target": 8.5,
                  "features": {
                    "type": 1,
                    "values": [
                      7.67202,
                      0,
                      18.1,
                      0,
                      0.693,
                      5.747,
                      98.9,
                      1.6334,
                      24,
                      666,
                      20.2,
                      393.1,
                      19.92
                    ]
                  },
                  "prediction": 11.705711758454298
                },
                {
                  "target": 10.2,
                  "features": {
                    "type": 1,
                    "values": [
                      17.8667,
                      0,
                      18.1,
                      0,
                      0.671,
                      6.223,
                      100,
                      1.3861,
                      24,
                      666,
                      20.2,
                      393.74,
                      21.78
                    ]
                  },
                  "prediction": 11.378612631892928
                },
                {
                  "target": 10.4,
                  "features": {
                    "type": 1,
                    "values": [
                      88.9762,
                      0,
                      18.1,
                      0,
                      0.671,
                      6.968,
                      91.9,
                      1.4165,
                      24,
                      666,
                      20.2,
                      396.9,
                      17.21
                    ]
                  },
                  "prediction": 12.758518021271096
                },
                {
                  "target": 11,
                  "features": {
                    "type": 1,
                    "values": [
                      7.36711,
                      0,
                      18.1,
                      0,
                      0.679,
                      6.193,
                      78.1,
                      1.9356,
                      24,
                      666,
                      20.2,
                      96.73,
                      21.52
                    ]
                  },
                  "prediction": 11.009850748168407
                },
                {
                  "target": 11.3,
                  "features": {
                    "type": 1,
                    "values": [
                      9.18702,
                      0,
                      18.1,
                      0,
                      0.7,
                      5.536,
                      100,
                      1.5804,
                      24,
                      666,
                      20.2,
                      396.9,
                      23.6
                    ]
                  },
                  "prediction": 11.789698630551646
                },
                {
                  "target": 12.7,
                  "features": {
                    "type": 1,
                    "values": [
                      13.3598,
                      0,
                      18.1,
                      0,
                      0.693,
                      5.887,
                      94.7,
                      1.7821,
                      24,
                      666,
                      20.2,
                      396.9,
                      16.35
                    ]
                  },
                  "prediction": 12.862038681023014
                }
              ],
              "schema": {
                "target": "double",
                "features": "org.apache.spark.ml.linalg.VectorUDT@3bfc3ba7",
                "prediction": "double"
              }
            },
            "isSummary": false,
            "language": "scala"
          },
          "persist_state": {
            "view": {
              "type": "details",
              "tableOptions": {},
              "chartOptions": {
                "chartType": "bar",
                "aggregationType": "sum",
                "categoryFieldKeys": [
                  "prediction"
                ],
                "seriesFieldKeys": [
                  "target"
                ],
                "isStacked": false
              }
            }
          }
        },
        "f392ffbc-b63e-4173-bf67-0a565b734571": {
          "type": "Synapse.DataFrame",
          "sync_state": {
            "table": {
              "rows": [
                {
                  "model": "Spark MLlib - Linear Regression",
                  "root_mean_squared_error": 5.289264571158696,
                  "mean_absolute_error": 3.7154226196060236,
                  "mean_squared_error": 27.976319703714584,
                  "R^2": 0.7112910017173594
                },
                {
                  "model": "Vowpal Wabbit",
                  "root_mean_squared_error": 16.174328983110463,
                  "mean_absolute_error": 14.759180039398432,
                  "mean_squared_error": 261.6089180538872,
                  "R^2": -1.6997421202301588
                },
                {
                  "model": "LightGBM",
                  "root_mean_squared_error": 4.137126234991358,
                  "mean_absolute_error": 2.671315643076597,
                  "mean_squared_error": 17.11581348425377,
                  "R^2": 0.823368855583413
                }
              ],
              "schema": {
                "model": "string",
                "mean_squared_error": "double",
                "root_mean_squared_error": "double",
                "R^2": "double",
                "mean_absolute_error": "double"
              }
            },
            "isSummary": false,
            "language": "scala"
          },
          "persist_state": {
            "view": {
              "type": "details",
              "tableOptions": {},
              "chartOptions": {
                "chartType": "bar",
                "aggregationType": "sum",
                "categoryFieldKeys": [
                  "model"
                ],
                "seriesFieldKeys": [
                  "mean_squared_error"
                ],
                "isStacked": false
              }
            }
          }
        }
      }
    }
  },
  "nbformat": 4,
  "nbformat_minor": 2
}