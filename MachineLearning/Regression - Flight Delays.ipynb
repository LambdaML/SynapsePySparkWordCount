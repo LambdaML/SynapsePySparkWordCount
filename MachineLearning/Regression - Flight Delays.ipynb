{
  "nbformat": 4,
  "nbformat_minor": 2,
  "cells": [
    {
      "cell_type": "markdown",
      "metadata": {},
      "source": [
        "## 102 - Training Regression Algorithms with the L-BFGS Solver\n",
        "\n",
        "In this example, we run a linear regression on the *Flight Delay* dataset to predict the delay times.\n",
        "\n",
        "We demonstrate how to use the `TrainRegressor` and the `ComputePerInstanceStatistics` APIs.\n",
        "\n",
        "First, import the packages."
      ]
    },
    {
      "cell_type": "code",
      "execution_count": 1,
      "outputs": [
        {
          "output_type": "display_data",
          "data": {
            "application/vnd.livy.statement-meta+json": {
              "spark_pool": "SamplePool",
              "session_id": 43,
              "statement_id": 1,
              "state": "finished",
              "livy_statement_state": "available",
              "queued_time": "2021-03-15T08:46:08.9647369Z",
              "execution_start_time": "2021-03-15T08:48:29.668707Z",
              "execution_finish_time": "2021-03-15T08:48:31.7410174Z"
            },
            "text/plain": "StatementMeta(SamplePool, 43, 1, Finished, Available)"
          },
          "metadata": {}
        },
        {
          "output_type": "execute_result",
          "data": {
            "text/plain": ""
          },
          "execution_count": 1,
          "metadata": {}
        }
      ],
      "metadata": {},
      "source": [
        "import numpy as np\n",
        "import pandas as pd\n",
        "import mmlspark"
      ]
    },
    {
      "cell_type": "markdown",
      "metadata": {},
      "source": [
        "Next, import the CSV dataset."
      ]
    },
    {
      "cell_type": "code",
      "execution_count": 2,
      "outputs": [
        {
          "output_type": "display_data",
          "data": {
            "application/vnd.livy.statement-meta+json": {
              "spark_pool": "SamplePool",
              "session_id": 43,
              "statement_id": 2,
              "state": "finished",
              "livy_statement_state": "available",
              "queued_time": "2021-03-15T08:46:08.9666006Z",
              "execution_start_time": "2021-03-15T08:48:31.8549344Z",
              "execution_finish_time": "2021-03-15T08:48:42.2494106Z"
            },
            "text/plain": "StatementMeta(SamplePool, 43, 2, Finished, Available)"
          },
          "metadata": {}
        },
        {
          "output_type": "execute_result",
          "data": {
            "text/plain": "records read: 490199\nSchema: \nroot\n |-- Quarter: long (nullable = true)\n |-- Month: long (nullable = true)\n |-- DayofMonth: long (nullable = true)\n |-- DayOfWeek: long (nullable = true)\n |-- Carrier: string (nullable = true)\n |-- OriginAirportID: long (nullable = true)\n |-- DestAirportID: long (nullable = true)\n |-- CRSDepTime: long (nullable = true)\n |-- DepTimeBlk: string (nullable = true)\n |-- CRSArrTime: long (nullable = true)\n |-- ArrDelay: double (nullable = true)\n |-- ArrTimeBlk: string (nullable = true)\n |-- Diverted: double (nullable = true)\n\n   Quarter  Month  DayofMonth  ...  ArrDelay ArrTimeBlk  Diverted\n0        3      9           9  ...      17.0  2100-2159       0.0\n1        3      9          23  ...     159.0  2100-2159       0.0\n2        3      9          24  ...       8.0  2100-2159       0.0\n3        3      9          18  ...      32.0  2100-2159       0.0\n4        3      9          16  ...       NaN  2100-2159       0.0\n5        3      9          13  ...       5.0  2100-2159       0.0\n6        3      9          14  ...       1.0  2100-2159       0.0\n7        3      9          12  ...      64.0  2100-2159       0.0\n8        3      9          10  ...      48.0  2100-2159       0.0\n9        3      9          11  ...       9.0  2100-2159       0.0\n\n[10 rows x 13 columns]"
          },
          "execution_count": 2,
          "metadata": {}
        }
      ],
      "metadata": {},
      "source": [
        "flightDelay = spark.read.parquet(\"wasbs://publicwasb@mmlspark.blob.core.windows.net/On_Time_Performance_2012_9.parquet\")\n",
        "# print some basic info\n",
        "print(\"records read: \" + str(flightDelay.count()))\n",
        "print(\"Schema: \")\n",
        "flightDelay.printSchema()\n",
        "flightDelay.limit(10).toPandas()"
      ]
    },
    {
      "cell_type": "markdown",
      "metadata": {},
      "source": [
        "Split the dataset into train and test sets."
      ]
    },
    {
      "cell_type": "code",
      "execution_count": 3,
      "outputs": [
        {
          "output_type": "display_data",
          "data": {
            "application/vnd.livy.statement-meta+json": {
              "spark_pool": "SamplePool",
              "session_id": 43,
              "statement_id": 3,
              "state": "finished",
              "livy_statement_state": "available",
              "queued_time": "2021-03-15T08:46:08.9682755Z",
              "execution_start_time": "2021-03-15T08:48:42.3464943Z",
              "execution_finish_time": "2021-03-15T08:48:44.4024759Z"
            },
            "text/plain": "StatementMeta(SamplePool, 43, 3, Finished, Available)"
          },
          "metadata": {}
        },
        {
          "output_type": "execute_result",
          "data": {
            "text/plain": ""
          },
          "execution_count": 3,
          "metadata": {}
        }
      ],
      "metadata": {},
      "source": [
        "train,test = flightDelay.randomSplit([0.75, 0.25])"
      ]
    },
    {
      "cell_type": "markdown",
      "metadata": {},
      "source": [
        "Train a regressor on dataset with `l-bfgs`."
      ]
    },
    {
      "cell_type": "code",
      "execution_count": 4,
      "outputs": [
        {
          "output_type": "display_data",
          "data": {
            "application/vnd.livy.statement-meta+json": {
              "spark_pool": "SamplePool",
              "session_id": 43,
              "statement_id": 4,
              "state": "finished",
              "livy_statement_state": "available",
              "queued_time": "2021-03-15T08:46:08.9701277Z",
              "execution_start_time": "2021-03-15T08:48:44.5041212Z",
              "execution_finish_time": "2021-03-15T08:48:58.9408905Z"
            },
            "text/plain": "StatementMeta(SamplePool, 43, 4, Finished, Available)"
          },
          "metadata": {}
        },
        {
          "output_type": "execute_result",
          "data": {
            "text/plain": ""
          },
          "execution_count": 4,
          "metadata": {}
        }
      ],
      "metadata": {},
      "source": [
        "from mmlspark.train import TrainRegressor, TrainedRegressorModel\n",
        "from pyspark.ml.regression import LinearRegression\n",
        "from pyspark.ml.feature import StringIndexer\n",
        "# Convert columns to categorical\n",
        "catCols = [\"Carrier\", \"DepTimeBlk\", \"ArrTimeBlk\"]\n",
        "trainCat = train\n",
        "testCat = test\n",
        "for catCol in catCols:\n",
        "    simodel = StringIndexer(inputCol=catCol, outputCol=catCol + \"Tmp\").fit(train)\n",
        "    trainCat = simodel.transform(trainCat).drop(catCol).withColumnRenamed(catCol + \"Tmp\", catCol)\n",
        "    testCat = simodel.transform(testCat).drop(catCol).withColumnRenamed(catCol + \"Tmp\", catCol)\n",
        "lr = LinearRegression().setRegParam(0.1).setElasticNetParam(0.3)\n",
        "model = TrainRegressor(model=lr, labelCol=\"ArrDelay\").fit(trainCat)"
      ]
    },
    {
      "cell_type": "markdown",
      "metadata": {},
      "source": [
        "Save, load, or Score the regressor on the test data."
      ]
    },
    {
      "cell_type": "code",
      "execution_count": 5,
      "outputs": [
        {
          "output_type": "display_data",
          "data": {
            "application/vnd.livy.statement-meta+json": {
              "spark_pool": "SamplePool",
              "session_id": 43,
              "statement_id": 5,
              "state": "finished",
              "livy_statement_state": "available",
              "queued_time": "2021-03-15T08:46:08.9716699Z",
              "execution_start_time": "2021-03-15T08:48:59.0468478Z",
              "execution_finish_time": "2021-03-15T08:49:29.9983955Z"
            },
            "text/plain": "StatementMeta(SamplePool, 43, 5, Finished, Available)"
          },
          "metadata": {}
        },
        {
          "output_type": "execute_result",
          "data": {
            "text/plain": "   Quarter  Month  DayofMonth  ...  DepTimeBlk  ArrTimeBlk    scores\n0        3      9           1  ...         9.0         1.0  4.642338\n1        3      9           1  ...        11.0         2.0 -2.147081\n2        3      9           1  ...         1.0         8.0 -1.424672\n3        3      9           1  ...        12.0         6.0  4.673187\n4        3      9           1  ...        11.0         8.0 -2.247999\n5        3      9           1  ...        13.0         6.0  5.768083\n6        3      9           1  ...         4.0        13.0 -4.031764\n7        3      9           1  ...         1.0         8.0 -1.493748\n8        3      9           1  ...        11.0         7.0 -1.286130\n9        3      9           1  ...        15.0        16.0  3.747550\n\n[10 rows x 14 columns]"
          },
          "execution_count": 5,
          "metadata": {}
        }
      ],
      "metadata": {},
      "source": [
        "import random\n",
        "model_name = \"flightDelayModel_{}.mml\".format(random.randint(1, 25))\n",
        "model.write().overwrite().save(model_name)\n",
        "flightDelayModel = TrainedRegressorModel.load(model_name)\n",
        "\n",
        "scoredData = flightDelayModel.transform(testCat)\n",
        "scoredData.limit(10).toPandas()"
      ]
    },
    {
      "cell_type": "markdown",
      "metadata": {},
      "source": [
        "Compute model metrics against the entire scored dataset"
      ]
    },
    {
      "cell_type": "code",
      "execution_count": 6,
      "outputs": [
        {
          "output_type": "display_data",
          "data": {
            "application/vnd.livy.statement-meta+json": {
              "spark_pool": "SamplePool",
              "session_id": 43,
              "statement_id": 6,
              "state": "finished",
              "livy_statement_state": "available",
              "queued_time": "2021-03-15T08:46:08.9732941Z",
              "execution_start_time": "2021-03-15T08:49:30.0984637Z",
              "execution_finish_time": "2021-03-15T08:49:32.1637216Z"
            },
            "text/plain": "StatementMeta(SamplePool, 43, 6, Finished, Available)"
          },
          "metadata": {}
        },
        {
          "output_type": "execute_result",
          "data": {
            "text/plain": "   mean_squared_error  root_mean_squared_error       R^2  mean_absolute_error\n0         1133.361571                33.665436  0.045415            17.529481"
          },
          "execution_count": 6,
          "metadata": {}
        }
      ],
      "metadata": {},
      "source": [
        "from mmlspark.train import ComputeModelStatistics\n",
        "metrics = ComputeModelStatistics().transform(scoredData)\n",
        "metrics.toPandas()"
      ]
    },
    {
      "cell_type": "code",
      "execution_count": 7,
      "outputs": [
        {
          "output_type": "display_data",
          "data": {
            "application/vnd.livy.statement-meta+json": {
              "spark_pool": "SamplePool",
              "session_id": 43,
              "statement_id": 7,
              "state": "finished",
              "livy_statement_state": "available",
              "queued_time": "2021-03-15T08:46:08.9750678Z",
              "execution_start_time": "2021-03-15T08:49:32.2627569Z",
              "execution_finish_time": "2021-03-15T08:49:34.3431354Z"
            },
            "text/plain": "StatementMeta(SamplePool, 43, 7, Finished, Available)"
          },
          "metadata": {}
        },
        {
          "output_type": "execute_result",
          "data": {
            "text/plain": "33.665435845486535"
          },
          "execution_count": 7,
          "metadata": {}
        }
      ],
      "metadata": {
        "diagram": {
          "activateDiagramType": 1,
          "chartConfig": {
            "category": "bar",
            "keys": [
              "root_mean_squared_error"
            ],
            "values": [
              "mean_squared_error"
            ],
            "yLabel": "mean_squared_error",
            "xLabel": "root_mean_squared_error",
            "aggregation": "SUM",
            "aggByBackend": false
          },
          "aggData": "{\"mean_squared_error\":{\"33.33228625142675\":1111.0413067470529}}",
          "isSummary": false,
          "previewData": {
            "filter": null
          },
          "isSql": false
        }
      },
      "source": [
        "metrics.first()['root_mean_squared_error']"
      ]
    },
    {
      "cell_type": "markdown",
      "metadata": {},
      "source": [
        "Finally, compute and show per-instance statistics, demonstrating the usage\n",
        "of `ComputePerInstanceStatistics`."
      ]
    },
    {
      "cell_type": "code",
      "execution_count": 8,
      "outputs": [
        {
          "output_type": "display_data",
          "data": {
            "application/vnd.livy.statement-meta+json": {
              "spark_pool": "SamplePool",
              "session_id": 43,
              "statement_id": 8,
              "state": "finished",
              "livy_statement_state": "available",
              "queued_time": "2021-03-15T08:46:08.9772543Z",
              "execution_start_time": "2021-03-15T08:49:34.4423915Z",
              "execution_finish_time": "2021-03-15T08:49:36.5167276Z"
            },
            "text/plain": "StatementMeta(SamplePool, 43, 8, Finished, Available)"
          },
          "metadata": {}
        },
        {
          "output_type": "execute_result",
          "data": {
            "text/plain": "   ArrDelay    Scores    L1_loss      L2_loss\n0      19.0  2.365212  16.634788   276.716181\n1     -26.0 -0.322294  25.677706   659.344584\n2     -11.0  8.009789  19.009789   361.372060\n3      16.0  1.634964  14.365036   206.354251\n4      -7.0 -0.236589   6.763411    45.743733\n5      14.0  6.238971   7.761029    60.233570\n6     -14.0  2.064378  16.064378   258.064234\n7       8.0  5.721098   2.278902     5.193396\n8      40.0  7.145334  32.854666  1079.429066\n9     -20.0 -3.795250  16.204750   262.593929"
          },
          "execution_count": 8,
          "metadata": {}
        }
      ],
      "metadata": {},
      "source": [
        "from mmlspark.train import ComputePerInstanceStatistics\n",
        "evalPerInstance = ComputePerInstanceStatistics().transform(scoredData)\n",
        "evalPerInstance.select(\"ArrDelay\", \"Scores\", \"L1_loss\", \"L2_loss\").limit(10).toPandas()"
      ]
    },
    {
      "cell_type": "code",
      "execution_count": 9,
      "outputs": [
        {
          "output_type": "display_data",
          "data": {
            "application/vnd.livy.statement-meta+json": {
              "spark_pool": "SamplePool",
              "session_id": 43,
              "statement_id": 9,
              "state": "finished",
              "livy_statement_state": "available",
              "queued_time": "2021-03-15T08:46:08.9798281Z",
              "execution_start_time": "2021-03-15T08:49:36.6187453Z",
              "execution_finish_time": "2021-03-15T08:49:38.685822Z"
            },
            "text/plain": "StatementMeta(SamplePool, 43, 9, Finished, Available)"
          },
          "metadata": {}
        },
        {
          "output_type": "execute_result",
          "data": {
            "text/plain": ""
          },
          "execution_count": 9,
          "metadata": {}
        }
      ],
      "metadata": {
        "jupyter": {
          "source_hidden": false,
          "outputs_hidden": false
        },
        "nteract": {
          "transient": {
            "deleting": false
          }
        },
        "collapsed": true
      },
      "source": [
        "spark.stop()"
      ]
    }
  ],
  "metadata": {
    "save_output": true,
    "kernelspec": {
      "name": "synapse_pyspark",
      "display_name": "Synapse PySpark"
    },
    "language_info": {
      "name": "python"
    },
    "synapse_widget": {
      "version": "0.1",
      "state": {}
    }
  }
}