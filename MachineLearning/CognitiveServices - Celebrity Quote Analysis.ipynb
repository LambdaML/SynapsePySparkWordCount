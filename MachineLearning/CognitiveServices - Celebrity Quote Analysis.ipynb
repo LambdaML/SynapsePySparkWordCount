{
  "nbformat": 4,
  "nbformat_minor": 2,
  "cells": [
    {
      "cell_type": "markdown",
      "metadata": {},
      "source": [
        "# Celebrity Quote Analysis with The Cognitive Services on Spark"
      ]
    },
    {
      "cell_type": "markdown",
      "metadata": {},
      "source": [
        "<img src=\"https://mmlspark.blob.core.windows.net/graphics/SparkSummit2/cog_services.png\" width=\"800\" style=\"float: center;\"/>"
      ]
    },
    {
      "cell_type": "code",
      "execution_count": 1,
      "outputs": [
        {
          "output_type": "display_data",
          "data": {
            "application/vnd.livy.statement-meta+json": {
              "spark_pool": "SamplePool",
              "session_id": 31,
              "statement_id": 1,
              "state": "finished",
              "livy_statement_state": "available",
              "queued_time": "2021-03-15T05:41:59.3644018Z",
              "execution_start_time": "2021-03-15T05:42:34.6327901Z",
              "execution_finish_time": "2021-03-15T05:42:38.7684761Z"
            },
            "text/plain": "StatementMeta(SamplePool, 31, 1, Finished, Available)"
          },
          "metadata": {}
        },
        {
          "output_type": "execute_result",
          "data": {
            "text/plain": ""
          },
          "execution_count": 1,
          "metadata": {}
        }
      ],
      "metadata": {},
      "source": [
        "from mmlspark.cognitive import *\n",
        "from pyspark.ml import PipelineModel\n",
        "from pyspark.sql.functions import col, udf\n",
        "from pyspark.ml.feature import SQLTransformer\n",
        "import os\n",
        "\n",
        "# get api key from AzureKeyVault linked service: https://docs.microsoft.com/en-us/azure/synapse-analytics/spark/microsoft-spark-utilities?pivots=programming-language-python\n",
        "TEXT_API_KEY = mssparkutils.credentials.getSecret(\"<akv-service-name>\", \"<akv-secret-name>\", \"<linked-service-name>\")\n",
        "VISION_API_KEY = mssparkutils.credentials.getSecret(\"<akv-service-name>\", \"<akv-secret-name>\", \"<linked-service-name>\")\n",
        "BING_IMAGE_SEARCH_KEY = mssparkutils.credentials.getSecret(\"<akv-service-name>\", \"<akv-secret-name>\", \"<linked-service-name>\")\n",
        "\n",
        "TEXT_API_LOCATION = \"<cognitive-service-location>\"\n",
        "VISION_API_LOCATION = \"<cognitive-service-location>\""
      ]
    },
    {
      "cell_type": "markdown",
      "metadata": {},
      "source": [
        "### Extracting celebrity quote images using Bing Image Search on Spark\n",
        "\n",
        "Here we define two Transformers to extract celebrity quote images.\n",
        "\n",
        "<img src=\"https://mmlspark.blob.core.windows.net/graphics/Cog%20Service%20NB/step%201.png\" width=\"600\" style=\"float: center;\"/>"
      ]
    },
    {
      "cell_type": "code",
      "execution_count": 2,
      "outputs": [
        {
          "output_type": "display_data",
          "data": {
            "application/vnd.livy.statement-meta+json": {
              "spark_pool": "SamplePool",
              "session_id": 31,
              "statement_id": 2,
              "state": "finished",
              "livy_statement_state": "available",
              "queued_time": "2021-03-15T05:41:59.3665425Z",
              "execution_start_time": "2021-03-15T05:42:38.8652971Z",
              "execution_finish_time": "2021-03-15T05:42:40.921859Z"
            },
            "text/plain": "StatementMeta(SamplePool, 31, 2, Finished, Available)"
          },
          "metadata": {}
        },
        {
          "output_type": "execute_result",
          "data": {
            "text/plain": ""
          },
          "execution_count": 2,
          "metadata": {}
        }
      ],
      "metadata": {},
      "source": [
        "imgsPerBatch = 2 #the number of images Bing will return for each query\n",
        "offsets = [(i*imgsPerBatch,) for i in range(5)] # A list of offsets, used to page into the search results\n",
        "bingParameters = spark.createDataFrame(offsets, [\"offset\"])\n",
        "\n",
        "bingSearch = BingImageSearch()\\\n",
        "  .setSubscriptionKey(BING_IMAGE_SEARCH_KEY)\\\n",
        "  .setOffsetCol(\"offset\")\\\n",
        "  .setQuery(\"celebrity quotes\")\\\n",
        "  .setCount(imgsPerBatch)\\\n",
        "  .setOutputCol(\"images\")\n",
        "\n",
        "#Transformer to that extracts and flattens the richly structured output of Bing Image Search into a simple URL column\n",
        "getUrls = BingImageSearch.getUrlTransformer(\"images\", \"url\")"
      ]
    },
    {
      "cell_type": "markdown",
      "metadata": {},
      "source": [
        "### Recognizing Images of Celebrities\n",
        "This block identifies the name of the celebrities for each of the images returned by the Bing Image Search.\n",
        "\n",
        "<img src=\"https://mmlspark.blob.core.windows.net/graphics/Cog%20Service%20NB/step%202.png\" width=\"600\" style=\"float: center;\"/>"
      ]
    },
    {
      "cell_type": "code",
      "execution_count": 3,
      "outputs": [
        {
          "output_type": "display_data",
          "data": {
            "application/vnd.livy.statement-meta+json": {
              "spark_pool": "SamplePool",
              "session_id": 31,
              "statement_id": 3,
              "state": "finished",
              "livy_statement_state": "available",
              "queued_time": "2021-03-15T05:41:59.3686458Z",
              "execution_start_time": "2021-03-15T05:42:41.0154081Z",
              "execution_finish_time": "2021-03-15T05:42:43.0845984Z"
            },
            "text/plain": "StatementMeta(SamplePool, 31, 3, Finished, Available)"
          },
          "metadata": {}
        },
        {
          "output_type": "execute_result",
          "data": {
            "text/plain": ""
          },
          "execution_count": 3,
          "metadata": {}
        }
      ],
      "metadata": {},
      "source": [
        "celebs = RecognizeDomainSpecificContent()\\\n",
        "          .setSubscriptionKey(VISION_API_KEY)\\\n",
        "          .setModel(\"celebrities\")\\\n",
        "          .setLocation(VISION_API_LOCATION)\\\n",
        "          .setImageUrlCol(\"url\")\\\n",
        "          .setOutputCol(\"celebs\")\n",
        "\n",
        "#Extract the first celebrity we see from the structured response\n",
        "firstCeleb = SQLTransformer(statement=\"SELECT *, celebs.result.celebrities[0].name as firstCeleb FROM __THIS__\")"
      ]
    },
    {
      "cell_type": "markdown",
      "metadata": {},
      "source": [
        "### Reading the quote from the image.\n",
        "This stage performs OCR on the images to recognize the quotes.\n",
        "\n",
        "<img src=\"https://mmlspark.blob.core.windows.net/graphics/Cog%20Service%20NB/step%203.png\" width=\"600\" style=\"float: center;\"/>"
      ]
    },
    {
      "cell_type": "code",
      "execution_count": 4,
      "outputs": [
        {
          "output_type": "display_data",
          "data": {
            "application/vnd.livy.statement-meta+json": {
              "spark_pool": "SamplePool",
              "session_id": 31,
              "statement_id": 4,
              "state": "finished",
              "livy_statement_state": "available",
              "queued_time": "2021-03-15T05:41:59.3705063Z",
              "execution_start_time": "2021-03-15T05:42:43.1889611Z",
              "execution_finish_time": "2021-03-15T05:42:45.2545306Z"
            },
            "text/plain": "StatementMeta(SamplePool, 31, 4, Finished, Available)"
          },
          "metadata": {}
        },
        {
          "output_type": "execute_result",
          "data": {
            "text/plain": ""
          },
          "execution_count": 4,
          "metadata": {}
        }
      ],
      "metadata": {},
      "source": [
        "from mmlspark.stages import UDFTransformer \n",
        "\n",
        "recognizeText = RecognizeText()\\\n",
        "  .setSubscriptionKey(VISION_API_KEY)\\\n",
        "  .setLocation(VISION_API_LOCATION)\\\n",
        "  .setImageUrlCol(\"url\")\\\n",
        "  .setMode(\"Printed\")\\\n",
        "  .setOutputCol(\"ocr\")\\\n",
        "  .setConcurrency(5)\n",
        "\n",
        "def getTextFunction(ocrRow):\n",
        "    if ocrRow is None: return None\n",
        "    return \"\\n\".join([line.text for line in ocrRow.recognitionResult.lines])\n",
        "\n",
        "# this transformer wil extract a simpler string from the structured output of recognize text\n",
        "getText = UDFTransformer().setUDF(udf(getTextFunction)).setInputCol(\"ocr\").setOutputCol(\"text\")\n",
        ""
      ]
    },
    {
      "cell_type": "markdown",
      "metadata": {},
      "source": [
        "### Understanding the Sentiment of the Quote\n",
        "\n",
        "<img src=\"https://mmlspark.blob.core.windows.net/graphics/Cog%20Service%20NB/step4.jpg\" width=\"600\" style=\"float: center;\"/>"
      ]
    },
    {
      "cell_type": "code",
      "execution_count": 5,
      "outputs": [
        {
          "output_type": "display_data",
          "data": {
            "application/vnd.livy.statement-meta+json": {
              "spark_pool": "SamplePool",
              "session_id": 31,
              "statement_id": 5,
              "state": "finished",
              "livy_statement_state": "available",
              "queued_time": "2021-03-15T05:41:59.3721822Z",
              "execution_start_time": "2021-03-15T05:42:45.3476819Z",
              "execution_finish_time": "2021-03-15T05:42:47.4027983Z"
            },
            "text/plain": "StatementMeta(SamplePool, 31, 5, Finished, Available)"
          },
          "metadata": {}
        },
        {
          "output_type": "execute_result",
          "data": {
            "text/plain": ""
          },
          "execution_count": 5,
          "metadata": {}
        }
      ],
      "metadata": {},
      "source": [
        "sentimentTransformer = TextSentiment()\\\n",
        "    .setTextCol(\"text\")\\\n",
        "    .setLocation(TEXT_API_LOCATION)\\\n",
        "    .setSubscriptionKey(TEXT_API_KEY)\\\n",
        "    .setOutputCol(\"sentiment\")\n",
        "\n",
        "#Extract the sentiment score from the API response body\n",
        "getSentiment = SQLTransformer(statement=\"SELECT *, sentiment[0].sentiment as sentimentLabel FROM __THIS__\")"
      ]
    },
    {
      "cell_type": "markdown",
      "metadata": {},
      "source": [
        "### Tying it all together\n",
        "\n",
        "Now that we have built the stages of our pipeline its time to chain them together into a single model that can be used to process batches of incoming data\n",
        "\n",
        "<img src=\"https://mmlspark.blob.core.windows.net/graphics/Cog%20Service%20NB/full_pipe_2.jpg\" width=\"800\" style=\"float: center;\"/>"
      ]
    },
    {
      "cell_type": "code",
      "execution_count": 6,
      "outputs": [
        {
          "output_type": "display_data",
          "data": {
            "application/vnd.livy.statement-meta+json": {
              "spark_pool": "SamplePool",
              "session_id": 31,
              "statement_id": 6,
              "state": "finished",
              "livy_statement_state": "available",
              "queued_time": "2021-03-15T05:41:59.3744985Z",
              "execution_start_time": "2021-03-15T05:42:47.4975631Z",
              "execution_finish_time": "2021-03-15T05:43:22.6027168Z"
            },
            "text/plain": "StatementMeta(SamplePool, 31, 6, Finished, Available)"
          },
          "metadata": {}
        },
        {
          "output_type": "execute_result",
          "data": {
            "text/plain": "+---+----------+----+--------------+\n|url|firstCeleb|text|sentimentLabel|\n+---+----------+----+--------------+\n+---+----------+----+--------------+"
          },
          "execution_count": 6,
          "metadata": {}
        }
      ],
      "metadata": {},
      "source": [
        "from mmlspark.stages import SelectColumns\n",
        "# Select the final coulmns\n",
        "cleanupColumns = SelectColumns().setCols([\"url\", \"firstCeleb\", \"text\", \"sentimentLabel\"])\n",
        "\n",
        "celebrityQuoteAnalysis = PipelineModel(stages=[\n",
        "  bingSearch, getUrls, celebs, firstCeleb, recognizeText, getText, sentimentTransformer, getSentiment, cleanupColumns])\n",
        "\n",
        "celebrityQuoteAnalysis.transform(bingParameters).show(5)"
      ]
    },
    {
      "cell_type": "code",
      "execution_count": 7,
      "outputs": [
        {
          "output_type": "display_data",
          "data": {
            "application/vnd.livy.statement-meta+json": {
              "spark_pool": "SamplePool",
              "session_id": 31,
              "statement_id": 7,
              "state": "finished",
              "livy_statement_state": "available",
              "queued_time": "2021-03-15T05:44:14.9566228Z",
              "execution_start_time": "2021-03-15T05:44:15.0894811Z",
              "execution_finish_time": "2021-03-15T05:44:17.1634224Z"
            },
            "text/plain": "StatementMeta(SamplePool, 31, 7, Finished, Available)"
          },
          "metadata": {}
        },
        {
          "output_type": "execute_result",
          "data": {
            "text/plain": ""
          },
          "execution_count": 7,
          "metadata": {}
        }
      ],
      "metadata": {
        "jupyter": {
          "source_hidden": false,
          "outputs_hidden": false
        },
        "nteract": {
          "transient": {
            "deleting": false
          }
        },
        "collapsed": true
      },
      "source": [
        "spark.stop()"
      ]
    }
  ],
  "metadata": {
    "save_output": true,
    "kernelspec": {
      "name": "synapse_pyspark",
      "display_name": "Synapse PySpark"
    },
    "language_info": {
      "name": "python"
    },
    "synapse_widget": {
      "version": "0.1",
      "state": {}
    }
  }
}