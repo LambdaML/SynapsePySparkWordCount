{
  "nbformat": 4,
  "nbformat_minor": 2,
  "cells": [
    {
      "cell_type": "markdown",
      "metadata": {},
      "source": [
        "## 106 - Quantile Regression with LightGBM\n",
        "\n",
        "We will demonstrate how to use the LightGBM quantile regressor with\n",
        "TrainRegressor and ComputeModelStatistics on the Triazines dataset.\n",
        "\n",
        "\n",
        "This sample demonstrates how to use the following APIs:\n",
        "- [`TrainRegressor`\n",
        "  ](http://mmlspark.azureedge.net/docs/pyspark/TrainRegressor.html)\n",
        "- [`LightGBMRegressor`\n",
        "  ](http://mmlspark.azureedge.net/docs/pyspark/LightGBMRegressor.html)\n",
        "- [`ComputeModelStatistics`\n",
        "  ](http://mmlspark.azureedge.net/docs/pyspark/ComputeModelStatistics.html)"
      ]
    },
    {
      "cell_type": "code",
      "execution_count": 1,
      "outputs": [
        {
          "output_type": "display_data",
          "data": {
            "application/vnd.livy.statement-meta+json": {
              "spark_pool": "SamplePool",
              "session_id": 36,
              "statement_id": 1,
              "state": "finished",
              "livy_statement_state": "available",
              "queued_time": "2021-03-15T08:06:47.4615178Z",
              "execution_start_time": "2021-03-15T08:07:18.5174996Z",
              "execution_finish_time": "2021-03-15T08:07:24.7522627Z"
            },
            "text/plain": "StatementMeta(SamplePool, 36, 1, Finished, Available)"
          },
          "metadata": {}
        },
        {
          "output_type": "execute_result",
          "data": {
            "text/plain": ""
          },
          "execution_count": 1,
          "metadata": {}
        }
      ],
      "metadata": {},
      "source": [
        "triazines = spark.read.format(\"libsvm\")\\\n",
        "    .load(\"wasbs://publicwasb@mmlspark.blob.core.windows.net/triazines.scale.svmlight\")"
      ]
    },
    {
      "cell_type": "code",
      "execution_count": 2,
      "outputs": [
        {
          "output_type": "display_data",
          "data": {
            "application/vnd.livy.statement-meta+json": {
              "spark_pool": "SamplePool",
              "session_id": 36,
              "statement_id": 2,
              "state": "finished",
              "livy_statement_state": "available",
              "queued_time": "2021-03-15T08:06:47.462803Z",
              "execution_start_time": "2021-03-15T08:07:24.8537319Z",
              "execution_finish_time": "2021-03-15T08:07:31.0603484Z"
            },
            "text/plain": "StatementMeta(SamplePool, 36, 2, Finished, Available)"
          },
          "metadata": {}
        },
        {
          "output_type": "execute_result",
          "data": {
            "text/plain": "records read: 105\nSchema: \nroot\n |-- label: double (nullable = true)\n |-- features: vector (nullable = true)\n\n   label                                           features\n0  0.809  (-0.6, -0.3325, -0.3325, -1.0, -1.0, -1.0, -1....\n1  0.602  (-0.6, 0.0, 0.0, -1.0, -0.3325, -1.0, -1.0, 0....\n2  0.442  (-0.6, -1.0, -1.0, -1.0, -1.0, -1.0, -1.0, -1....\n3  0.718  (-0.6, -1.0, -1.0, -1.0, -1.0, -1.0, -1.0, -1....\n4  0.697  (-0.6, -1.0, -1.0, -1.0, -1.0, -1.0, -1.0, -1....\n5  0.757  (0.2, -0.6675, -1.0, -1.0, -1.0, 0.0, -1.0, 0....\n6  0.900  (0.2, -0.6675, -1.0, -1.0, -1.0, 0.0, -1.0, 0....\n7  0.564  (-1.0, -1.0, -1.0, -1.0, -1.0, -1.0, -1.0, -1....\n8  0.772  (0.2, -0.6675, -1.0, -1.0, -1.0, 0.0, -1.0, 0....\n9  0.801  (0.2, -0.6675, -1.0, -1.0, -1.0, 0.0, -1.0, 0....\n/opt/spark/python/lib/pyspark.zip/pyspark/sql/dataframe.py:2110: UserWarning: toPandas attempted Arrow optimization because 'spark.sql.execution.arrow.enabled' is set to true; however, failed by the reason below:\n  Unsupported type in conversion to Arrow: VectorUDT\nAttempting non-optimization as 'spark.sql.execution.arrow.fallback.enabled' is set to true."
          },
          "execution_count": 2,
          "metadata": {}
        }
      ],
      "metadata": {},
      "source": [
        "# print some basic info\n",
        "print(\"records read: \" + str(triazines.count()))\n",
        "print(\"Schema: \")\n",
        "triazines.printSchema()\n",
        "triazines.limit(10).toPandas()"
      ]
    },
    {
      "cell_type": "markdown",
      "metadata": {},
      "source": [
        "Split the dataset into train and test"
      ]
    },
    {
      "cell_type": "code",
      "execution_count": 3,
      "outputs": [
        {
          "output_type": "display_data",
          "data": {
            "application/vnd.livy.statement-meta+json": {
              "spark_pool": "SamplePool",
              "session_id": 36,
              "statement_id": 3,
              "state": "finished",
              "livy_statement_state": "available",
              "queued_time": "2021-03-15T08:06:47.4642456Z",
              "execution_start_time": "2021-03-15T08:07:31.1523825Z",
              "execution_finish_time": "2021-03-15T08:07:33.212621Z"
            },
            "text/plain": "StatementMeta(SamplePool, 36, 3, Finished, Available)"
          },
          "metadata": {}
        },
        {
          "output_type": "execute_result",
          "data": {
            "text/plain": ""
          },
          "execution_count": 3,
          "metadata": {}
        }
      ],
      "metadata": {},
      "source": [
        "train, test = triazines.randomSplit([0.85, 0.15], seed=1)"
      ]
    },
    {
      "cell_type": "markdown",
      "metadata": {},
      "source": [
        "Train the quantile regressor on the training data."
      ]
    },
    {
      "cell_type": "code",
      "execution_count": 4,
      "outputs": [
        {
          "output_type": "display_data",
          "data": {
            "application/vnd.livy.statement-meta+json": {
              "spark_pool": "SamplePool",
              "session_id": 36,
              "statement_id": 4,
              "state": "finished",
              "livy_statement_state": "available",
              "queued_time": "2021-03-15T08:06:47.4657138Z",
              "execution_start_time": "2021-03-15T08:07:33.3031287Z",
              "execution_finish_time": "2021-03-15T08:07:37.4353341Z"
            },
            "text/plain": "StatementMeta(SamplePool, 36, 4, Finished, Available)"
          },
          "metadata": {}
        },
        {
          "output_type": "execute_result",
          "data": {
            "text/plain": ""
          },
          "execution_count": 4,
          "metadata": {}
        }
      ],
      "metadata": {},
      "source": [
        "from mmlspark.lightgbm import LightGBMRegressor\n",
        "model = LightGBMRegressor(objective='quantile',\n",
        "                          alpha=0.2,\n",
        "                          learningRate=0.3,\n",
        "                          numLeaves=31).fit(train)"
      ]
    },
    {
      "cell_type": "markdown",
      "metadata": {},
      "source": [
        "We can save and load LightGBM to a file using the LightGBM native representation"
      ]
    },
    {
      "cell_type": "code",
      "execution_count": 5,
      "outputs": [
        {
          "output_type": "display_data",
          "data": {
            "application/vnd.livy.statement-meta+json": {
              "spark_pool": "SamplePool",
              "session_id": 36,
              "statement_id": 5,
              "state": "finished",
              "livy_statement_state": "available",
              "queued_time": "2021-03-15T08:06:47.4670281Z",
              "execution_start_time": "2021-03-15T08:07:37.5296888Z",
              "execution_finish_time": "2021-03-15T08:07:49.9443568Z"
            },
            "text/plain": "StatementMeta(SamplePool, 36, 5, Finished, Available)"
          },
          "metadata": {}
        },
        {
          "output_type": "execute_result",
          "data": {
            "text/plain": ""
          },
          "execution_count": 5,
          "metadata": {}
        }
      ],
      "metadata": {},
      "source": [
        "from mmlspark.lightgbm import LightGBMRegressionModel\n",
        "model.saveNativeModel(\"mymodel\")\n",
        "model = LightGBMRegressionModel.loadNativeModelFromFile(\"mymodel\")"
      ]
    },
    {
      "cell_type": "markdown",
      "metadata": {},
      "source": [
        "View the feature importances of the trained model."
      ]
    },
    {
      "cell_type": "code",
      "execution_count": 6,
      "outputs": [
        {
          "output_type": "display_data",
          "data": {
            "application/vnd.livy.statement-meta+json": {
              "spark_pool": "SamplePool",
              "session_id": 36,
              "statement_id": 6,
              "state": "finished",
              "livy_statement_state": "available",
              "queued_time": "2021-03-15T08:06:47.4686435Z",
              "execution_start_time": "2021-03-15T08:07:50.0350491Z",
              "execution_finish_time": "2021-03-15T08:07:52.0931658Z"
            },
            "text/plain": "StatementMeta(SamplePool, 36, 6, Finished, Available)"
          },
          "metadata": {}
        },
        {
          "output_type": "execute_result",
          "data": {
            "text/plain": "[18.0, 4.0, 8.0, 0.0, 16.0, 16.0, 0.0, 3.0, 2.0, 0.0, 6.0, 0.0, 0.0, 0.0, 0.0, 0.0, 0.0, 0.0, 0.0, 0.0, 0.0, 0.0, 0.0, 0.0, 0.0, 0.0, 0.0, 0.0, 0.0, 0.0, 5.0, 27.0, 27.0, 18.0, 28.0, 28.0, 0.0, 10.0, 0.0, 4.0, 0.0, 2.0, 0.0, 0.0, 0.0, 0.0, 0.0, 0.0, 0.0, 0.0, 18.0, 0.0, 0.0, 0.0, 0.0, 0.0, 10.0, 0.0, 0.0, 0.0]"
          },
          "execution_count": 6,
          "metadata": {}
        }
      ],
      "metadata": {},
      "source": [
        "print(model.getFeatureImportances())"
      ]
    },
    {
      "cell_type": "markdown",
      "metadata": {},
      "source": [
        "Score the regressor on the test data."
      ]
    },
    {
      "cell_type": "code",
      "execution_count": 7,
      "outputs": [
        {
          "output_type": "display_data",
          "data": {
            "application/vnd.livy.statement-meta+json": {
              "spark_pool": "SamplePool",
              "session_id": 36,
              "statement_id": 7,
              "state": "finished",
              "livy_statement_state": "available",
              "queued_time": "2021-03-15T08:06:47.4705785Z",
              "execution_start_time": "2021-03-15T08:07:52.1935443Z",
              "execution_finish_time": "2021-03-15T08:07:54.2527961Z"
            },
            "text/plain": "StatementMeta(SamplePool, 36, 7, Finished, Available)"
          },
          "metadata": {}
        },
        {
          "output_type": "execute_result",
          "data": {
            "text/plain": "   label                                           features  prediction\n0  0.258  (-0.2, 0.3325, -0.6675, -1.0, 0.3325, 0.0, -1....    0.414115\n1  0.427  (-1.0, -1.0, -1.0, -1.0, -1.0, -1.0, -1.0, -1....    0.539532\n2  0.550  (-0.6, -1.0, -1.0, -1.0, -1.0, -1.0, -1.0, -1....    0.537624\n3  0.614  (0.2, -0.6675, -1.0, -1.0, -1.0, 0.0, -1.0, 0....    0.640256\n4  0.631  (-0.6, -1.0, -1.0, -1.0, -1.0, -1.0, -1.0, -1....    0.422801\n5  0.637  (-0.2, 0.0, 0.0, -1.0, 0.3325, 0.0, -1.0, 0.0,...    0.521593\n6  0.641  (0.2, -0.6675, -1.0, -1.0, -1.0, 0.0, -1.0, 0....    0.585361\n7  0.678  (0.2, -0.6675, -1.0, -1.0, -1.0, 0.0, -1.0, 0....    0.585361\n8  0.788  (0.2, -0.6675, -1.0, -1.0, -1.0, 0.0, -1.0, 0....    0.726604\n9  0.801  (0.2, -0.6675, -1.0, -1.0, -1.0, 0.0, -1.0, 0....    0.634850"
          },
          "execution_count": 7,
          "metadata": {}
        }
      ],
      "metadata": {},
      "source": [
        "scoredData = model.transform(test)\n",
        "scoredData.limit(10).toPandas()"
      ]
    },
    {
      "cell_type": "markdown",
      "metadata": {},
      "source": [
        "Compute metrics using ComputeModelStatistics"
      ]
    },
    {
      "cell_type": "code",
      "execution_count": 8,
      "outputs": [
        {
          "output_type": "display_data",
          "data": {
            "application/vnd.livy.statement-meta+json": {
              "spark_pool": "SamplePool",
              "session_id": 36,
              "statement_id": 8,
              "state": "finished",
              "livy_statement_state": "available",
              "queued_time": "2021-03-15T08:06:47.4722881Z",
              "execution_start_time": "2021-03-15T08:07:54.3480595Z",
              "execution_finish_time": "2021-03-15T08:07:56.4195271Z"
            },
            "text/plain": "StatementMeta(SamplePool, 36, 8, Finished, Available)"
          },
          "metadata": {}
        },
        {
          "output_type": "execute_result",
          "data": {
            "text/plain": "   mean_squared_error  root_mean_squared_error       R^2  mean_absolute_error\n0            0.014862                  0.12191  0.495869             0.107673"
          },
          "execution_count": 8,
          "metadata": {}
        }
      ],
      "metadata": {},
      "source": [
        "from mmlspark.train import ComputeModelStatistics\n",
        "metrics = ComputeModelStatistics(evaluationMetric='regression',\n",
        "                                 labelCol='label',\n",
        "                                 scoresCol='prediction') \\\n",
        "            .transform(scoredData)\n",
        "metrics.toPandas()"
      ]
    },
    {
      "cell_type": "code",
      "execution_count": 9,
      "outputs": [
        {
          "output_type": "display_data",
          "data": {
            "application/vnd.livy.statement-meta+json": {
              "spark_pool": "SamplePool",
              "session_id": 36,
              "statement_id": 9,
              "state": "finished",
              "livy_statement_state": "available",
              "queued_time": "2021-03-15T08:06:47.4742602Z",
              "execution_start_time": "2021-03-15T08:07:56.52141Z",
              "execution_finish_time": "2021-03-15T08:07:58.581244Z"
            },
            "text/plain": "StatementMeta(SamplePool, 36, 9, Finished, Available)"
          },
          "metadata": {}
        },
        {
          "output_type": "display_data",
          "data": {
            "application/vnd.synapse.widget-view+json": {
              "widget_id": "2365ef83-7fa8-4854-bb0e-763f8d5b4b90",
              "widget_type": "Synapse.DataFrame"
            },
            "text/plain": "SynapseWidget(Synapse.DataFrame, 2365ef83-7fa8-4854-bb0e-763f8d5b4b90)"
          },
          "metadata": {}
        },
        {
          "output_type": "execute_result",
          "data": {},
          "execution_count": 9,
          "metadata": {}
        }
      ],
      "metadata": {
        "collapsed": false,
        "diagram": {
          "activateDiagramType": 1,
          "chartConfig": {
            "category": "bar",
            "keys": [
              "root_mean_squared_error"
            ],
            "values": [
              "mean_squared_error"
            ],
            "yLabel": "mean_squared_error",
            "xLabel": "root_mean_squared_error",
            "aggregation": "SUM",
            "aggByBackend": false
          },
          "aggData": "{\"mean_squared_error\":{\"0.12191041769242424\":0.014862149941941344}}",
          "isSummary": false,
          "previewData": {
            "filter": null
          },
          "isSql": false
        }
      },
      "source": [
        "display(metrics)"
      ]
    },
    {
      "cell_type": "code",
      "execution_count": 10,
      "outputs": [
        {
          "output_type": "display_data",
          "data": {
            "application/vnd.livy.statement-meta+json": {
              "spark_pool": "SamplePool",
              "session_id": 36,
              "statement_id": 10,
              "state": "finished",
              "livy_statement_state": "available",
              "queued_time": "2021-03-15T08:06:47.476144Z",
              "execution_start_time": "2021-03-15T08:07:58.6678184Z",
              "execution_finish_time": "2021-03-15T08:08:00.7222849Z"
            },
            "text/plain": "StatementMeta(SamplePool, 36, 10, Finished, Available)"
          },
          "metadata": {}
        },
        {
          "output_type": "execute_result",
          "data": {
            "text/plain": "0.12191041769242424"
          },
          "execution_count": 10,
          "metadata": {}
        }
      ],
      "metadata": {},
      "source": [
        "metrics.first()['root_mean_squared_error']\n",
        ""
      ]
    },
    {
      "cell_type": "code",
      "execution_count": 11,
      "outputs": [
        {
          "output_type": "display_data",
          "data": {
            "application/vnd.livy.statement-meta+json": {
              "spark_pool": "SamplePool",
              "session_id": 36,
              "statement_id": 11,
              "state": "finished",
              "livy_statement_state": "available",
              "queued_time": "2021-03-15T08:06:47.4785269Z",
              "execution_start_time": "2021-03-15T08:08:00.8207074Z",
              "execution_finish_time": "2021-03-15T08:08:02.8678053Z"
            },
            "text/plain": "StatementMeta(SamplePool, 36, 11, Finished, Available)"
          },
          "metadata": {}
        },
        {
          "output_type": "execute_result",
          "data": {
            "text/plain": ""
          },
          "execution_count": 11,
          "metadata": {}
        }
      ],
      "metadata": {
        "jupyter": {
          "source_hidden": false,
          "outputs_hidden": false
        },
        "nteract": {
          "transient": {
            "deleting": false
          }
        },
        "collapsed": true
      },
      "source": [
        "spark.stop()"
      ]
    }
  ],
  "metadata": {
    "save_output": true,
    "kernelspec": {
      "name": "synapse_pyspark",
      "display_name": "Synapse PySpark"
    },
    "language_info": {
      "name": "python"
    },
    "synapse_widget": {
      "version": "0.1",
      "state": {
        "2365ef83-7fa8-4854-bb0e-763f8d5b4b90": {
          "type": "Synapse.DataFrame",
          "sync_state": {
            "table": {
              "rows": [
                {
                  "root_mean_squared_error": "0.12191041769242424",
                  "mean_absolute_error": "0.10767302200950381",
                  "mean_squared_error": "0.014862149941941344",
                  "R^2": "0.4958692216836571"
                }
              ],
              "schema": {
                "mean_squared_error": "double",
                "root_mean_squared_error": "double",
                "R^2": "double",
                "mean_absolute_error": "double"
              }
            },
            "isSummary": false,
            "language": "scala"
          },
          "persist_state": {
            "view": {
              "type": "details",
              "tableOptions": {},
              "chartOptions": {
                "chartType": "bar",
                "aggregationType": "sum",
                "categoryFieldKeys": [
                  "root_mean_squared_error"
                ],
                "seriesFieldKeys": [
                  "mean_squared_error"
                ],
                "isStacked": false
              }
            }
          }
        }
      }
    }
  }
}