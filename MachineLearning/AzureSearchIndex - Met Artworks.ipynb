{
  "nbformat": 4,
  "nbformat_minor": 2,
  "cells": [
    {
      "cell_type": "markdown",
      "metadata": {},
      "source": [
        "<h1>Creating a searchable Art Database with The MET's open-access collection</h1>"
      ]
    },
    {
      "cell_type": "markdown",
      "metadata": {},
      "source": [
        "In this example, we show how you can enrich data using Cognitive Skills and write to an Azure Search Index using MMLSpark. We use a subset of The MET's open-access collection and enrich it by passing it through 'Describe Image' and a custom 'Image Similarity' skill. The results are then written to a searchable index."
      ]
    },
    {
      "cell_type": "code",
      "execution_count": 1,
      "outputs": [],
      "metadata": {},
      "source": [
        "import os, sys, time, json, requests\n",
        "from pyspark.ml import Transformer, Estimator, Pipeline\n",
        "from pyspark.ml.feature import SQLTransformer\n",
        "from pyspark.sql.functions import lit, udf, col, split\n",
        "from notebookutils import mssparkutils"
      ]
    },
    {
      "cell_type": "code",
      "execution_count": 2,
      "outputs": [],
      "metadata": {},
      "source": [
        "# get api key from AzureKeyVault linked service: https://docs.microsoft.com/en-us/azure/synapse-analytics/spark/microsoft-spark-utilities?pivots=programming-language-python\n",
        "VISION_API_KEY = mssparkutils.credentials.getSecret(\"<akv-service-name>\", \"<akv-secret-name>\", \"<linked-service-name>\")\n",
        "AZURE_SEARCH_KEY = mssparkutils.credentials.getSecret(\"<akv-service-name>\", \"<akv-secret-name>\", \"<linked-service-name>\")\n",
        "\n",
        "VISION_API_LOCATION = \"<vision-api-location>\"\n",
        "search_service = \"<search-service-name>\"\n",
        "search_index = \"test\""
      ]
    },
    {
      "cell_type": "code",
      "execution_count": 3,
      "outputs": [],
      "metadata": {},
      "source": [
        "data = spark.read\\\n",
        "  .format(\"csv\")\\\n",
        "  .option(\"header\", True)\\\n",
        "  .load(\"wasbs://publicwasb@mmlspark.blob.core.windows.net/metartworks_sample.csv\")\\\n",
        "  .withColumn(\"searchAction\", lit(\"upload\"))\\\n",
        "  .withColumn(\"Neighbors\", split(col(\"Neighbors\"), \",\").cast(\"array<string>\"))\\\n",
        "  .withColumn(\"Tags\", split(col(\"Tags\"), \",\").cast(\"array<string>\"))\\\n",
        "  .limit(25)"
      ]
    },
    {
      "cell_type": "markdown",
      "metadata": {},
      "source": [
        "<img src=\"https://mmlspark.blob.core.windows.net/graphics/CognitiveSearchHyperscale/MetArtworkSamples.png\" width=\"800\" style=\"float: center;\"/>"
      ]
    },
    {
      "cell_type": "code",
      "execution_count": 4,
      "outputs": [],
      "metadata": {},
      "source": [
        "from mmlspark.cognitive import AnalyzeImage\n",
        "from mmlspark.stages import SelectColumns\n",
        "\n",
        "#define pipeline\n",
        "describeImage = (AnalyzeImage()\n",
        "  .setSubscriptionKey(VISION_API_KEY)\n",
        "  .setLocation(VISION_API_LOCATION)\n",
        "  .setImageUrlCol(\"PrimaryImageUrl\")\n",
        "  .setOutputCol(\"RawImageDescription\")\n",
        "  .setErrorCol(\"Errors\")\n",
        "  .setVisualFeatures([\"Categories\", \"Tags\", \"Description\", \"Faces\", \"ImageType\", \"Color\", \"Adult\"])\n",
        "  .setConcurrency(5))\n",
        "\n",
        "df2 = describeImage.transform(data)\\\n",
        "  .select(\"*\", \"RawImageDescription.*\").drop(\"Errors\", \"RawImageDescription\")"
      ]
    },
    {
      "cell_type": "markdown",
      "metadata": {},
      "source": [
        "<img src=\"https://mmlspark.blob.core.windows.net/graphics/CognitiveSearchHyperscale/MetArtworksProcessed.png\" width=\"800\" style=\"float: center;\"/>"
      ]
    },
    {
      "cell_type": "markdown",
      "metadata": {},
      "source": [
        "Before writing the results to a Search Index, you must define a schema which must specify the name, type, and attributes of each field in your index. Refer [Create a basic index in Azure Search](https://docs.microsoft.com/en-us/azure/search/search-what-is-an-index) for more information."
      ]
    },
    {
      "cell_type": "code",
      "execution_count": 5,
      "outputs": [],
      "metadata": {},
      "source": [
        "from mmlspark.cognitive import *\n",
        "df2.writeToAzureSearch(\n",
        "  subscriptionKey=AZURE_SEARCH_KEY,\n",
        "  actionCol=\"searchAction\",\n",
        "  serviceName=search_service,\n",
        "  indexName=search_index,\n",
        "  keyCol=\"ObjectID\"\n",
        ")"
      ]
    },
    {
      "cell_type": "markdown",
      "metadata": {},
      "source": [
        "The Search Index can be queried using the [Azure Search REST API](https://docs.microsoft.com/rest/api/searchservice/) by sending GET or POST requests and specifying query parameters that give the criteria for selecting matching documents. For more information on querying refer [Query your Azure Search index using the REST API](https://docs.microsoft.com/en-us/rest/api/searchservice/Search-Documents)"
      ]
    },
    {
      "cell_type": "code",
      "execution_count": 6,
      "outputs": [
        {
          "output_type": "execute_result",
          "data": {
            "text/plain": "{'@odata.context': \"https://azuresearchforsynapse.search.windows.net/indexes('test')/$metadata#docs(*)\", 'value': [{'@search.score': 2.3855119, 'ObjectID': '823', 'Department': 'American Decorative Arts', 'Culture': 'American', 'Medium': 'Favrile glass', 'Classification': 'Glass', 'PrimaryImageUrl': 'https://images.metmuseum.org/CRDImages/ad/original/34602.jpg', 'Tags': ['Bowls'], 'Neighbors': ['https://images.metmuseum.org/CRDImages/as/web-large/54933.jpg', 'https://images.metmuseum.org/CRDImages/ph/web-large/DP136836.jpg', 'https://images.metmuseum.org/CRDImages/as/web-large/30_76_258_F.jpg', 'https://images.metmuseum.org/CRDImages/ph/web-large/DP136791.jpg', 'https://images.metmuseum.org/CRDImages/as/web-large/39081.jpg', 'https://images.metmuseum.org/CRDImages/an/web-large/vsz1999_325_117.jpg', 'https://images.metmuseum.org/CRDImages/as/web-large/862.jpg', 'https://images.metmuseum.org/CRDImages/ph/web-large/DP136819.jpg', 'https://images.metmuseum.org/CRDImages/ph/web-large/DP136801.jpg', 'https://images.metmuseum.org/CRDImages/as/web-large/75988.jpg'], 'requestId': None, 'categories': [], 'adult': None, 'tags': [], 'description': None, 'metadata': None, 'faces': [], 'color': None, 'imageType': None, 'brands': [], 'objects': []}, {'@search.score': 2.1759434, 'ObjectID': '1132', 'Department': 'American Decorative Arts', 'Culture': 'British', 'Medium': 'Blown glass, brass', 'Classification': 'Glass', 'PrimaryImageUrl': 'https://images.metmuseum.org/CRDImages/ad/original/148997.jpg', 'Tags': ['Candelabra'], 'Neighbors': ['https://images.metmuseum.org/CRDImages/ad/web-large/148997.jpg', 'https://images.metmuseum.org/CRDImages/es/web-large/81257.jpg', 'https://images.metmuseum.org/CRDImages/es/web-large/78458.jpg', 'https://images.metmuseum.org/CRDImages/es/web-large/78458.jpg', 'https://images.metmuseum.org/CRDImages/es/web-large/143294.jpg', 'https://images.metmuseum.org/CRDImages/es/web-large/134555.jpg', 'https://images.metmuseum.org/CRDImages/ph/web-large/DP139276.jpg', 'https://images.metmuseum.org/CRDImages/es/web-large/166400.jpg', 'https://images.metmuseum.org/CRDImages/ad/web-large/197977.jpg', 'https://images.metmuseum.org/CRDImages/es/web-large/DP-13853-080.jpg'], 'requestId': None, 'categories': [], 'adult': None, 'tags': [], 'description': None, 'metadata': None, 'faces': [], 'color': None, 'imageType': None, 'brands': [], 'objects': []}, {'@search.score': 2.1759434, 'ObjectID': '1303', 'Department': 'American Decorative Arts', 'Culture': 'American', 'Medium': 'Pressed yellow glass', 'Classification': 'Glass', 'PrimaryImageUrl': 'https://images.metmuseum.org/CRDImages/ad/original/DP241774.jpg', 'Tags': ['Candlesticks'], 'Neighbors': ['https://images.metmuseum.org/CRDImages/es/web-large/DP-13159-041.jpg', 'https://images.metmuseum.org/CRDImages/es/web-large/DP-13265-131.jpg', 'https://images.metmuseum.org/CRDImages/es/web-large/DP-13265-137.jpg', 'https://images.metmuseum.org/CRDImages/es/web-large/DP-13265-145.jpg', 'https://images.metmuseum.org/CRDImages/es/web-large/DP-13265-129.jpg', 'https://images.metmuseum.org/CRDImages/es/web-large/DP-1505-014.jpg', 'https://images.metmuseum.org/CRDImages/es/web-large/170408.jpg', 'https://images.metmuseum.org/CRDImages/es/web-large/DP-1505-017.jpg', 'https://images.metmuseum.org/CRDImages/es/web-large/DP-13265-139.jpg', 'https://images.metmuseum.org/CRDImages/ad/web-large/180099.jpg'], 'requestId': None, 'categories': [], 'adult': None, 'tags': [], 'description': None, 'metadata': None, 'faces': [], 'color': None, 'imageType': None, 'brands': [], 'objects': []}, {'@search.score': 2.1759434, 'ObjectID': '2201', 'Department': 'American Decorative Arts', 'Culture': 'American', 'Medium': 'Lacy pressed glass', 'Classification': 'Glass', 'PrimaryImageUrl': 'https://images.metmuseum.org/CRDImages/ad/original/153231.jpg', 'Tags': ['Dishes'], 'Neighbors': ['https://images.metmuseum.org/CRDImages/as/web-large/12330.jpg', 'https://images.metmuseum.org/CRDImages/ad/web-large/153209.jpg', 'https://images.metmuseum.org/CRDImages/ad/web-large/97870.jpg', 'https://images.metmuseum.org/CRDImages/md/web-large/tem1246.jpg', 'https://images.metmuseum.org/CRDImages/dp/web-large/DP805966.jpg', 'https://images.metmuseum.org/CRDImages/es/web-large/DP159042.jpg', 'https://images.metmuseum.org/CRDImages/es/web-large/69309.jpg', 'https://images.metmuseum.org/CRDImages/ad/web-large/153208.jpg', 'https://images.metmuseum.org/CRDImages/ad/web-large/180718.jpg', 'https://images.metmuseum.org/CRDImages/md/web-large/tem1112511.jpg'], 'requestId': None, 'categories': [], 'adult': None, 'tags': [], 'description': None, 'metadata': None, 'faces': [], 'color': None, 'imageType': None, 'brands': [], 'objects': []}, {'@search.score': 2.1759434, 'ObjectID': '2208', 'Department': 'American Decorative Arts', 'Culture': 'American', 'Medium': 'Lacy pressed glass', 'Classification': 'Glass', 'PrimaryImageUrl': 'https://images.metmuseum.org/CRDImages/ad/original/153506.jpg', 'Tags': ['Dishes'], 'Neighbors': ['https://images.metmuseum.org/CRDImages/gr/web-large/DP132170.jpg', 'https://images.metmuseum.org/CRDImages/gr/web-large/16755.jpg', 'https://images.metmuseum.org/CRDImages/gr/web-large/969143.jpg', 'https://images.metmuseum.org/CRDImages/gr/web-large/DP132278.jpg', 'https://images.metmuseum.org/CRDImages/gr/web-large/06102137.jpg', 'https://images.metmuseum.org/CRDImages/gr/web-large/112611.jpg', 'https://images.metmuseum.org/CRDImages/gr/web-large/75431.jpg', 'https://images.metmuseum.org/CRDImages/gr/web-large/DP138812.jpg', 'https://images.metmuseum.org/CRDImages/es/web-large/48570.jpg', 'https://images.metmuseum.org/CRDImages/gr/web-large/DP245785-9618117.jpg'], 'requestId': None, 'categories': [], 'adult': None, 'tags': [], 'description': None, 'metadata': None, 'faces': [], 'color': None, 'imageType': None, 'brands': [], 'objects': []}, {'@search.score': 2.1759434, 'ObjectID': '2284', 'Department': 'American Decorative Arts', 'Culture': 'American', 'Medium': 'Blown pattern-molded glass', 'Classification': 'Glass', 'PrimaryImageUrl': 'https://images.metmuseum.org/CRDImages/ad/original/DP207326.jpg', 'Tags': ['Birds', 'UtilitarianObjects'], 'Neighbors': ['https://images.metmuseum.org/CRDImages/ad/web-large/DP207327.jpg', 'https://images.metmuseum.org/CRDImages/es/web-large/ES5179.jpg', 'https://images.metmuseum.org/CRDImages/es/web-large/134559.jpg', 'https://images.metmuseum.org/CRDImages/es/web-large/134563.jpg', 'https://images.metmuseum.org/CRDImages/es/web-large/151375.jpg', 'https://images.metmuseum.org/CRDImages/es/web-large/118991.jpg', 'https://images.metmuseum.org/CRDImages/es/web-large/118990.jpg', 'https://images.metmuseum.org/CRDImages/es/web-large/205390.jpg', 'https://images.metmuseum.org/CRDImages/es/web-large/165805.jpg', 'https://images.metmuseum.org/CRDImages/es/web-large/165813.jpg'], 'requestId': None, 'categories': [], 'adult': None, 'tags': [], 'description': None, 'metadata': None, 'faces': [], 'color': None, 'imageType': None, 'brands': [], 'objects': []}, {'@search.score': 2.0516553, 'ObjectID': '2062', 'Department': 'American Decorative Arts', 'Culture': 'American or British', 'Medium': 'Blown pattern-molded green glass', 'Classification': 'Glass', 'PrimaryImageUrl': 'https://images.metmuseum.org/CRDImages/ad/original/134115.jpg', 'Tags': ['Lighting'], 'Neighbors': ['https://images.metmuseum.org/CRDImages/es/web-large/119061.jpg', 'https://images.metmuseum.org/CRDImages/es/web-large/ES3622.jpg', 'https://images.metmuseum.org/CRDImages/ad/web-large/APS1137.jpg', 'https://images.metmuseum.org/CRDImages/as/web-large/28225.jpg', 'https://images.metmuseum.org/CRDImages/es/web-large/110766.jpg', 'https://images.metmuseum.org/CRDImages/mi/web-large/MUS592A3.jpg', 'https://images.metmuseum.org/CRDImages/as/web-large/28_186_9.jpg', 'https://images.metmuseum.org/CRDImages/ad/web-large/176266.jpg', 'https://images.metmuseum.org/CRDImages/as/web-large/16272.jpg', 'https://images.metmuseum.org/CRDImages/es/web-large/100766.jpg'], 'requestId': None, 'categories': [], 'adult': None, 'tags': [], 'description': None, 'metadata': None, 'faces': [], 'color': None, 'imageType': None, 'brands': [], 'objects': []}, {'@search.score': 0.7696117, 'ObjectID': '283', 'Department': 'American Decorative Arts', 'Culture': 'American', 'Medium': 'Wool, twigs, moss, brass, glass', 'Classification': 'Natural Substances', 'PrimaryImageUrl': 'https://images.metmuseum.org/CRDImages/ad/original/235453.jpg', 'Tags': ['Birds', 'Plants'], 'Neighbors': ['https://images.metmuseum.org/CRDImages/rl/web-large/SF-1975-1-1579.jpg', 'https://images.metmuseum.org/CRDImages/as/web-large/22_157_10_F2.JPG', 'https://images.metmuseum.org/CRDImages/as/web-large/DP-15313-001.jpg', 'https://images.metmuseum.org/CRDImages/as/web-large/264858.jpg', 'https://images.metmuseum.org/CRDImages/ad/web-large/186853.jpg', 'https://images.metmuseum.org/CRDImages/es/web-large/164227.jpg', 'https://images.metmuseum.org/CRDImages/es/web-large/163093.jpg', 'https://images.metmuseum.org/CRDImages/as/web-large/20692.jpg', 'https://images.metmuseum.org/CRDImages/as/web-large/54770.jpg', 'https://images.metmuseum.org/CRDImages/cl/web-large/sf56-171-91s1.jpg'], 'requestId': None, 'categories': [], 'adult': None, 'tags': [], 'description': None, 'metadata': None, 'faces': [], 'color': None, 'imageType': None, 'brands': [], 'objects': []}]}"
          },
          "execution_count": 9,
          "metadata": {}
        }
      ],
      "metadata": {},
      "source": [
        "url = 'https://{}.search.windows.net/indexes/{}/docs/search?api-version=2019-05-06'.format(search_service, search_index)\n",
        "requests.post(url, json={\"search\": \"Glass\"}, headers = {\"api-key\": AZURE_SEARCH_KEY}).json()"
      ]
    },
    {
      "cell_type": "code",
      "execution_count": 7,
      "outputs": [],
      "metadata": {},
      "source": [
        "spark.stop()"
      ]
    }
  ],
  "metadata": {
    "save_output": true,
    "kernelspec": {
      "name": "synapse_pyspark",
      "display_name": "python"
    },
    "language_info": {
      "name": "python"
    },
    "synapse_widget": {
      "version": "0.1",
      "state": {}
    }
  }
}