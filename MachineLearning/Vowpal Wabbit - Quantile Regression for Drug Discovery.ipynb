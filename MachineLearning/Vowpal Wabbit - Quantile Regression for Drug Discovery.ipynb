{
  "nbformat": 4,
  "nbformat_minor": 2,
  "cells": [
    {
      "cell_type": "markdown",
      "metadata": {},
      "source": [
        "## 106 - Quantile Regression with VowpalWabbit\n",
        "\n",
        "We will demonstrate how to use the VowpalWabbit quantile regressor with\n",
        "TrainRegressor and ComputeModelStatistics on the Triazines dataset.\n",
        "\n",
        "\n",
        "This sample demonstrates how to use the following APIs:\n",
        "- [`TrainRegressor`\n",
        "  ](http://mmlspark.azureedge.net/docs/pyspark/TrainRegressor.html)\n",
        "- [`VowpalWabbitRegressor`\n",
        "  ](http://mmlspark.azureedge.net/docs/pyspark/VowpalWabbitRegressor.html)\n",
        "- [`ComputeModelStatistics`\n",
        "  ](http://mmlspark.azureedge.net/docs/pyspark/ComputeModelStatistics.html)"
      ]
    },
    {
      "cell_type": "code",
      "execution_count": 1,
      "outputs": [
        {
          "output_type": "display_data",
          "data": {
            "application/vnd.livy.statement-meta+json": {
              "spark_pool": "SamplePool",
              "session_id": 47,
              "statement_id": 1,
              "state": "finished",
              "livy_statement_state": "available",
              "queued_time": "2021-03-15T09:06:26.87231Z",
              "execution_start_time": "2021-03-15T09:07:18.7699245Z",
              "execution_finish_time": "2021-03-15T09:07:24.9895145Z"
            },
            "text/plain": "StatementMeta(SamplePool, 47, 1, Finished, Available)"
          },
          "metadata": {}
        },
        {
          "output_type": "execute_result",
          "data": {
            "text/plain": ""
          },
          "execution_count": 1,
          "metadata": {}
        }
      ],
      "metadata": {},
      "source": [
        "triazines = spark.read.format(\"libsvm\")\\\n",
        "    .load(\"wasbs://publicwasb@mmlspark.blob.core.windows.net/triazines.scale.svmlight\")"
      ]
    },
    {
      "cell_type": "code",
      "execution_count": 2,
      "outputs": [
        {
          "output_type": "display_data",
          "data": {
            "application/vnd.livy.statement-meta+json": {
              "spark_pool": "SamplePool",
              "session_id": 47,
              "statement_id": 2,
              "state": "finished",
              "livy_statement_state": "available",
              "queued_time": "2021-03-15T09:06:26.8742464Z",
              "execution_start_time": "2021-03-15T09:07:25.0814259Z",
              "execution_finish_time": "2021-03-15T09:07:27.1639599Z"
            },
            "text/plain": "StatementMeta(SamplePool, 47, 2, Finished, Available)"
          },
          "metadata": {}
        },
        {
          "output_type": "execute_result",
          "data": {
            "text/plain": "records read: 105\nSchema: \nroot\n |-- label: double (nullable = true)\n |-- features: vector (nullable = true)\n\n   label                                           features\n0  0.809  (-0.6, -0.3325, -0.3325, -1.0, -1.0, -1.0, -1....\n1  0.602  (-0.6, 0.0, 0.0, -1.0, -0.3325, -1.0, -1.0, 0....\n2  0.442  (-0.6, -1.0, -1.0, -1.0, -1.0, -1.0, -1.0, -1....\n3  0.718  (-0.6, -1.0, -1.0, -1.0, -1.0, -1.0, -1.0, -1....\n4  0.697  (-0.6, -1.0, -1.0, -1.0, -1.0, -1.0, -1.0, -1....\n5  0.757  (0.2, -0.6675, -1.0, -1.0, -1.0, 0.0, -1.0, 0....\n6  0.900  (0.2, -0.6675, -1.0, -1.0, -1.0, 0.0, -1.0, 0....\n7  0.564  (-1.0, -1.0, -1.0, -1.0, -1.0, -1.0, -1.0, -1....\n8  0.772  (0.2, -0.6675, -1.0, -1.0, -1.0, 0.0, -1.0, 0....\n9  0.801  (0.2, -0.6675, -1.0, -1.0, -1.0, 0.0, -1.0, 0....\n/opt/spark/python/lib/pyspark.zip/pyspark/sql/dataframe.py:2110: UserWarning: toPandas attempted Arrow optimization because 'spark.sql.execution.arrow.enabled' is set to true; however, failed by the reason below:\n  Unsupported type in conversion to Arrow: VectorUDT\nAttempting non-optimization as 'spark.sql.execution.arrow.fallback.enabled' is set to true."
          },
          "execution_count": 2,
          "metadata": {}
        }
      ],
      "metadata": {},
      "source": [
        "# print some basic info\n",
        "print(\"records read: \" + str(triazines.count()))\n",
        "print(\"Schema: \")\n",
        "triazines.printSchema()\n",
        "triazines.limit(10).toPandas()"
      ]
    },
    {
      "cell_type": "markdown",
      "metadata": {},
      "source": [
        "Split the dataset into train and test"
      ]
    },
    {
      "cell_type": "code",
      "execution_count": 3,
      "outputs": [
        {
          "output_type": "display_data",
          "data": {
            "application/vnd.livy.statement-meta+json": {
              "spark_pool": "SamplePool",
              "session_id": 47,
              "statement_id": 3,
              "state": "finished",
              "livy_statement_state": "available",
              "queued_time": "2021-03-15T09:06:26.8756408Z",
              "execution_start_time": "2021-03-15T09:07:27.264885Z",
              "execution_finish_time": "2021-03-15T09:07:29.3316721Z"
            },
            "text/plain": "StatementMeta(SamplePool, 47, 3, Finished, Available)"
          },
          "metadata": {}
        },
        {
          "output_type": "execute_result",
          "data": {
            "text/plain": ""
          },
          "execution_count": 3,
          "metadata": {}
        }
      ],
      "metadata": {},
      "source": [
        "train, test = triazines.randomSplit([0.85, 0.15], seed=1)"
      ]
    },
    {
      "cell_type": "markdown",
      "metadata": {},
      "source": [
        "Train the quantile regressor on the training data.\n",
        "\n",
        "Note: have a look at stderr for the task to see VW's output\n",
        "\n",
        "Full command line argument docs can be found [here](https://github.com/VowpalWabbit/vowpal_wabbit/wiki/Command-Line-Arguments).\n",
        "\n",
        "Learning rate, numPasses and power_t are exposed to support grid search."
      ]
    },
    {
      "cell_type": "code",
      "execution_count": 4,
      "outputs": [
        {
          "output_type": "display_data",
          "data": {
            "application/vnd.livy.statement-meta+json": {
              "spark_pool": "SamplePool",
              "session_id": 47,
              "statement_id": 4,
              "state": "finished",
              "livy_statement_state": "available",
              "queued_time": "2021-03-15T09:06:26.8772412Z",
              "execution_start_time": "2021-03-15T09:07:29.425004Z",
              "execution_finish_time": "2021-03-15T09:07:35.6118488Z"
            },
            "text/plain": "StatementMeta(SamplePool, 47, 4, Finished, Available)"
          },
          "metadata": {}
        },
        {
          "output_type": "execute_result",
          "data": {
            "text/plain": ""
          },
          "execution_count": 4,
          "metadata": {}
        }
      ],
      "metadata": {},
      "source": [
        "from mmlspark.vw import VowpalWabbitRegressor\n",
        "model = (VowpalWabbitRegressor(numPasses=20, args=\"--holdout_off --loss_function quantile -q :: -l 0.1\")\n",
        "            .fit(train))"
      ]
    },
    {
      "cell_type": "markdown",
      "metadata": {},
      "source": [
        "Score the regressor on the test data."
      ]
    },
    {
      "cell_type": "code",
      "execution_count": 5,
      "outputs": [
        {
          "output_type": "display_data",
          "data": {
            "application/vnd.livy.statement-meta+json": {
              "spark_pool": "SamplePool",
              "session_id": 47,
              "statement_id": 5,
              "state": "finished",
              "livy_statement_state": "available",
              "queued_time": "2021-03-15T09:06:26.8787288Z",
              "execution_start_time": "2021-03-15T09:07:35.7113297Z",
              "execution_finish_time": "2021-03-15T09:07:37.7808046Z"
            },
            "text/plain": "StatementMeta(SamplePool, 47, 5, Finished, Available)"
          },
          "metadata": {}
        },
        {
          "output_type": "execute_result",
          "data": {
            "text/plain": "   label  ... prediction\n0  0.258  ...   0.609252\n1  0.427  ...   0.833140\n2  0.550  ...   0.850142\n3  0.614  ...   0.869448\n4  0.631  ...   0.795053\n5  0.637  ...   0.705518\n6  0.641  ...   0.858001\n7  0.678  ...   0.858001\n8  0.788  ...   0.786930\n9  0.801  ...   0.841320\n\n[10 rows x 4 columns]"
          },
          "execution_count": 5,
          "metadata": {}
        }
      ],
      "metadata": {},
      "source": [
        "scoredData = model.transform(test)\n",
        "scoredData.limit(10).toPandas()"
      ]
    },
    {
      "cell_type": "markdown",
      "metadata": {},
      "source": [
        "Compute metrics using ComputeModelStatistics"
      ]
    },
    {
      "cell_type": "code",
      "execution_count": 6,
      "outputs": [
        {
          "output_type": "display_data",
          "data": {
            "application/vnd.livy.statement-meta+json": {
              "spark_pool": "SamplePool",
              "session_id": 47,
              "statement_id": 6,
              "state": "finished",
              "livy_statement_state": "available",
              "queued_time": "2021-03-15T09:06:26.8806841Z",
              "execution_start_time": "2021-03-15T09:07:37.8754385Z",
              "execution_finish_time": "2021-03-15T09:07:39.941913Z"
            },
            "text/plain": "StatementMeta(SamplePool, 47, 6, Finished, Available)"
          },
          "metadata": {}
        },
        {
          "output_type": "execute_result",
          "data": {
            "text/plain": "   mean_squared_error  root_mean_squared_error       R^2  mean_absolute_error\n0             0.04856                 0.220364 -0.647188             0.183519"
          },
          "execution_count": 6,
          "metadata": {}
        }
      ],
      "metadata": {},
      "source": [
        "from mmlspark.train import ComputeModelStatistics\n",
        "metrics = ComputeModelStatistics(evaluationMetric='regression',\n",
        "                                 labelCol='label',\n",
        "                                 scoresCol='prediction') \\\n",
        "            .transform(scoredData)\n",
        "metrics.toPandas()"
      ]
    },
    {
      "cell_type": "code",
      "execution_count": 7,
      "outputs": [
        {
          "output_type": "display_data",
          "data": {
            "application/vnd.livy.statement-meta+json": {
              "spark_pool": "SamplePool",
              "session_id": 47,
              "statement_id": 7,
              "state": "finished",
              "livy_statement_state": "available",
              "queued_time": "2021-03-15T09:06:26.8828691Z",
              "execution_start_time": "2021-03-15T09:07:40.0350736Z",
              "execution_finish_time": "2021-03-15T09:07:42.0981947Z"
            },
            "text/plain": "StatementMeta(SamplePool, 47, 7, Finished, Available)"
          },
          "metadata": {}
        },
        {
          "output_type": "execute_result",
          "data": {
            "text/plain": ""
          },
          "execution_count": 7,
          "metadata": {}
        }
      ],
      "metadata": {
        "jupyter": {
          "source_hidden": false,
          "outputs_hidden": false
        },
        "nteract": {
          "transient": {
            "deleting": false
          }
        },
        "collapsed": true
      },
      "source": [
        "spark.stop()"
      ]
    }
  ],
  "metadata": {
    "save_output": true,
    "kernelspec": {
      "name": "synapse_pyspark",
      "display_name": "Synapse PySpark"
    },
    "language_info": {
      "name": "python"
    },
    "synapse_widget": {
      "version": "0.1",
      "state": {}
    }
  }
}