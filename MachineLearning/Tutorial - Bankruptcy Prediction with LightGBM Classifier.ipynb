{
  "nbformat": 4,
  "nbformat_minor": 2,
  "metadata": {
    "kernelspec": {
      "name": "synapse_pyspark",
      "display_name": "python"
    },
    "language_info": {
      "name": "python"
    },
    "save_output": true,
    "synapse_widget": {
      "version": "0.1",
      "state": {
        "dadc9bb6-02bb-43b0-84e7-4ea5791f1c0d": {
          "type": "Synapse.DataFrame",
          "sync_state": {
            "table": {
              "rows": [
                {
                  " Net Income to Total Assets": "0.7168",
                  " Tax rate (A)": "0.0000",
                  " Research and development expense rate": "0.0000",
                  " Cash Flow Per Share": "0.3117",
                  " Current Liabilities/Liability": "0.6763",
                  " Allocation rate per person": "0.0371",
                  " Pre-tax net Interest Rate": "0.7969",
                  " Total Asset Turnover": "0.0870",
                  " ROA(C) before interest and depreciation before interest": "0.3706",
                  " Total Asset Return Growth Rate Ratio": "0.2631",
                  " Gross Profit to Sales": "0.6015",
                  " Operating Gross Margin": "0.6015",
                  " Operating Profit Growth Rate": "0.8482",
                  " Current Liability to Equity": "0.3391",
                  " Total debt/Total net worth": "0.0213",
                  " Cash Flow to Equity": "0.3129",
                  " Current Liability to Assets": "0.1473",
                  " Net worth/Assets": "0.7924",
                  " Interest Expense Ratio": "0.6300",
                  " After-tax net Interest Rate": "0.8088",
                  " Operating Expense Rate": "0.0001",
                  " Working Capital to Total Assets": "0.6728",
                  " Net Income Flag": "1.0000",
                  " After-tax Net Profit Growth Rate": "0.6890",
                  " Contingent liabilities/Net worth": "0.0065",
                  " Operating profit per person": "0.3929",
                  " Operating Profit Per Share (Yuan ??)": "0.0959",
                  " Equity to Long-term Liability": "0.1265",
                  " Accounts Receivable Turnover": "0.0018",
                  " Revenue per person": "0.0342",
                  " Cash Flow to Sales": "0.6716",
                  " Continuous Net Profit Growth Rate": "0.2175",
                  " Cash Flow to Total Assets": "0.6376",
                  " Average Collection Days": "0.0035",
                  " Liability to Equity": "0.2902",
                  " Net Value Per Share (A)": "0.1479",
                  " Cash/Total Assets": "0.0041",
                  " Debt ratio %": "0.2076",
                  " Total Asset Growth Rate": "4980000000.0000",
                  " Current Liability to Current Assets": "0.1183",
                  " Interest-bearing debt interest rate": "0.0007",
                  " Persistent EPS in the Last Four Seasons": "0.1691",
                  " Realized Sales Gross Margin": "0.6015",
                  " Total income/Total expense": "0.0020",
                  " Cash flow rate": "0.4581",
                  " Working Capital/Equity": "0.7213",
                  " Inventory Turnover Rate (times)": "0.0002",
                  " Cash/Current Liability": "0.0001",
                  " Quick Assets/Current Liability": "0.0020",
                  " Borrowing dependency": "0.3903",
                  " Regular Net Profit Growth Rate": "0.6890",
                  " Per Share Net profit before tax (Yuan ??)": "0.1387",
                  " Liability-Assets Flag": "0.0000",
                  " Fixed Assets Turnover Frequency": "0.0001",
                  " Current Liabilities/Equity": "0.3391",
                  " Cash Turnover Rate": "458000000.0000",
                  " ROA(A) before interest and % after tax": "0.4244",
                  "Bankrupt?": "1",
                  " Equity to Liability": "0.0165",
                  " Operating Funds to Liability": "0.3340",
                  " Inventory and accounts receivable/Net value": "0.3980",
                  " Net profit before tax/Paid-in capital": "0.1378",
                  " CFO to Assets": "0.5204",
                  " No-credit Interval": "0.6229",
                  " Quick Ratio": "0.0012",
                  " ROA(B) before interest and depreciation after tax": "0.4057",
                  " Retained Earnings to Total Assets": "0.9032",
                  " Operating profit/Paid-in capital": "0.0959",
                  " Degree of Financial Leverage (DFL)": "0.0266",
                  " Total expense/Assets": "0.0649",
                  " Current Ratio": "0.0023",
                  " Current Liability to Liability": "0.6763",
                  " Inventory/Current Liability": "0.0010",
                  " Net Value Per Share (B)": "0.1479",
                  " Current Assets/Total Assets": "0.1906",
                  " Long-term fund suitability ratio (A)": "0.0050",
                  " Realized Sales Gross Profit Growth Rate": "0.0221",
                  " Quick Asset Turnover Rate": "6550000000.0000",
                  " Net Income to Stockholder's Equity": "0.8279",
                  " Total assets to GNP price": "0.0092",
                  " Net Value Growth Rate": "0.0003",
                  " Cash Flow to Liability": "0.4586",
                  " Operating Profit Rate": "0.9990",
                  " Inventory/Working Capital": "0.2769",
                  " Working capitcal Turnover Rate": "0.5938",
                  " Fixed Assets to Assets": "0.4242",
                  " Interest Coverage Ratio (Interest expense to EBIT)": "0.5641",
                  " Non-industry income and expenditure/revenue": "0.3026",
                  " Net Worth Turnover Rate (times)": "0.0329",
                  " Long-term Liability to Current Assets": "0.0256",
                  " Net Value Per Share (C)": "0.1479",
                  " Revenue Per Share (Yuan ??)": "0.0176",
                  " Quick Assets/Total Assets": "0.1667",
                  " Cash Reinvestment %": "0.3637",
                  " Current Asset Turnover Rate": "701000000.0000",
                  " Continuous interest rate (after tax)": "0.7810"
                },
                {
                  " Net Income to Total Assets": "0.7953",
                  " Tax rate (A)": "0.0000",
                  " Research and development expense rate": "0.0000",
                  " Cash Flow Per Share": "0.3181",
                  " Current Liabilities/Liability": "0.3086",
                  " Allocation rate per person": "0.0123",
                  " Pre-tax net Interest Rate": "0.7974",
                  " Total Asset Turnover": "0.0645",
                  " ROA(C) before interest and depreciation before interest": "0.4643",
                  " Total Asset Return Growth Rate Ratio": "0.2645",
                  " Gross Profit to Sales": "0.6102",
                  " Operating Gross Margin": "0.6102",
                  " Operating Profit Growth Rate": "0.8481",
                  " Current Liability to Equity": "0.3297",
                  " Total debt/Total net worth": "0.0125",
                  " Cash Flow to Equity": "0.3142",
                  " Current Liability to Assets": "0.0570",
                  " Net worth/Assets": "0.8288",
                  " Interest Expense Ratio": "0.6352",
                  " After-tax net Interest Rate": "0.8093",
                  " Operating Expense Rate": "0.0003",
                  " Working Capital to Total Assets": "0.7511",
                  " Net Income Flag": "1.0000",
                  " After-tax Net Profit Growth Rate": "0.6897",
                  " Contingent liabilities/Net worth": "0.0058",
                  " Operating profit per person": "0.3916",
                  " Operating Profit Per Share (Yuan ??)": "0.0937",
                  " Equity to Long-term Liability": "0.1209",
                  " Accounts Receivable Turnover": "0.0013",
                  " Revenue per person": "0.0069",
                  " Cash Flow to Sales": "0.6716",
                  " Continuous Net Profit Growth Rate": "0.2176",
                  " Cash Flow to Total Assets": "0.6411",
                  " Average Collection Days": "0.0049",
                  " Liability to Equity": "0.2838",
                  " Net Value Per Share (A)": "0.1823",
                  " Cash/Total Assets": "0.0149",
                  " Debt ratio %": "0.1712",
                  " Total Asset Growth Rate": "6110000000.0000",
                  " Current Liability to Current Assets": "0.0478",
                  " Interest-bearing debt interest rate": "0.0006",
                  " Persistent EPS in the Last Four Seasons": "0.2089",
                  " Realized Sales Gross Margin": "0.6102",
                  " Total income/Total expense": "0.0022",
                  " Cash flow rate": "0.4619",
                  " Working Capital/Equity": "0.7320",
                  " Inventory Turnover Rate (times)": "9360000000.0000",
                  " Cash/Current Liability": "0.0014",
                  " Quick Assets/Current Liability": "0.0041",
                  " Borrowing dependency": "0.3768",
                  " Regular Net Profit Growth Rate": "0.6897",
                  " Per Share Net profit before tax (Yuan ??)": "0.1699",
                  " Liability-Assets Flag": "0.0000",
                  " Fixed Assets Turnover Frequency": "719000000.0000",
                  " Current Liabilities/Equity": "0.3297",
                  " Cash Turnover Rate": "2490000000.0000",
                  " ROA(A) before interest and % after tax": "0.5382",
                  "Bankrupt?": "1",
                  " Equity to Liability": "0.0208",
                  " Operating Funds to Liability": "0.3411",
                  " Inventory and accounts receivable/Net value": "0.3977",
                  " Net profit before tax/Paid-in capital": "0.1690",
                  " CFO to Assets": "0.5671",
                  " No-credit Interval": "0.6237",
                  " Quick Ratio": "0.0040",
                  " ROA(B) before interest and depreciation after tax": "0.5167",
                  " Retained Earnings to Total Assets": "0.9311",
                  " Operating profit/Paid-in capital": "0.0937",
                  " Degree of Financial Leverage (DFL)": "0.2646",
                  " Total expense/Assets": "0.0255",
                  " Current Ratio": "0.0060",
                  " Current Liability to Liability": "0.3086",
                  " Inventory/Current Liability": "0.0052",
                  " Net Value Per Share (B)": "0.1823",
                  " Current Assets/Total Assets": "0.1824",
                  " Long-term fund suitability ratio (A)": "0.0051",
                  " Realized Sales Gross Profit Growth Rate": "0.0221",
                  " Quick Asset Turnover Rate": "7700000000.0000",
                  " Net Income to Stockholder's Equity": "0.8400",
                  " Total assets to GNP price": "0.0083",
                  " Net Value Growth Rate": "0.0004",
                  " Cash Flow to Liability": "0.4590",
                  " Operating Profit Rate": "0.9989",
                  " Inventory/Working Capital": "0.2896",
                  " Working capitcal Turnover Rate": "0.5939",
                  " Fixed Assets to Assets": "0.4688",
                  " Interest Coverage Ratio (Interest expense to EBIT)": "0.5702",
                  " Non-industry income and expenditure/revenue": "0.3036",
                  " Net Worth Turnover Rate (times)": "0.0255",
                  " Long-term Liability to Current Assets": "0.0239",
                  " Net Value Per Share (C)": "0.1823",
                  " Revenue Per Share (Yuan ??)": "0.0211",
                  " Quick Assets/Total Assets": "0.1272",
                  " Cash Reinvestment %": "0.3767",
                  " Current Asset Turnover Rate": "0.0001",
                  " Continuous interest rate (after tax)": "0.7815"
                },
                {
                  " Net Income to Total Assets": "0.7747",
                  " Tax rate (A)": "0.0000",
                  " Research and development expense rate": "25500000.0000",
                  " Cash Flow Per Share": "0.3071",
                  " Current Liabilities/Liability": "0.4460",
                  " Allocation rate per person": "0.1410",
                  " Pre-tax net Interest Rate": "0.7964",
                  " Total Asset Turnover": "0.0150",
                  " ROA(C) before interest and depreciation before interest": "0.4261",
                  " Total Asset Return Growth Rate Ratio": "0.2642",
                  " Gross Profit to Sales": "0.6014",
                  " Operating Gross Margin": "0.6015",
                  " Operating Profit Growth Rate": "0.8481",
                  " Current Liability to Equity": "0.3348",
                  " Total debt/Total net worth": "0.0212",
                  " Cash Flow to Equity": "0.3145",
                  " Current Liability to Assets": "0.0982",
                  " Net worth/Assets": "0.7925",
                  " Interest Expense Ratio": "0.6296",
                  " After-tax net Interest Rate": "0.8084",
                  " Operating Expense Rate": "0.0002",
                  " Working Capital to Total Assets": "0.8295",
                  " Net Income Flag": "1.0000",
                  " After-tax Net Profit Growth Rate": "0.6895",
                  " Contingent liabilities/Net worth": "0.0066",
                  " Operating profit per person": "0.3820",
                  " Operating Profit Per Share (Yuan ??)": "0.0923",
                  " Equity to Long-term Liability": "0.1179",
                  " Accounts Receivable Turnover": "0.0015",
                  " Revenue per person": "0.0290",
                  " Cash Flow to Sales": "0.6716",
                  " Continuous Net Profit Growth Rate": "0.2176",
                  " Cash Flow to Total Assets": "0.6428",
                  " Average Collection Days": "0.0042",
                  " Liability to Equity": "0.2902",
                  " Net Value Per Share (A)": "0.1779",
                  " Cash/Total Assets": "0.0010",
                  " Debt ratio %": "0.2075",
                  " Total Asset Growth Rate": "7280000000.0000",
                  " Current Liability to Current Assets": "0.0253",
                  " Interest-bearing debt interest rate": "0.0008",
                  " Persistent EPS in the Last Four Seasons": "0.1806",
                  " Realized Sales Gross Margin": "0.6014",
                  " Total income/Total expense": "0.0021",
                  " Cash flow rate": "0.4585",
                  " Working Capital/Equity": "0.7427",
                  " Inventory Turnover Rate (times)": "65000000.0000",
                  " Cash/Current Liability": "5340000000.0000",
                  " Quick Assets/Current Liability": "0.0063",
                  " Borrowing dependency": "0.3791",
                  " Regular Net Profit Growth Rate": "0.6895",
                  " Per Share Net profit before tax (Yuan ??)": "0.1428",
                  " Liability-Assets Flag": "0.0000",
                  " Fixed Assets Turnover Frequency": "2650000000.0000",
                  " Current Liabilities/Equity": "0.3348",
                  " Cash Turnover Rate": "761000000.0000",
                  " ROA(A) before interest and % after tax": "0.4990",
                  "Bankrupt?": "1",
                  " Equity to Liability": "0.0165",
                  " Operating Funds to Liability": "0.3367",
                  " Inventory and accounts receivable/Net value": "0.4066",
                  " Net profit before tax/Paid-in capital": "0.1480",
                  " CFO to Assets": "0.5385",
                  " No-credit Interval": "0.6238",
                  " Quick Ratio": "0.0053",
                  " ROA(B) before interest and depreciation after tax": "0.4723",
                  " Retained Earnings to Total Assets": "0.9099",
                  " Operating profit/Paid-in capital": "0.0923",
                  " Degree of Financial Leverage (DFL)": "0.0266",
                  " Total expense/Assets": "0.0214",
                  " Current Ratio": "0.0115",
                  " Current Liability to Liability": "0.4460",
                  " Inventory/Current Liability": "0.0139",
                  " Net Value Per Share (B)": "0.1779",
                  " Current Assets/Total Assets": "0.6028",
                  " Long-term fund suitability ratio (A)": "0.0051",
                  " Realized Sales Gross Profit Growth Rate": "0.0228",
                  " Quick Asset Turnover Rate": "0.0010",
                  " Net Income to Stockholder's Equity": "0.8368",
                  " Total assets to GNP price": "0.0400",
                  " Net Value Growth Rate": "0.0004",
                  " Cash Flow to Liability": "0.4593",
                  " Operating Profit Rate": "0.9989",
                  " Inventory/Working Capital": "0.2775",
                  " Working capitcal Turnover Rate": "0.5945",
                  " Fixed Assets to Assets": "0.2762",
                  " Interest Coverage Ratio (Interest expense to EBIT)": "0.5637",
                  " Non-industry income and expenditure/revenue": "0.3020",
                  " Net Worth Turnover Rate (times)": "0.0134",
                  " Long-term Liability to Current Assets": "0.0037",
                  " Net Value Per Share (C)": "0.1937",
                  " Revenue Per Share (Yuan ??)": "0.0059",
                  " Quick Assets/Total Assets": "0.3402",
                  " Cash Reinvestment %": "0.3689",
                  " Current Asset Turnover Rate": "0.0018",
                  " Continuous interest rate (after tax)": "0.7803"
                },
                {
                  " Net Income to Total Assets": "0.7396",
                  " Tax rate (A)": "0.0000",
                  " Research and development expense rate": "0.0000",
                  " Cash Flow Per Share": "0.3217",
                  " Current Liabilities/Liability": "0.6158",
                  " Allocation rate per person": "0.0213",
                  " Pre-tax net Interest Rate": "0.7970",
                  " Total Asset Turnover": "0.0900",
                  " ROA(C) before interest and depreciation before interest": "0.3998",
                  " Total Asset Return Growth Rate Ratio": "0.2634",
                  " Gross Profit to Sales": "0.5835",
                  " Operating Gross Margin": "0.5835",
                  " Operating Profit Growth Rate": "0.8480",
                  " Current Liability to Equity": "0.3315",
                  " Total debt/Total net worth": "0.0096",
                  " Cash Flow to Equity": "0.3024",
                  " Current Liability to Assets": "0.0987",
                  " Net worth/Assets": "0.8485",
                  " Interest Expense Ratio": "0.6302",
                  " After-tax net Interest Rate": "0.8090",
                  " Operating Expense Rate": "0.0001",
                  " Working Capital to Total Assets": "0.7258",
                  " Net Income Flag": "1.0000",
                  " After-tax Net Profit Growth Rate": "0.6891",
                  " Contingent liabilities/Net worth": "0.0054",
                  " Operating profit per person": "0.3785",
                  " Operating Profit Per Share (Yuan ??)": "0.0778",
                  " Equity to Long-term Liability": "0.1208",
                  " Accounts Receivable Turnover": "0.0020",
                  " Revenue per person": "0.0155",
                  " Cash Flow to Sales": "0.6715",
                  " Continuous Net Profit Growth Rate": "0.2176",
                  " Cash Flow to Total Assets": "0.5790",
                  " Average Collection Days": "0.0032",
                  " Liability to Equity": "0.2817",
                  " Net Value Per Share (A)": "0.1542",
                  " Cash/Total Assets": "0.0189",
                  " Debt ratio %": "0.1515",
                  " Total Asset Growth Rate": "4880000000.0000",
                  " Current Liability to Current Assets": "0.0672",
                  " Interest-bearing debt interest rate": "0.0004",
                  " Persistent EPS in the Last Four Seasons": "0.1937",
                  " Realized Sales Gross Margin": "0.5835",
                  " Total income/Total expense": "0.0018",
                  " Cash flow rate": "0.4657",
                  " Working Capital/Equity": "0.7298",
                  " Inventory Turnover Rate (times)": "7130000000.0000",
                  " Cash/Current Liability": "0.0010",
                  " Quick Assets/Current Liability": "0.0030",
                  " Borrowing dependency": "0.3797",
                  " Regular Net Profit Growth Rate": "0.6891",
                  " Per Share Net profit before tax (Yuan ??)": "0.1486",
                  " Liability-Assets Flag": "0.0000",
                  " Fixed Assets Turnover Frequency": "9150000000.0000",
                  " Current Liabilities/Equity": "0.3315",
                  " Cash Turnover Rate": "2030000000.0000",
                  " ROA(A) before interest and % after tax": "0.4513",
                  "Bankrupt?": "1",
                  " Equity to Liability": "0.0240",
                  " Operating Funds to Liability": "0.3487",
                  " Inventory and accounts receivable/Net value": "0.3979",
                  " Net profit before tax/Paid-in capital": "0.1476",
                  " CFO to Assets": "0.6041",
                  " No-credit Interval": "0.6229",
                  " Quick Ratio": "0.0029",
                  " ROA(B) before interest and depreciation after tax": "0.4577",
                  " Retained Earnings to Total Assets": "0.9069",
                  " Operating profit/Paid-in capital": "0.0777",
                  " Degree of Financial Leverage (DFL)": "0.0267",
                  " Total expense/Assets": "0.0242",
                  " Current Ratio": "0.0042",
                  " Current Liability to Liability": "0.6158",
                  " Inventory/Current Liability": "0.0035",
                  " Net Value Per Share (B)": "0.1542",
                  " Current Assets/Total Assets": "0.2258",
                  " Long-term fund suitability ratio (A)": "0.0050",
                  " Realized Sales Gross Profit Growth Rate": "0.0220",
                  " Quick Asset Turnover Rate": "6050000000.0000",
                  " Net Income to Stockholder's Equity": "0.8347",
                  " Total assets to GNP price": "0.0033",
                  " Net Value Growth Rate": "0.0004",
                  " Cash Flow to Liability": "0.4485",
                  " Operating Profit Rate": "0.9987",
                  " Inventory/Working Capital": "0.2766",
                  " Working capitcal Turnover Rate": "0.5939",
                  " Fixed Assets to Assets": "0.5591",
                  " Interest Coverage Ratio (Interest expense to EBIT)": "0.5647",
                  " Non-industry income and expenditure/revenue": "0.3033",
                  " Net Worth Turnover Rate (times)": "0.0281",
                  " Long-term Liability to Current Assets": "0.0222",
                  " Net Value Per Share (C)": "0.1542",
                  " Revenue Per Share (Yuan ??)": "0.0144",
                  " Quick Assets/Total Assets": "0.1616",
                  " Cash Reinvestment %": "0.3841",
                  " Current Asset Turnover Rate": "8140000000.0000",
                  " Continuous interest rate (after tax)": "0.7812"
                },
                {
                  " Net Income to Total Assets": "0.7950",
                  " Tax rate (A)": "0.0000",
                  " Research and development expense rate": "0.0000",
                  " Cash Flow Per Share": "0.3192",
                  " Current Liabilities/Liability": "0.9750",
                  " Allocation rate per person": "0.0240",
                  " Pre-tax net Interest Rate": "0.7974",
                  " Total Asset Turnover": "0.1754",
                  " ROA(C) before interest and depreciation before interest": "0.4650",
                  " Total Asset Return Growth Rate Ratio": "0.2652",
                  " Gross Profit to Sales": "0.5988",
                  " Operating Gross Margin": "0.5988",
                  " Operating Profit Growth Rate": "0.8483",
                  " Current Liability to Equity": "0.3307",
                  " Total debt/Total net worth": "0.0051",
                  " Cash Flow to Equity": "0.3116",
                  " Current Liability to Assets": "0.1102",
                  " Net worth/Assets": "0.8935",
                  " Interest Expense Ratio": "0.6361",
                  " After-tax net Interest Rate": "0.8093",
                  " Operating Expense Rate": "7890000000.0000",
                  " Working Capital to Total Assets": "0.7518",
                  " Net Income Flag": "1.0000",
                  " After-tax Net Profit Growth Rate": "0.6897",
                  " Contingent liabilities/Net worth": "0.0066",
                  " Operating profit per person": "0.3944",
                  " Operating Profit Per Share (Yuan ??)": "0.0969",
                  " Equity to Long-term Liability": "0.1109",
                  " Accounts Receivable Turnover": "0.0014",
                  " Revenue per person": "0.0581",
                  " Cash Flow to Sales": "0.6716",
                  " Continuous Net Profit Growth Rate": "0.2176",
                  " Cash Flow to Total Assets": "0.6224",
                  " Average Collection Days": "0.0044",
                  " Liability to Equity": "0.2785",
                  " Net Value Per Share (A)": "0.1675",
                  " Cash/Total Assets": "0.0142",
                  " Debt ratio %": "0.1065",
                  " Total Asset Growth Rate": "5510000000.0000",
                  " Current Liability to Current Assets": "0.0477",
                  " Interest-bearing debt interest rate": "0.0007",
                  " Persistent EPS in the Last Four Seasons": "0.2125",
                  " Realized Sales Gross Margin": "0.5988",
                  " Total income/Total expense": "0.0022",
                  " Cash flow rate": "0.4627",
                  " Working Capital/Equity": "0.7320",
                  " Inventory Turnover Rate (times)": "0.0002",
                  " Cash/Current Liability": "0.0007",
                  " Quick Assets/Current Liability": "0.0043",
                  " Borrowing dependency": "0.3750",
                  " Regular Net Profit Growth Rate": "0.6897",
                  " Per Share Net profit before tax (Yuan ??)": "0.1684",
                  " Liability-Assets Flag": "0.0000",
                  " Fixed Assets Turnover Frequency": "0.0003",
                  " Current Liabilities/Equity": "0.3307",
                  " Cash Turnover Rate": "824000000.0000",
                  " ROA(A) before interest and % after tax": "0.5384",
                  "Bankrupt?": "1",
                  " Equity to Liability": "0.0355",
                  " Operating Funds to Liability": "0.3446",
                  " Inventory and accounts receivable/Net value": "0.4001",
                  " Net profit before tax/Paid-in capital": "0.1675",
                  " CFO to Assets": "0.5785",
                  " No-credit Interval": "0.6235",
                  " Quick Ratio": "0.0037",
                  " ROA(B) before interest and depreciation after tax": "0.5223",
                  " Retained Earnings to Total Assets": "0.9139",
                  " Operating profit/Paid-in capital": "0.0969",
                  " Degree of Financial Leverage (DFL)": "0.0248",
                  " Total expense/Assets": "0.0264",
                  " Current Ratio": "0.0060",
                  " Current Liability to Liability": "0.9750",
                  " Inventory/Current Liability": "0.0049",
                  " Net Value Per Share (B)": "0.1675",
                  " Current Assets/Total Assets": "0.3584",
                  " Long-term fund suitability ratio (A)": "0.0053",
                  " Realized Sales Gross Profit Growth Rate": "0.0221",
                  " Quick Asset Turnover Rate": "5050000000.0000",
                  " Net Income to Stockholder's Equity": "0.8400",
                  " Total assets to GNP price": "0.0039",
                  " Net Value Growth Rate": "0.0004",
                  " Cash Flow to Liability": "0.4544",
                  " Operating Profit Rate": "0.9990",
                  " Inventory/Working Capital": "0.2879",
                  " Working capitcal Turnover Rate": "0.5939",
                  " Fixed Assets to Assets": "0.3096",
                  " Interest Coverage Ratio (Interest expense to EBIT)": "0.5756",
                  " Non-industry income and expenditure/revenue": "0.3035",
                  " Net Worth Turnover Rate (times)": "0.0402",
                  " Long-term Liability to Current Assets": "0.0000",
                  " Net Value Per Share (C)": "0.1675",
                  " Revenue Per Share (Yuan ??)": "0.0297",
                  " Quick Assets/Total Assets": "0.2603",
                  " Cash Reinvestment %": "0.3797",
                  " Current Asset Turnover Rate": "6680000000.0000",
                  " Continuous interest rate (after tax)": "0.7816"
                }
              ],
              "schema": {
                "Bankrupt?": "string",
                " ROA(C) before interest and depreciation before interest": "string",
                " ROA(A) before interest and % after tax": "string",
                " ROA(B) before interest and depreciation after tax": "string",
                " Operating Gross Margin": "string",
                " Realized Sales Gross Margin": "string",
                " Operating Profit Rate": "string",
                " Pre-tax net Interest Rate": "string",
                " After-tax net Interest Rate": "string",
                " Non-industry income and expenditure/revenue": "string",
                " Continuous interest rate (after tax)": "string",
                " Operating Expense Rate": "string",
                " Research and development expense rate": "string",
                " Cash flow rate": "string",
                " Interest-bearing debt interest rate": "string",
                " Tax rate (A)": "string",
                " Net Value Per Share (B)": "string",
                " Net Value Per Share (A)": "string",
                " Net Value Per Share (C)": "string",
                " Persistent EPS in the Last Four Seasons": "string",
                " Cash Flow Per Share": "string",
                " Revenue Per Share (Yuan ??)": "string",
                " Operating Profit Per Share (Yuan ??)": "string",
                " Per Share Net profit before tax (Yuan ??)": "string",
                " Realized Sales Gross Profit Growth Rate": "string",
                " Operating Profit Growth Rate": "string",
                " After-tax Net Profit Growth Rate": "string",
                " Regular Net Profit Growth Rate": "string",
                " Continuous Net Profit Growth Rate": "string",
                " Total Asset Growth Rate": "string",
                " Net Value Growth Rate": "string",
                " Total Asset Return Growth Rate Ratio": "string",
                " Cash Reinvestment %": "string",
                " Current Ratio": "string",
                " Quick Ratio": "string",
                " Interest Expense Ratio": "string",
                " Total debt/Total net worth": "string",
                " Debt ratio %": "string",
                " Net worth/Assets": "string",
                " Long-term fund suitability ratio (A)": "string",
                " Borrowing dependency": "string",
                " Contingent liabilities/Net worth": "string",
                " Operating profit/Paid-in capital": "string",
                " Net profit before tax/Paid-in capital": "string",
                " Inventory and accounts receivable/Net value": "string",
                " Total Asset Turnover": "string",
                " Accounts Receivable Turnover": "string",
                " Average Collection Days": "string",
                " Inventory Turnover Rate (times)": "string",
                " Fixed Assets Turnover Frequency": "string",
                " Net Worth Turnover Rate (times)": "string",
                " Revenue per person": "string",
                " Operating profit per person": "string",
                " Allocation rate per person": "string",
                " Working Capital to Total Assets": "string",
                " Quick Assets/Total Assets": "string",
                " Current Assets/Total Assets": "string",
                " Cash/Total Assets": "string",
                " Quick Assets/Current Liability": "string",
                " Cash/Current Liability": "string",
                " Current Liability to Assets": "string",
                " Operating Funds to Liability": "string",
                " Inventory/Working Capital": "string",
                " Inventory/Current Liability": "string",
                " Current Liabilities/Liability": "string",
                " Working Capital/Equity": "string",
                " Current Liabilities/Equity": "string",
                " Long-term Liability to Current Assets": "string",
                " Retained Earnings to Total Assets": "string",
                " Total income/Total expense": "string",
                " Total expense/Assets": "string",
                " Current Asset Turnover Rate": "string",
                " Quick Asset Turnover Rate": "string",
                " Working capitcal Turnover Rate": "string",
                " Cash Turnover Rate": "string",
                " Cash Flow to Sales": "string",
                " Fixed Assets to Assets": "string",
                " Current Liability to Liability": "string",
                " Current Liability to Equity": "string",
                " Equity to Long-term Liability": "string",
                " Cash Flow to Total Assets": "string",
                " Cash Flow to Liability": "string",
                " CFO to Assets": "string",
                " Cash Flow to Equity": "string",
                " Current Liability to Current Assets": "string",
                " Liability-Assets Flag": "string",
                " Net Income to Total Assets": "string",
                " Total assets to GNP price": "string",
                " No-credit Interval": "string",
                " Gross Profit to Sales": "string",
                " Net Income to Stockholder's Equity": "string",
                " Liability to Equity": "string",
                " Degree of Financial Leverage (DFL)": "string",
                " Interest Coverage Ratio (Interest expense to EBIT)": "string",
                " Net Income Flag": "string",
                " Equity to Liability": "string"
              }
            },
            "isSummary": false,
            "language": "scala"
          },
          "persist_state": {
            "view": {
              "type": "details",
              "tableOptions": {},
              "chartOptions": {
                "chartType": "bar",
                "aggregationType": "count",
                "categoryFieldKeys": [
                  "Bankrupt?"
                ],
                "seriesFieldKeys": [
                  "Bankrupt?"
                ],
                "isStacked": false
              }
            }
          }
        }
      }
    }
  },
  "cells": [
    {
      "cell_type": "markdown",
      "metadata": {},
      "source": [
        "# Bankruptcy Prediction with LightGBM Classifier\r\n",
        ""
      ]
    },
    {
      "cell_type": "markdown",
      "metadata": {},
      "source": [
        "## Introduction of LightGBM\n",
        "[LightGBM](https://github.com/Microsoft/LightGBM) is an open-source, distributed, high-performance gradient boosting framework with following advantages: \n",
        "-   Composability: LightGBM models can be incorporated into existing\n",
        "    SparkML Pipelines, and used for batch, streaming, and serving\n",
        "    workloads.\n",
        "-   Performance: LightGBM on Spark is 10-30% faster than SparkML on\n",
        "    the Higgs dataset, and achieves a 15% increase in AUC.  [Parallel\n",
        "    experiments](https://github.com/Microsoft/LightGBM/blob/master/docs/Experiments.rst#parallel-experiment)\n",
        "    have verified that LightGBM can achieve a linear speed-up by using\n",
        "    multiple machines for training in specific settings.\n",
        "-   Functionality: LightGBM offers a wide array of [tunable\n",
        "    parameters](https://github.com/Microsoft/LightGBM/blob/master/docs/Parameters.rst),\n",
        "    that one can use to customize their decision tree system. LightGBM on\n",
        "    Spark also supports new types of problems such as quantile regression.\n",
        "-   Cross platform：LightGBM on Spark is available on Spark (Scala) and PySpark (Python).\n",
        ""
      ]
    },
    {
      "cell_type": "markdown",
      "metadata": {},
      "source": [
        "\n",
        "<img src=\"https://mmlspark.blob.core.windows.net/graphics/Documentation/bankruptcy image.png\" width=\"800\" style=\"float: center;\"/>\n",
        "\n",
        "In this example, we use LightGBM to build a classification model in order to predict bankruptcy."
      ]
    },
    {
      "cell_type": "markdown",
      "metadata": {},
      "source": [
        "## Read dataset\r\n",
        "\r\n",
        "Get a sample data of financial statements for 6819 companies, 220 represents bankrupted companies while 6599 firms are not bankrupted. "
      ]
    },
    {
      "cell_type": "code",
      "execution_count": 19,
      "outputs": [
        {
          "output_type": "display_data",
          "data": {
            "application/vnd.livy.statement-meta+json": {
              "spark_pool": "SampleSpark1",
              "session_id": 1,
              "statement_id": 19,
              "state": "finished",
              "livy_statement_state": "available",
              "queued_time": "2021-05-14T11:54:55.6979129Z",
              "execution_start_time": "2021-05-14T11:54:55.8077774Z",
              "execution_finish_time": "2021-05-14T11:54:59.9957058Z"
            },
            "text/plain": "StatementMeta(SampleSpark1, 1, 19, Finished, Available)"
          },
          "metadata": {}
        },
        {
          "output_type": "stream",
          "name": "stdout",
          "text": ""
        }
      ],
      "metadata": {},
      "source": [
        "dataset = spark.read.format(\"csv\")\\\n",
        "  .option(\"header\", True)\\\n",
        "  .load(\"wasbs://publicwasb@mmlspark.blob.core.windows.net/company_bankruptcy_prediction_data.csv\")"
      ]
    },
    {
      "cell_type": "markdown",
      "metadata": {
        "nteract": {
          "transient": {
            "deleting": false
          }
        }
      },
      "source": [
        "## Exploratory data\r\n",
        "\r\n",
        "Look at the data and evaluate its suitability for use in a model."
      ]
    },
    {
      "cell_type": "code",
      "execution_count": 20,
      "outputs": [
        {
          "output_type": "display_data",
          "data": {
            "application/vnd.livy.statement-meta+json": {
              "spark_pool": "SampleSpark1",
              "session_id": 1,
              "statement_id": 20,
              "state": "finished",
              "livy_statement_state": "available",
              "queued_time": "2021-05-14T11:54:55.753447Z",
              "execution_start_time": "2021-05-14T11:55:00.1277268Z",
              "execution_finish_time": "2021-05-14T11:55:02.188241Z"
            },
            "text/plain": "StatementMeta(SampleSpark1, 1, 20, Finished, Available)"
          },
          "metadata": {}
        },
        {
          "output_type": "display_data",
          "data": {
            "application/vnd.synapse.widget-view+json": {
              "widget_id": "dadc9bb6-02bb-43b0-84e7-4ea5791f1c0d",
              "widget_type": "Synapse.DataFrame"
            },
            "text/plain": "SynapseWidget(Synapse.DataFrame, dadc9bb6-02bb-43b0-84e7-4ea5791f1c0d)"
          },
          "metadata": {}
        },
        {
          "output_type": "execute_result",
          "data": {},
          "execution_count": 20,
          "metadata": {}
        }
      ],
      "metadata": {
        "jupyter": {
          "source_hidden": false,
          "outputs_hidden": false
        },
        "nteract": {
          "transient": {
            "deleting": false
          }
        },
        "collapsed": false
      },
      "source": [
        "display(dataset.head(5))"
      ]
    },
    {
      "cell_type": "code",
      "execution_count": 21,
      "outputs": [
        {
          "output_type": "display_data",
          "data": {
            "application/vnd.livy.statement-meta+json": {
              "spark_pool": "SampleSpark1",
              "session_id": 1,
              "statement_id": 21,
              "state": "finished",
              "livy_statement_state": "available",
              "queued_time": "2021-05-14T11:54:55.8079059Z",
              "execution_start_time": "2021-05-14T11:55:02.330389Z",
              "execution_finish_time": "2021-05-14T11:55:04.396249Z"
            },
            "text/plain": "StatementMeta(SampleSpark1, 1, 21, Finished, Available)"
          },
          "metadata": {}
        },
        {
          "output_type": "stream",
          "name": "stdout",
          "text": "Total number of records: 6819"
        }
      ],
      "metadata": {
        "jupyter": {
          "source_hidden": false,
          "outputs_hidden": false
        },
        "nteract": {
          "transient": {
            "deleting": false
          }
        },
        "collapsed": true
      },
      "source": [
        "# print dataset size\r\n",
        "print(\"Total number of records: \" + str(dataset.count()))"
      ]
    },
    {
      "cell_type": "code",
      "execution_count": 22,
      "outputs": [
        {
          "output_type": "display_data",
          "data": {
            "application/vnd.livy.statement-meta+json": {
              "spark_pool": "SampleSpark1",
              "session_id": 1,
              "statement_id": 22,
              "state": "finished",
              "livy_statement_state": "available",
              "queued_time": "2021-05-14T11:54:55.8556522Z",
              "execution_start_time": "2021-05-14T11:55:04.5061996Z",
              "execution_finish_time": "2021-05-14T11:55:06.5724073Z"
            },
            "text/plain": "StatementMeta(SampleSpark1, 1, 22, Finished, Available)"
          },
          "metadata": {}
        },
        {
          "output_type": "stream",
          "name": "stdout",
          "text": "Schema: \nroot\n |-- Bankrupt?: double (nullable = true)\n |--  ROA(C) before interest and depreciation before interest: double (nullable = true)\n |--  ROA(A) before interest and % after tax: double (nullable = true)\n |--  ROA(B) before interest and depreciation after tax: double (nullable = true)\n |--  Operating Gross Margin: double (nullable = true)\n |--  Realized Sales Gross Margin: double (nullable = true)\n |--  Operating Profit Rate: double (nullable = true)\n |--  Pre-tax net Interest Rate: double (nullable = true)\n |--  After-tax net Interest Rate: double (nullable = true)\n |--  Non-industry income and expenditure/revenue: double (nullable = true)\n |--  Continuous interest rate (after tax): double (nullable = true)\n |--  Operating Expense Rate: double (nullable = true)\n |--  Research and development expense rate: double (nullable = true)\n |--  Cash flow rate: double (nullable = true)\n |--  Interest-bearing debt interest rate: double (nullable = true)\n |--  Tax rate (A): double (nullable = true)\n |--  Net Value Per Share (B): double (nullable = true)\n |--  Net Value Per Share (A): double (nullable = true)\n |--  Net Value Per Share (C): double (nullable = true)\n |--  Persistent EPS in the Last Four Seasons: double (nullable = true)\n |--  Cash Flow Per Share: double (nullable = true)\n |--  Revenue Per Share (Yuan ??): double (nullable = true)\n |--  Operating Profit Per Share (Yuan ??): double (nullable = true)\n |--  Per Share Net profit before tax (Yuan ??): double (nullable = true)\n |--  Realized Sales Gross Profit Growth Rate: double (nullable = true)\n |--  Operating Profit Growth Rate: double (nullable = true)\n |--  After-tax Net Profit Growth Rate: double (nullable = true)\n |--  Regular Net Profit Growth Rate: double (nullable = true)\n |--  Continuous Net Profit Growth Rate: double (nullable = true)\n |--  Total Asset Growth Rate: double (nullable = true)\n |--  Net Value Growth Rate: double (nullable = true)\n |--  Total Asset Return Growth Rate Ratio: double (nullable = true)\n |--  Cash Reinvestment %: double (nullable = true)\n |--  Current Ratio: double (nullable = true)\n |--  Quick Ratio: double (nullable = true)\n |--  Interest Expense Ratio: double (nullable = true)\n |--  Total debt/Total net worth: double (nullable = true)\n |--  Debt ratio %: double (nullable = true)\n |--  Net worth/Assets: double (nullable = true)\n |--  Long-term fund suitability ratio (A): double (nullable = true)\n |--  Borrowing dependency: double (nullable = true)\n |--  Contingent liabilities/Net worth: double (nullable = true)\n |--  Operating profit/Paid-in capital: double (nullable = true)\n |--  Net profit before tax/Paid-in capital: double (nullable = true)\n |--  Inventory and accounts receivable/Net value: double (nullable = true)\n |--  Total Asset Turnover: double (nullable = true)\n |--  Accounts Receivable Turnover: double (nullable = true)\n |--  Average Collection Days: double (nullable = true)\n |--  Inventory Turnover Rate (times): double (nullable = true)\n |--  Fixed Assets Turnover Frequency: double (nullable = true)\n |--  Net Worth Turnover Rate (times): double (nullable = true)\n |--  Revenue per person: double (nullable = true)\n |--  Operating profit per person: double (nullable = true)\n |--  Allocation rate per person: double (nullable = true)\n |--  Working Capital to Total Assets: double (nullable = true)\n |--  Quick Assets/Total Assets: double (nullable = true)\n |--  Current Assets/Total Assets: double (nullable = true)\n |--  Cash/Total Assets: double (nullable = true)\n |--  Quick Assets/Current Liability: double (nullable = true)\n |--  Cash/Current Liability: double (nullable = true)\n |--  Current Liability to Assets: double (nullable = true)\n |--  Operating Funds to Liability: double (nullable = true)\n |--  Inventory/Working Capital: double (nullable = true)\n |--  Inventory/Current Liability: double (nullable = true)\n |--  Current Liabilities/Liability: double (nullable = true)\n |--  Working Capital/Equity: double (nullable = true)\n |--  Current Liabilities/Equity: double (nullable = true)\n |--  Long-term Liability to Current Assets: double (nullable = true)\n |--  Retained Earnings to Total Assets: double (nullable = true)\n |--  Total income/Total expense: double (nullable = true)\n |--  Total expense/Assets: double (nullable = true)\n |--  Current Asset Turnover Rate: double (nullable = true)\n |--  Quick Asset Turnover Rate: double (nullable = true)\n |--  Working capitcal Turnover Rate: double (nullable = true)\n |--  Cash Turnover Rate: double (nullable = true)\n |--  Cash Flow to Sales: double (nullable = true)\n |--  Fixed Assets to Assets: double (nullable = true)\n |--  Current Liability to Liability: double (nullable = true)\n |--  Current Liability to Equity: double (nullable = true)\n |--  Equity to Long-term Liability: double (nullable = true)\n |--  Cash Flow to Total Assets: double (nullable = true)\n |--  Cash Flow to Liability: double (nullable = true)\n |--  CFO to Assets: double (nullable = true)\n |--  Cash Flow to Equity: double (nullable = true)\n |--  Current Liability to Current Assets: double (nullable = true)\n |--  Liability-Assets Flag: double (nullable = true)\n |--  Net Income to Total Assets: double (nullable = true)\n |--  Total assets to GNP price: double (nullable = true)\n |--  No-credit Interval: double (nullable = true)\n |--  Gross Profit to Sales: double (nullable = true)\n |--  Net Income to Stockholder's Equity: double (nullable = true)\n |--  Liability to Equity: double (nullable = true)\n |--  Degree of Financial Leverage (DFL): double (nullable = true)\n |--  Interest Coverage Ratio (Interest expense to EBIT): double (nullable = true)\n |--  Net Income Flag: double (nullable = true)\n |--  Equity to Liability: double (nullable = true)"
        }
      ],
      "metadata": {},
      "source": [
        "# convert features to double type\n",
        "from pyspark.sql.functions import col\n",
        "from pyspark.sql.types import DoubleType\n",
        "for colName in dataset.columns:\n",
        "  dataset = dataset.withColumn(colName, col(colName).cast(DoubleType()))\n",
        "print(\"Schema: \")\n",
        "dataset.printSchema()"
      ]
    },
    {
      "cell_type": "markdown",
      "metadata": {
        "nteract": {
          "transient": {
            "deleting": false
          }
        }
      },
      "source": [
        "## Generation of testing and training data sets\r\n",
        "\r\n",
        "Simple split, 85% for training and 15% for testing the model. Playing with this ratio may result in different models.\r\n",
        ""
      ]
    },
    {
      "cell_type": "code",
      "execution_count": 23,
      "outputs": [
        {
          "output_type": "display_data",
          "data": {
            "application/vnd.livy.statement-meta+json": {
              "spark_pool": "SampleSpark1",
              "session_id": 1,
              "statement_id": 23,
              "state": "finished",
              "livy_statement_state": "available",
              "queued_time": "2021-05-14T11:54:55.9014567Z",
              "execution_start_time": "2021-05-14T11:55:06.7247605Z",
              "execution_finish_time": "2021-05-14T11:55:08.7849982Z"
            },
            "text/plain": "StatementMeta(SampleSpark1, 1, 23, Finished, Available)"
          },
          "metadata": {}
        },
        {
          "output_type": "stream",
          "name": "stdout",
          "text": ""
        }
      ],
      "metadata": {},
      "source": [
        "# Split the dataset into train and test\n",
        "\n",
        "train, test = dataset.randomSplit([0.70, 0.30], seed=1)\n",
        "\n",
        "# Add featurizer to convert features to vector\n",
        "\n",
        "from pyspark.ml.feature import VectorAssembler\n",
        "feature_cols = dataset.columns[1:]\n",
        "featurizer = VectorAssembler(\n",
        "    inputCols=feature_cols,\n",
        "    outputCol='features'\n",
        ")\n",
        "train_data = featurizer.transform(train)['Bankrupt?', 'features']\n",
        "test_data = featurizer.transform(test)['Bankrupt?', 'features']"
      ]
    },
    {
      "cell_type": "code",
      "execution_count": 24,
      "outputs": [
        {
          "output_type": "display_data",
          "data": {
            "application/vnd.livy.statement-meta+json": {
              "spark_pool": "SampleSpark1",
              "session_id": 1,
              "statement_id": 24,
              "state": "finished",
              "livy_statement_state": "available",
              "queued_time": "2021-05-14T11:54:55.9472799Z",
              "execution_start_time": "2021-05-14T11:55:08.8877931Z",
              "execution_finish_time": "2021-05-14T11:55:15.0645263Z"
            },
            "text/plain": "StatementMeta(SampleSpark1, 1, 24, Finished, Available)"
          },
          "metadata": {}
        },
        {
          "output_type": "stream",
          "name": "stdout",
          "text": "+---------+-----+\n|Bankrupt?|count|\n+---------+-----+\n|      0.0| 4605|\n|      1.0|  154|\n+---------+-----+"
        }
      ],
      "metadata": {},
      "source": [
        "# check if the data is unbalanced\r\n",
        "train_data.groupBy(\"Bankrupt?\").count().show()"
      ]
    },
    {
      "cell_type": "markdown",
      "metadata": {},
      "source": [
        "## Train the model\r\n",
        "Train the Classifier model."
      ]
    },
    {
      "cell_type": "code",
      "execution_count": 25,
      "outputs": [
        {
          "output_type": "display_data",
          "data": {
            "application/vnd.livy.statement-meta+json": {
              "spark_pool": "SampleSpark1",
              "session_id": 1,
              "statement_id": 25,
              "state": "finished",
              "livy_statement_state": "available",
              "queued_time": "2021-05-14T11:54:55.9966836Z",
              "execution_start_time": "2021-05-14T11:55:15.1714491Z",
              "execution_finish_time": "2021-05-14T11:55:35.7903849Z"
            },
            "text/plain": "StatementMeta(SampleSpark1, 1, 25, Finished, Available)"
          },
          "metadata": {}
        },
        {
          "output_type": "stream",
          "name": "stdout",
          "text": ""
        }
      ],
      "metadata": {},
      "source": [
        "from mmlspark.lightgbm import LightGBMClassifier\n",
        "\n",
        "model = LightGBMClassifier(objective=\"binary\", featuresCol=\"features\", labelCol=\"Bankrupt?\", isUnbalance=True)\n",
        "model = model.fit(train_data)"
      ]
    },
    {
      "cell_type": "code",
      "execution_count": 26,
      "outputs": [
        {
          "output_type": "display_data",
          "data": {
            "application/vnd.livy.statement-meta+json": {
              "spark_pool": "SampleSpark1",
              "session_id": 1,
              "statement_id": 26,
              "state": "finished",
              "livy_statement_state": "available",
              "queued_time": "2021-05-14T11:54:56.1102123Z",
              "execution_start_time": "2021-05-14T11:55:35.8935923Z",
              "execution_finish_time": "2021-05-14T11:55:44.146313Z"
            },
            "text/plain": "StatementMeta(SampleSpark1, 1, 26, Finished, Available)"
          },
          "metadata": {}
        },
        {
          "output_type": "stream",
          "name": "stdout",
          "text": ""
        }
      ],
      "metadata": {},
      "source": [
        "from mmlspark.lightgbm import LightGBMClassificationModel\n",
        "model.saveNativeModel(\"/lgbmcmodel\")\n",
        "model = LightGBMClassificationModel.loadNativeModelFromFile(\"/lgbmcmodel\")"
      ]
    },
    {
      "cell_type": "code",
      "execution_count": 27,
      "outputs": [
        {
          "output_type": "display_data",
          "data": {
            "application/vnd.livy.statement-meta+json": {
              "spark_pool": "SampleSpark1",
              "session_id": 1,
              "statement_id": 27,
              "state": "finished",
              "livy_statement_state": "available",
              "queued_time": "2021-05-14T11:54:56.1566371Z",
              "execution_start_time": "2021-05-14T11:55:44.256869Z",
              "execution_finish_time": "2021-05-14T11:55:46.3223318Z"
            },
            "text/plain": "StatementMeta(SampleSpark1, 1, 27, Finished, Available)"
          },
          "metadata": {}
        },
        {
          "output_type": "stream",
          "name": "stdout",
          "text": "[51.0, 24.0, 41.0, 32.0, 36.0, 5.0, 9.0, 3.0, 13.0, 5.0, 13.0, 19.0, 22.0, 19.0, 10.0, 53.0, 5.0, 6.0, 14.0, 21.0, 20.0, 15.0, 11.0, 13.0, 15.0, 21.0, 13.0, 8.0, 45.0, 13.0, 18.0, 16.0, 15.0, 24.0, 28.0, 22.0, 10.0, 19.0, 10.0, 31.0, 17.0, 15.0, 4.0, 25.0, 17.0, 21.0, 46.0, 19.0, 43.0, 46.0, 22.0, 41.0, 40.0, 40.0, 21.0, 24.0, 20.0, 32.0, 20.0, 25.0, 17.0, 38.0, 34.0, 18.0, 27.0, 17.0, 28.0, 19.0, 14.0, 74.0, 13.0, 28.0, 4.0, 29.0, 3.0, 19.0, 0.0, 13.0, 22.0, 63.0, 21.0, 24.0, 20.0, 19.0, 0.0, 14.0, 34.0, 12.0, 7.0, 37.0, 12.0, 38.0, 23.0, 0.0, 11.0]"
        }
      ],
      "metadata": {},
      "source": [
        "print(model.getFeatureImportances())"
      ]
    },
    {
      "cell_type": "markdown",
      "metadata": {},
      "source": [
        "## Model Performance Evaluation\r\n",
        "\r\n",
        "After training the model, we evaluate the performance of the model using the test set."
      ]
    },
    {
      "cell_type": "code",
      "execution_count": 28,
      "outputs": [
        {
          "output_type": "display_data",
          "data": {
            "application/vnd.livy.statement-meta+json": {
              "spark_pool": "SampleSpark1",
              "session_id": 1,
              "statement_id": 28,
              "state": "finished",
              "livy_statement_state": "available",
              "queued_time": "2021-05-14T11:54:56.2051559Z",
              "execution_start_time": "2021-05-14T11:55:46.430231Z",
              "execution_finish_time": "2021-05-14T11:55:48.4902975Z"
            },
            "text/plain": "StatementMeta(SampleSpark1, 1, 28, Finished, Available)"
          },
          "metadata": {}
        },
        {
          "output_type": "stream",
          "name": "stdout",
          "text": ""
        }
      ],
      "metadata": {},
      "source": [
        "predictions = model.transform(test_data)\n",
        "#predictions.limit(10).toPandas()"
      ]
    },
    {
      "cell_type": "code",
      "execution_count": 30,
      "outputs": [
        {
          "output_type": "display_data",
          "data": {
            "application/vnd.livy.statement-meta+json": {
              "spark_pool": "SampleSpark1",
              "session_id": 1,
              "statement_id": 30,
              "state": "finished",
              "livy_statement_state": "available",
              "queued_time": "2021-05-14T11:54:56.3025114Z",
              "execution_start_time": "2021-05-14T11:55:54.9809708Z",
              "execution_finish_time": "2021-05-14T11:56:01.1874723Z"
            },
            "text/plain": "StatementMeta(SampleSpark1, 1, 30, Finished, Available)"
          },
          "metadata": {}
        },
        {
          "output_type": "stream",
          "name": "stdout",
          "text": "  evaluation_type  ...       AUC\n0  Classification  ...  0.574822\n\n[1 rows x 6 columns]"
        }
      ],
      "metadata": {
        "jupyter": {
          "source_hidden": false,
          "outputs_hidden": false
        },
        "nteract": {
          "transient": {
            "deleting": false
          }
        },
        "collapsed": true
      },
      "source": [
        "from mmlspark.train import ComputeModelStatistics\r\n",
        "\r\n",
        "# Compute model performance metrics\r\n",
        "metrics = ComputeModelStatistics(evaluationMetric=\"classification\", \r\n",
        "                                 labelCol=\"prediction\", \r\n",
        "                                 scoredLabelsCol=\"Bankrupt?\").transform(predictions)\r\n",
        "metrics.toPandas()"
      ]
    },
    {
      "cell_type": "markdown",
      "metadata": {
        "nteract": {
          "transient": {
            "deleting": false
          }
        }
      },
      "source": [
        "## Clean up resources\r\n",
        "To ensure the Spark instance is shut down, end any connected sessions(notebooks). The pool shuts down when the **idle time** specified in the Apache Spark pool is reached. You can also select **stop session** from the status bar at the upper right of the notebook.\r\n",
        "\r\n",
        "![stopsession](https://adsnotebookrelease.blob.core.windows.net/adsnotebookrelease/adsnotebook/image/stopsession.png)"
      ]
    },
    {
      "cell_type": "markdown",
      "metadata": {
        "nteract": {
          "transient": {
            "deleting": false
          }
        }
      },
      "source": [
        "## Next steps\r\n",
        "\r\n",
        "* [Check out Synapse sample notebooks](https://github.com/Azure-Samples/Synapse/tree/main/MachineLearning) \r\n",
        "* [MMLSpark GitHub Repo](https://github.com/Azure/mmlspark)"
      ]
    }
  ]
}