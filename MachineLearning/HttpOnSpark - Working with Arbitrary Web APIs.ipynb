{
  "cells": [
    {
      "cell_type": "markdown",
      "source": [
        "### Use Concurreny HTTP Requests on Spark\r\n",
        "In this example we will use the HTTP Transformer to call a public webAPI."
      ],
      "metadata": {
        "nteract": {
          "transient": {
            "deleting": false
          }
        }
      }
    },
    {
      "cell_type": "code",
      "source": [
        "import json\n",
        "from requests import Request\n",
        "from mmlspark.io.http import HTTPTransformer, http_udf\n",
        "from pyspark.sql.functions import udf, col\n",
        "\n",
        "# Use any requests from the python requests library\n",
        "def world_bank_request(country):\n",
        "  return Request(\"GET\", \"http://api.worldbank.org/v2/country/{}?format=json\".format(country))\n",
        "\n",
        "# Create a dataframe with spcificies which countries we want data on\n",
        "df = (spark.createDataFrame([(\"br\",),(\"usa\",)], [\"country\"])\n",
        "  .withColumn(\"request\", http_udf(world_bank_request)(col(\"country\"))))\n",
        "\n",
        "# Much faster for big data because of the concurrency :)\n",
        "client = (HTTPTransformer()\n",
        "      .setConcurrency(3)\n",
        "      .setInputCol(\"request\")\n",
        "      .setOutputCol(\"response\"))\n",
        "\n",
        "# Get the body of the response\n",
        "def get_response_body(resp):\n",
        "  return resp.entity.content.decode()\n",
        "display(client.transform(df).select(\"country\", udf(get_response_body)(col(\"response\")).alias(\"response\")))"
      ],
      "outputs": [
        {
          "output_type": "display_data",
          "data": {
            "application/vnd.livy.statement-meta+json": {
              "spark_pool": "SamplePool",
              "session_id": 34,
              "statement_id": 2,
              "state": "finished",
              "livy_statement_state": "available",
              "queued_time": "2021-03-15T07:58:27.2454191Z",
              "execution_start_time": "2021-03-15T07:58:27.3495908Z",
              "execution_finish_time": "2021-03-15T07:58:46.0079875Z"
            },
            "text/plain": "StatementMeta(SamplePool, 34, 2, Finished, Available)"
          },
          "metadata": {}
        },
        {
          "output_type": "display_data",
          "data": {
            "application/vnd.synapse.widget-view+json": {
              "widget_id": "45fbdbd0-a4c7-4a51-ba92-bdeb2562dee9",
              "widget_type": "Synapse.DataFrame"
            },
            "text/plain": "SynapseWidget(Synapse.DataFrame, 45fbdbd0-a4c7-4a51-ba92-bdeb2562dee9)"
          },
          "metadata": {}
        },
        {
          "output_type": "execute_result",
          "execution_count": 2,
          "data": {},
          "metadata": {}
        }
      ],
      "execution_count": 2,
      "metadata": {
        "collapsed": false,
        "diagram": {
          "activateDiagramType": 1,
          "chartConfig": {
            "category": "bar",
            "keys": [
              "country"
            ],
            "values": [
              "country"
            ],
            "yLabel": "country",
            "xLabel": "country",
            "aggregation": "COUNT",
            "aggByBackend": false
          },
          "aggData": "{\"country\":{\"br\":1,\"usa\":1}}",
          "isSummary": false,
          "previewData": {
            "filter": null
          },
          "isSql": false
        }
      }
    },
    {
      "cell_type": "code",
      "source": [
        "spark.stop()"
      ],
      "outputs": [
        {
          "output_type": "display_data",
          "data": {
            "application/vnd.livy.statement-meta+json": {
              "spark_pool": "SamplePool",
              "session_id": 34,
              "statement_id": 3,
              "state": "finished",
              "livy_statement_state": "available",
              "queued_time": "2021-03-15T08:00:02.4094847Z",
              "execution_start_time": "2021-03-15T08:00:02.5270189Z",
              "execution_finish_time": "2021-03-15T08:00:04.5965809Z"
            },
            "text/plain": "StatementMeta(SamplePool, 34, 3, Finished, Available)"
          },
          "metadata": {}
        },
        {
          "output_type": "execute_result",
          "execution_count": 3,
          "data": {
            "text/plain": ""
          },
          "metadata": {}
        }
      ],
      "execution_count": 3,
      "metadata": {
        "collapsed": true,
        "jupyter": {
          "source_hidden": false,
          "outputs_hidden": false
        },
        "nteract": {
          "transient": {
            "deleting": false
          }
        }
      }
    }
  ],
  "metadata": {
    "kernelspec": {
      "name": "synapse_pyspark",
      "language": "Python",
      "display_name": "Synapse PySpark"
    },
    "language_info": {
      "name": "python"
    },
    "microsoft": {
      "language": "python"
    },
    "kernel_info": {
      "name": "synapse_pyspark"
    },
    "nteract": {
      "version": "nteract-front-end@1.0.0"
    },
    "save_output": true,
    "synapse_widget": {
      "version": "0.1",
      "state": {
        "45fbdbd0-a4c7-4a51-ba92-bdeb2562dee9": {
          "type": "Synapse.DataFrame",
          "sync_state": {
            "table": {
              "rows": [
                {
                  "country": "br",
                  "response": "[{\"page\":1,\"pages\":1,\"per_page\":\"50\",\"total\":1},[{\"id\":\"BRA\",\"iso2Code\":\"BR\",\"name\":\"Brazil\",\"region\":{\"id\":\"LCN\",\"iso2code\":\"ZJ\",\"value\":\"Latin America & Caribbean \"},\"adminregion\":{\"id\":\"LAC\",\"iso2code\":\"XJ\",\"value\":\"Latin America & Caribbean (excluding high income)\"},\"incomeLevel\":{\"id\":\"UMC\",\"iso2code\":\"XT\",\"value\":\"Upper middle income\"},\"lendingType\":{\"id\":\"IBD\",\"iso2code\":\"XF\",\"value\":\"IBRD\"},\"capitalCity\":\"Brasilia\",\"longitude\":\"-47.9292\",\"latitude\":\"-15.7801\"}]]"
                },
                {
                  "country": "usa",
                  "response": "[{\"page\":1,\"pages\":1,\"per_page\":\"50\",\"total\":1},[{\"id\":\"USA\",\"iso2Code\":\"US\",\"name\":\"United States\",\"region\":{\"id\":\"NAC\",\"iso2code\":\"XU\",\"value\":\"North America\"},\"adminregion\":{\"id\":\"\",\"iso2code\":\"\",\"value\":\"\"},\"incomeLevel\":{\"id\":\"HIC\",\"iso2code\":\"XD\",\"value\":\"High income\"},\"lendingType\":{\"id\":\"LNX\",\"iso2code\":\"XX\",\"value\":\"Not classified\"},\"capitalCity\":\"Washington D.C.\",\"longitude\":\"-77.032\",\"latitude\":\"38.8895\"}]]"
                }
              ],
              "schema": {
                "country": "string",
                "response": "string"
              }
            },
            "isSummary": false,
            "language": "scala"
          },
          "persist_state": {
            "view": {
              "type": "details",
              "tableOptions": {},
              "chartOptions": {
                "chartType": "bar",
                "aggregationType": "count",
                "categoryFieldKeys": [
                  "country"
                ],
                "seriesFieldKeys": [
                  "country"
                ],
                "isStacked": false
              }
            }
          }
        }
      }
    }
  },
  "nbformat": 4,
  "nbformat_minor": 2
}